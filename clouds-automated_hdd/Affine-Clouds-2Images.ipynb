{
 "cells": [
  {
   "cell_type": "code",
   "execution_count": 133,
   "metadata": {
    "collapsed": true
   },
   "outputs": [],
   "source": [
    "#!/usr/bin/env python\n",
    "#-*- coding:utf-8 -*-\n",
    "import sys\n",
    "import os\n",
    "import numpy as np\n",
    "from PIL import Image\n",
    "\n",
    "np.set_printoptions(suppress=True)"
   ]
  },
  {
   "cell_type": "code",
   "execution_count": 134,
   "metadata": {
    "collapsed": false
   },
   "outputs": [],
   "source": [
    "# A) =Вход=\n",
    "# 1) 2 файла изображений стереопары (в некой папке img/):\n",
    "# 20160824-174253-406-1.jpg\n",
    "# 20160824-174253-406-2.jpg\n",
    "\n",
    "date = \"20160906-145956-781\"\n",
    "\n",
    "# for ipynb\n",
    "fname_left = 'img/' + date + '-1.jpg'\n",
    "fname_right = 'img/' + date + '-2.jpg'\n",
    "\n",
    "# for cmd line run\n",
    "# fname_left = os.path.abspath(sys.argv[0])\n",
    "# fname_right = os.path.abspath(sys.argv[1])"
   ]
  },
  {
   "cell_type": "code",
   "execution_count": 135,
   "metadata": {
    "collapsed": false
   },
   "outputs": [
    {
     "name": "stdout",
     "output_type": "stream",
     "text": [
      "Images loaded as grayscale:\n",
      "img/20160906-145956-781-1.jpg\n",
      "img/20160906-145956-781-2.jpg\n"
     ]
    }
   ],
   "source": [
    "img_left = Image.open(fname_left).convert(mode='L')\n",
    "img_right = Image.open(fname_right).convert(mode='L')\n",
    "print \"\"\"Images loaded as grayscale:\n",
    "%s\n",
    "%s\"\"\" % (fname_left, fname_right)"
   ]
  },
  {
   "cell_type": "code",
   "execution_count": 136,
   "metadata": {
    "collapsed": false
   },
   "outputs": [
    {
     "name": "stdout",
     "output_type": "stream",
     "text": [
      "Align coeeficients:\n",
      "[   0.9949    0.0058   -0.0115    1.0016  247.9095   47.3994    0.        0.    ]\n"
     ]
    }
   ],
   "source": [
    "# 2) Конфигурация эксперимента\n",
    "# Txt-файлы (в папке config) \n",
    "# * Аффинные+дисторсные коэффициенты для цифровой юстировки стереопары:\n",
    "# файл aff_dist.txt: a, b, c, d, e, f, eps1, eps2 -- 8 коэффициентов\n",
    "\n",
    "# rX = a*lX + b*lY + e - eps1*z_x(lX, lY) + eps2*z_x(rX, rY)\n",
    "# rY = c*lX + d*lY + f - eps1*z_y(lX, lY) + eps2*z_y(rX, rY),\n",
    "# where approximately(!):\n",
    "# z_x = (x-x0)*[ (x-x0)^2 +(y-y0)^2 ] = z_x(rX, rY) = z_x(lX, lY)\n",
    "# z_y = (y-y0)*[ (x-x0)^2 +(y-y0)^2 ] = z_y(rX, rY) = z_y(lY, lY)\n",
    "\n",
    "align_coeffs = np.loadtxt('config/aff_dist.txt')\n",
    "\n",
    "print 'Align coeeficients:\\n', align_coeffs"
   ]
  },
  {
   "cell_type": "code",
   "execution_count": 137,
   "metadata": {
    "collapsed": false
   },
   "outputs": [],
   "source": [
    "# B) Алгоритм автоматизированного анализа стереопары\n",
    "\n",
    "# a) Подготовка к анализу:\n",
    "# -- Юстировка(\"Нормализация\") изображений для возможности анализа.\n",
    "a = align_coeffs[0];\n",
    "b = align_coeffs[1];\n",
    "c = align_coeffs[2];\n",
    "d = align_coeffs[3];\n",
    "e = align_coeffs[4];\n",
    "f = align_coeffs[5];\n",
    "eps1 = align_coeffs[6];\n",
    "eps2 = align_coeffs[7];"
   ]
  },
  {
   "cell_type": "code",
   "execution_count": 138,
   "metadata": {
    "collapsed": true
   },
   "outputs": [],
   "source": [
    "det = a * d - b * c;\n",
    "inv_a = d / det;\n",
    "inv_b = -b / det;\n",
    "inv_c = -c / det;\n",
    "inv_d = a / det;"
   ]
  },
  {
   "cell_type": "code",
   "execution_count": 139,
   "metadata": {
    "collapsed": true
   },
   "outputs": [],
   "source": [
    "def affine_transform_point(x, y):\n",
    "    return [b * y + x * a + e , d * y + x * c + f]"
   ]
  },
  {
   "cell_type": "code",
   "execution_count": 140,
   "metadata": {
    "collapsed": false
   },
   "outputs": [],
   "source": [
    "def apply_affine(img_left, img_right):\n",
    "    width = img_left.width\n",
    "    height = img_left.height\n",
    "    \n",
    "    aff_coord = np.zeros((4, 2))\n",
    "#     affine transformation of the corner points\n",
    "    aff_coord[0] = affine_transform_point(0, 0)\n",
    "    aff_coord[1] = affine_transform_point(width, 0)\n",
    "    aff_coord[2] = affine_transform_point(0, height)\n",
    "    aff_coord[3] = affine_transform_point(width, height)\n",
    "    \n",
    "#     the rightmost (biggest by value) x-coordinate of the transformed\n",
    "#     left-top and left-bottom x-coordinates\n",
    "    x0 = int( max(aff_coord[0, 0], aff_coord[2, 0]) )\n",
    "#     the lowermost (biggest by value) y-coordinate of the transformed\n",
    "#     left-top and right-top y-coordinates\n",
    "    y0 = int( max(aff_coord[0, 1], aff_coord[1, 1]) )\n",
    "#     the leftmost (smallest by value) x-coordinate of the transformed\n",
    "#     right-top and right-bottom x-coordinates\n",
    "    x1 = int( min(aff_coord[1, 0], aff_coord[3, 0]) )\n",
    "#     the uppermost (smallest by value) y-coordinate of the transformed\n",
    "#     left-bottom and right-bottom y-coordinates\n",
    "    y1 = int( min(aff_coord[2, 1], aff_coord[3, 1]) )\n",
    "    \n",
    "#     n_x0 -- x-coordinate of the new left-bot point\n",
    "    n_x0 = int( max(0, x0) )\n",
    "#     n_y0 -- y-coordinate of the new left-bot point\n",
    "    n_y0 = int( max(0, y0) )\n",
    "#     n_x1 -- x-coordinate of the new right-top point\n",
    "    n_x1 = int( min(width, x1) )\n",
    "#     n_y1 -- y-coordinate of the new right-top point\n",
    "    n_y1 = int( min(height, y1) )\n",
    "    \n",
    "    nw = n_x1 - n_x0 # new width\n",
    "    nh = n_y1 - n_y0 # new height\n",
    "    \n",
    "    new_left_img = Image.new(mode='L', size=(nw, nh))\n",
    "    new_right_img = Image.new(mode='L', size=(nw, nh))\n",
    "    \n",
    "    # Load pixmaps\n",
    "    l_pix = img_left.load()\n",
    "    r_pix = img_right.load()\n",
    "    nl_pix = new_left_img.load()\n",
    "    nr_pix = new_right_img.load()\n",
    "    \n",
    "    \n",
    "    \n",
    "    for  y in xrange(n_y0, n_y1):\n",
    "        for x in xrange(n_x0, n_x1):\n",
    "# Let's calculate backwards our original coordinates of the left image\n",
    "            orig_x = int( (x - e) * inv_a + (y - f) * inv_b )\n",
    "            orig_y = int( (x - e) * inv_c + (y - f) * inv_d )\n",
    "            \n",
    "#             assert(0 <= orig_x <= width)\n",
    "#             assert(0 <= orig_y <= height)\n",
    "            \n",
    "# paint new images with coordinates from (0,0) to (nw - 1, nh - 1)\n",
    "            nl_pix[x - n_x0, y - n_y0] = l_pix[orig_x, orig_y]\n",
    "            nr_pix[x - n_x0, y - n_y0] = r_pix[x, y]\n",
    "    \n",
    "    return (new_left_img, new_right_img)"
   ]
  },
  {
   "cell_type": "code",
   "execution_count": 141,
   "metadata": {
    "collapsed": true
   },
   "outputs": [],
   "source": [
    "img_left_n, img_right_n = apply_affine(img_left, img_right)\n",
    "\n",
    "img_left = img_left_n\n",
    "img_right = img_right_n"
   ]
  },
  {
   "cell_type": "code",
   "execution_count": 142,
   "metadata": {
    "collapsed": false
   },
   "outputs": [
    {
     "data": {
      "text/plain": [
       "'img/20160906-145956-781-1_aff_applied.png'"
      ]
     },
     "execution_count": 142,
     "metadata": {},
     "output_type": "execute_result"
    }
   ],
   "source": [
    "fname_left[:-4]+\"_aff_applied.png\""
   ]
  },
  {
   "cell_type": "code",
   "execution_count": 143,
   "metadata": {
    "collapsed": false
   },
   "outputs": [],
   "source": [
    "# img_left.save(fname_left[: -4] + \"_aff_applied.png\")\n",
    "# img_right.save(fname_right[: -4] + \"_aff_applied.png\")"
   ]
  },
  {
   "cell_type": "code",
   "execution_count": null,
   "metadata": {
    "collapsed": true
   },
   "outputs": [],
   "source": [
    "img_left"
   ]
  },
  {
   "cell_type": "code",
   "execution_count": null,
   "metadata": {
    "collapsed": true
   },
   "outputs": [],
   "source": [
    "img_right"
   ]
  }
 ],
 "metadata": {
  "kernelspec": {
   "display_name": "Python 2",
   "language": "python",
   "name": "python2"
  },
  "language_info": {
   "codemirror_mode": {
    "name": "ipython",
    "version": 2
   },
   "file_extension": ".py",
   "mimetype": "text/x-python",
   "name": "python",
   "nbconvert_exporter": "python",
   "pygments_lexer": "ipython2",
   "version": "2.7.11"
  }
 },
 "nbformat": 4,
 "nbformat_minor": 0
}
