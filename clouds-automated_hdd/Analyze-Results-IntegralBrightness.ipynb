{
 "cells": [
  {
   "cell_type": "code",
   "execution_count": 126,
   "metadata": {
    "collapsed": true
   },
   "outputs": [],
   "source": [
    "import numpy as np\n",
    "import matplotlib.pyplot as plt\n",
    "%matplotlib inline\n",
    "np.set_printoptions(precision=4, suppress=True)"
   ]
  },
  {
   "cell_type": "code",
   "execution_count": 127,
   "metadata": {
    "collapsed": true
   },
   "outputs": [],
   "source": [
    "h_laser_low = 1200\n",
    "h_laser_med = 1200\n",
    "h_laser_high = 1200"
   ]
  },
  {
   "cell_type": "code",
   "execution_count": 128,
   "metadata": {
    "collapsed": false
   },
   "outputs": [
    {
     "name": "stdout",
     "output_type": "stream",
     "text": [
      "20160908-172729-203\n"
     ]
    }
   ],
   "source": [
    "date = \"20160908-172729-203\"\n",
    "fname = 'results/' + date + '.txt'\n",
    "\n",
    "print date\n",
    "data = np.loadtxt(fname, dtype='float')"
   ]
  },
  {
   "cell_type": "code",
   "execution_count": 129,
   "metadata": {
    "collapsed": false
   },
   "outputs": [
    {
     "data": {
      "text/plain": [
       "(50, 4)"
      ]
     },
     "execution_count": 129,
     "metadata": {},
     "output_type": "execute_result"
    }
   ],
   "source": [
    "data.shape"
   ]
  },
  {
   "cell_type": "code",
   "execution_count": 130,
   "metadata": {
    "collapsed": false
   },
   "outputs": [],
   "source": [
    "pix_dist = data[: , 0].ravel()\n",
    "altitude = data[: , 1].ravel()\n",
    "alt_err = data[: , 2].ravel()\n",
    "# integral brightness of fragment\n",
    "int_brightness = data[:, 3].ravel()"
   ]
  },
  {
   "cell_type": "code",
   "execution_count": 131,
   "metadata": {
    "collapsed": false
   },
   "outputs": [],
   "source": [
    "# Remove all enlements with ratio error > max_ratio_err\n",
    "max_ratio_err = 0.7\n",
    "mask = ( alt_err / altitude <= max_ratio_err)\n",
    "\n",
    "pix_dist = pix_dist[mask]\n",
    "altitude = altitude[mask]\n",
    "alt_err = alt_err[mask]\n",
    "int_brightness = int_brightness[mask]"
   ]
  },
  {
   "cell_type": "code",
   "execution_count": 132,
   "metadata": {
    "collapsed": false,
    "scrolled": false
   },
   "outputs": [
    {
     "data": {
      "image/png": "[encoded data removed]",
      "text/plain": [
       "<matplotlib.figure.Figure at 0x7fbad957e8d0>"
      ]
     },
     "metadata": {},
     "output_type": "display_data"
    }
   ],
   "source": [
    "plt.figure(figsize=(10, 6))\n",
    "plt.errorbar(int_brightness, altitude, yerr=alt_err, marker='o', linestyle='None')\n",
    "plt.title(date)\n",
    "plt.xlabel('Integral brightness of fragment')\n",
    "plt.ylabel('Altitude, m')\n",
    "plt.plot(int_brightness, h_laser_low * np.ones_like(altitude), 'r', label='Laser')\n",
    "plt.plot(int_brightness, h_laser_med * np.ones_like(altitude), 'r')\n",
    "plt.plot(int_brightness, h_laser_high * np.ones_like(altitude), 'r')\n",
    "plt.legend(loc='best')\n",
    "plt.ylim( (min( altitude.min(), 0.6 * h_laser_low),\n",
    "           max(altitude.max(), 1.1 * h_laser_high)) )\n",
    "plt.savefig('results/' +'plot_' + date + '_' + str(altitude.shape[0]) + '.png')"
   ]
  },
  {
   "cell_type": "code",
   "execution_count": 133,
   "metadata": {
    "collapsed": false,
    "scrolled": true
   },
   "outputs": [
    {
     "name": "stdout",
     "output_type": "stream",
     "text": [
      "[ 1174.5315  1810.7361  1810.7361  1609.5432  1609.5432  1278.1666\n",
      "  1738.3066  1448.5889  1401.8602  1278.1666  1278.1666  1810.7361\n",
      "   334.2897   448.0172  1358.0521  1609.5432  1552.0595  1552.0595\n",
      "  1552.0595  1738.3066  1401.8602  1278.1666   342.1863  1358.0521\n",
      "  1241.6476  1609.5432  1316.899   1552.0595  1810.7361  1401.8602\n",
      "  1889.4637   434.5767   679.026   1448.5889  1552.0595  1671.4487\n",
      "  1143.6228   362.1472  1034.7063   679.026   1358.0521  1975.3484\n",
      "  1278.1666  1143.6228  1609.5432   790.1394  1738.3066  1316.899\n",
      "  1609.5432  1975.3484]\n"
     ]
    }
   ],
   "source": [
    "print altitude"
   ]
  },
  {
   "cell_type": "code",
   "execution_count": null,
   "metadata": {
    "collapsed": true
   },
   "outputs": [],
   "source": []
  }
 ],
 "metadata": {
  "kernelspec": {
   "display_name": "Python 2",
   "language": "python",
   "name": "python2"
  },
  "language_info": {
   "codemirror_mode": {
    "name": "ipython",
    "version": 2
   },
   "file_extension": ".py",
   "mimetype": "text/x-python",
   "name": "python",
   "nbconvert_exporter": "python",
   "pygments_lexer": "ipython2",
   "version": "2.7.11"
  }
 },
 "nbformat": 4,
 "nbformat_minor": 0
}
