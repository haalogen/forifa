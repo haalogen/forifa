{
 "cells": [
  {
   "cell_type": "code",
   "execution_count": 193,
   "metadata": {
    "collapsed": true
   },
   "outputs": [],
   "source": [
    "import numpy as np\n",
    "import matplotlib.pyplot as plt\n",
    "%matplotlib inline\n",
    "np.set_printoptions(precision=4, suppress=True)"
   ]
  },
  {
   "cell_type": "code",
   "execution_count": 194,
   "metadata": {
    "collapsed": true
   },
   "outputs": [],
   "source": [
    "h_laser_low = 1000\n",
    "h_laser_med = 1000\n",
    "h_laser_high = 1000"
   ]
  },
  {
   "cell_type": "code",
   "execution_count": 195,
   "metadata": {
    "collapsed": false
   },
   "outputs": [
    {
     "name": "stdout",
     "output_type": "stream",
     "text": [
      "20160825-143207-156\n"
     ]
    }
   ],
   "source": [
    "date = \"20160825-143207-156\"\n",
    "fname = 'results/' + date + '.txt'\n",
    "\n",
    "print date\n",
    "data = np.loadtxt(fname)"
   ]
  },
  {
   "cell_type": "code",
   "execution_count": 196,
   "metadata": {
    "collapsed": false
   },
   "outputs": [
    {
     "data": {
      "text/plain": [
       "(50, 3)"
      ]
     },
     "execution_count": 196,
     "metadata": {},
     "output_type": "execute_result"
    }
   ],
   "source": [
    "data.shape"
   ]
  },
  {
   "cell_type": "code",
   "execution_count": 197,
   "metadata": {
    "collapsed": false
   },
   "outputs": [],
   "source": [
    "pix_dist = data[: , 0].ravel()\n",
    "altitude = data[: , 1].ravel()\n",
    "alt_err = data[: , 2].ravel()"
   ]
  },
  {
   "cell_type": "code",
   "execution_count": 198,
   "metadata": {
    "collapsed": false
   },
   "outputs": [
    {
     "name": "stdout",
     "output_type": "stream",
     "text": [
      "50\n",
      "50\n"
     ]
    }
   ],
   "source": [
    "print data.shape[0]\n",
    "\n",
    "idx_arr = altitude.argsort(axis=0)\n",
    "print idx_arr.shape[0]"
   ]
  },
  {
   "cell_type": "code",
   "execution_count": 199,
   "metadata": {
    "collapsed": false
   },
   "outputs": [],
   "source": [
    "pix_dist = pix_dist[idx_arr]\n",
    "altitude = altitude[idx_arr]\n",
    "alt_err = alt_err[idx_arr]"
   ]
  },
  {
   "cell_type": "code",
   "execution_count": 200,
   "metadata": {
    "collapsed": false
   },
   "outputs": [
    {
     "name": "stdout",
     "output_type": "stream",
     "text": [
      "[[  149.       291.6622    30.3296]\n",
      " [  148.       293.6329    30.538 ]\n",
      " [  136.       319.5417    33.2841]\n",
      " [  121.       359.1543    37.5083]\n",
      " [   85.       511.2667    54.0763]\n",
      " [   60.       724.2944    78.4936]\n",
      " [   42.      1034.7063   117.5249]\n",
      " [   39.      1114.2991   128.33  ]\n",
      " [   36.      1207.1574   141.3968]\n",
      " [   36.      1207.1574   141.3968]\n",
      " [   36.      1207.1574   141.3968]\n",
      " [   36.      1207.1574   141.3968]\n",
      " [   36.      1207.1574   141.3968]\n",
      " [   36.      1207.1574   141.3968]\n",
      " [   35.      1241.6476   146.3817]\n",
      " [   35.      1241.6476   146.3817]\n",
      " [   35.      1241.6476   146.3817]\n",
      " [   34.      1278.1666   151.7399]\n",
      " [   34.      1278.1666   151.7399]\n",
      " [   34.      1278.1666   151.7399]\n",
      " [   33.      1316.899    157.5144]\n",
      " [   33.      1316.899    157.5144]\n",
      " [   33.      1316.899    157.5144]\n",
      " [   32.      1358.0521   163.755 ]\n",
      " [   32.      1358.0521   163.755 ]\n",
      " [   31.      1401.8602   170.5195]\n",
      " [   31.      1401.8602   170.5195]\n",
      " [   31.      1401.8602   170.5195]\n",
      " [   29.      1498.5402   185.9019]\n",
      " [   29.      1498.5402   185.9019]\n",
      " [   29.      1498.5402   185.9019]\n",
      " [   29.      1498.5402   185.9019]\n",
      " [   29.      1498.5402   185.9019]\n",
      " [   27.      1609.5432   204.3578]\n",
      " [   27.      1609.5432   204.3578]\n",
      " [   27.      1609.5432   204.3578]\n",
      " [   27.      1609.5432   204.3578]\n",
      " [   27.      1609.5432   204.3578]\n",
      " [   26.      1671.4487   215.0307]\n",
      " [   26.      1671.4487   215.0307]\n",
      " [   26.      1671.4487   215.0307]\n",
      " [   26.      1671.4487   215.0307]\n",
      " [   25.      1738.3066   226.8706]\n",
      " [   25.      1738.3066   226.8706]\n",
      " [   25.      1738.3066   226.8706]\n",
      " [   25.      1738.3066   226.8706]\n",
      " [   25.      1738.3066   226.8706]\n",
      " [   24.      1810.7361   240.0706]\n",
      " [   24.      1810.7361   240.0706]\n",
      " [   24.      1810.7361   240.0706]]\n"
     ]
    }
   ],
   "source": [
    "# Make data sorted by altitude\n",
    "data[:, 0] = pix_dist\n",
    "data[:, 1] = altitude\n",
    "data[:, 2] = alt_err\n",
    "# Leave only lines with alt_error less than 50% of altitude\n",
    "data = data[ data[:, 2] / data[:, 1] < 0.5 ]\n",
    "print data"
   ]
  },
  {
   "cell_type": "code",
   "execution_count": 201,
   "metadata": {
    "collapsed": false
   },
   "outputs": [
    {
     "data": {
      "text/plain": [
       "(50, 3)"
      ]
     },
     "execution_count": 201,
     "metadata": {},
     "output_type": "execute_result"
    }
   ],
   "source": [
    "# Shape after removing items with ratio_err > 50%\n",
    "data.shape"
   ]
  },
  {
   "cell_type": "code",
   "execution_count": 202,
   "metadata": {
    "collapsed": true
   },
   "outputs": [],
   "source": [
    "pix_dist = data[: , 0].ravel()\n",
    "altitude = data[: , 1].ravel()\n",
    "alt_err = data[: , 2].ravel()"
   ]
  },
  {
   "cell_type": "code",
   "execution_count": 203,
   "metadata": {
    "collapsed": false,
    "scrolled": false
   },
   "outputs": [
    {
     "data": {
      "image/png": "[encoded data removed]",
      "text/plain": [
       "<matplotlib.figure.Figure at 0x7ffccefd12d0>"
      ]
     },
     "metadata": {},
     "output_type": "display_data"
    }
   ],
   "source": [
    "plt.figure(figsize=(10, 6))\n",
    "plt.errorbar(range(altitude.shape[0]), altitude, yerr=alt_err, marker='o', linestyle='None')\n",
    "plt.title(date)\n",
    "plt.xlabel('Number of experiment')\n",
    "plt.ylabel('Altitude, m')\n",
    "plt.plot(range(altitude.shape[0]), h_laser_low * np.ones_like(altitude), 'r', label='Laser')\n",
    "plt.plot(range(altitude.shape[0]), h_laser_med * np.ones_like(altitude), 'r')\n",
    "plt.plot(range(altitude.shape[0]), h_laser_high * np.ones_like(altitude), 'r')\n",
    "plt.legend(loc = 'upper left')\n",
    "plt.ylim( (min( altitude.min(), 0.6 * h_laser_low),\n",
    "           max(altitude.max(), 1.1 * h_laser_high)) )\n",
    "plt.savefig('results/' +'plot_' + date + '_' + str(altitude.shape[0]) + '.png')"
   ]
  },
  {
   "cell_type": "code",
   "execution_count": 204,
   "metadata": {
    "collapsed": false,
    "scrolled": true
   },
   "outputs": [
    {
     "name": "stdout",
     "output_type": "stream",
     "text": [
      "[  291.6622   293.6329   319.5417   359.1543   511.2667   724.2944\n",
      "  1034.7063  1114.2991  1207.1574  1207.1574  1207.1574  1207.1574\n",
      "  1207.1574  1207.1574  1241.6476  1241.6476  1241.6476  1278.1666\n",
      "  1278.1666  1278.1666  1316.899   1316.899   1316.899   1358.0521\n",
      "  1358.0521  1401.8602  1401.8602  1401.8602  1498.5402  1498.5402\n",
      "  1498.5402  1498.5402  1498.5402  1609.5432  1609.5432  1609.5432\n",
      "  1609.5432  1609.5432  1671.4487  1671.4487  1671.4487  1671.4487\n",
      "  1738.3066  1738.3066  1738.3066  1738.3066  1738.3066  1810.7361\n",
      "  1810.7361  1810.7361]\n"
     ]
    }
   ],
   "source": [
    "print altitude"
   ]
  },
  {
   "cell_type": "code",
   "execution_count": null,
   "metadata": {
    "collapsed": true
   },
   "outputs": [],
   "source": []
  }
 ],
 "metadata": {
  "kernelspec": {
   "display_name": "Python 2",
   "language": "python",
   "name": "python2"
  },
  "language_info": {
   "codemirror_mode": {
    "name": "ipython",
    "version": 2
   },
   "file_extension": ".py",
   "mimetype": "text/x-python",
   "name": "python",
   "nbconvert_exporter": "python",
   "pygments_lexer": "ipython2",
   "version": "2.7.11"
  }
 },
 "nbformat": 4,
 "nbformat_minor": 0
}
