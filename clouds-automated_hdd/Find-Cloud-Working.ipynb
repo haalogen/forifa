{
 "cells": [
  {
   "cell_type": "code",
   "execution_count": null,
   "metadata": {
    "collapsed": true
   },
   "outputs": [],
   "source": [
    "import numpy as np\n",
    "from PIL import Image\n",
    "import matplotlib.pyplot as plt\n",
    "%matplotlib inline"
   ]
  },
  {
   "cell_type": "code",
   "execution_count": null,
   "metadata": {
    "collapsed": true
   },
   "outputs": [],
   "source": [
    "np.set_printoptions(precision=4)"
   ]
  },
  {
   "cell_type": "code",
   "execution_count": null,
   "metadata": {
    "collapsed": false
   },
   "outputs": [],
   "source": [
    "# g === area (big image)\n",
    "# f === fragment\n",
    "g = Image.open('img/20160825-143207-156-1.jpg').convert('L')\n",
    "\n",
    "wg = g.width // 6\n",
    "hg = g.height // 6\n",
    "xg = 200\n",
    "yg = 200\n",
    "\n",
    "box = (xg, yg, xg + wg, yg + hg)\n",
    "g = g.crop(box)\n",
    "g"
   ]
  },
  {
   "cell_type": "code",
   "execution_count": null,
   "metadata": {
    "collapsed": false
   },
   "outputs": [],
   "source": [
    "print g.size\n",
    "g_mat = np.asarray(g.getdata(), dtype=int).reshape(g.size[1], g.size[0])"
   ]
  },
  {
   "cell_type": "code",
   "execution_count": null,
   "metadata": {
    "collapsed": false
   },
   "outputs": [],
   "source": [
    "# Crop fragment from area image\n",
    "wf = 100\n",
    "hf = 100\n",
    "# For moving averages computing\n",
    "offset_x = 20\n",
    "offset_y = 20\n",
    "xf = np.random.randint(offset_x, g.size[0] - wf - offset_x)\n",
    "yf = np.random.randint(offset_y, g.size[1] - hf - offset_y)\n",
    "\n",
    "\n",
    "crop_box = (xf, yf, xf + wf, yf + hf)\n",
    "f = g.crop(crop_box)\n",
    "print f.size\n",
    "print yf, xf\n",
    "f"
   ]
  },
  {
   "cell_type": "code",
   "execution_count": null,
   "metadata": {
    "collapsed": false
   },
   "outputs": [],
   "source": [
    "# Create matrix of fragment\n",
    "f_mat = np.asarray(f.getdata(), dtype=np.int).reshape(f.size[1], f.size[0])\n",
    "# Flip matrix\n",
    "f_mat = np.fliplr(f_mat)\n",
    "f_mat = np.flipud(f_mat)\n",
    "\n",
    "Image.fromarray(f_mat.astype('uint8'), 'L')"
   ]
  },
  {
   "cell_type": "code",
   "execution_count": null,
   "metadata": {
    "collapsed": true
   },
   "outputs": [],
   "source": [
    "num_shades = 256\n",
    "# Create indicators of f\n",
    "# of size == g.size\n",
    "chi = np.zeros((num_shades, g.size[1], g.size[0]), dtype=bool)"
   ]
  },
  {
   "cell_type": "code",
   "execution_count": null,
   "metadata": {
    "collapsed": false
   },
   "outputs": [],
   "source": [
    "# fill the indicators\n",
    "for h in xrange(f.size[1]):\n",
    "    for w in xrange(f.size[0]):\n",
    "        color = f_mat[h, w]\n",
    "        chi[color, h, w] = True"
   ]
  },
  {
   "cell_type": "code",
   "execution_count": null,
   "metadata": {
    "collapsed": false
   },
   "outputs": [],
   "source": [
    "Image.fromarray(chi.sum(axis=0).astype('uint8')*(num_shades - 1), 'L')"
   ]
  },
  {
   "cell_type": "code",
   "execution_count": null,
   "metadata": {
    "collapsed": false
   },
   "outputs": [],
   "source": [
    "# chi_elems[i] === number of pixels that have color \"i\"\n",
    "chi_elems = np.array( f.histogram() )\n",
    "print chi_elems"
   ]
  },
  {
   "cell_type": "code",
   "execution_count": null,
   "metadata": {
    "collapsed": false
   },
   "outputs": [],
   "source": [
    "fft_chi = np.fft.fft2(chi)"
   ]
  },
  {
   "cell_type": "code",
   "execution_count": null,
   "metadata": {
    "collapsed": false
   },
   "outputs": [],
   "source": [
    "fft_g = np.fft.fft2(g_mat)"
   ]
  },
  {
   "cell_type": "code",
   "execution_count": null,
   "metadata": {
    "collapsed": false
   },
   "outputs": [],
   "source": [
    "# Scalar product (g_frag, chi[i])\n",
    "sp_g_frag_chi = np.zeros((num_shades, g.size[1] - hf, g.size[0] - wf))\n",
    "\n",
    "for i in xrange(num_shades):\n",
    "    if chi_elems[i] > 0:\n",
    "        sp_g_frag_chi[i] = np.fft.ifft2(fft_g * fft_chi[i])[hf:, wf:]"
   ]
  },
  {
   "cell_type": "code",
   "execution_count": null,
   "metadata": {
    "collapsed": false
   },
   "outputs": [],
   "source": [
    "# || Projection of g_frag on f ||^2\n",
    "norm_pr_gfrag_sqr = np.zeros((g.size[1] - hf, g.size[0] - wf))\n",
    "for i in xrange(num_shades):\n",
    "    if chi_elems[i] > 0:\n",
    "        norm_pr_gfrag_sqr += sp_g_frag_chi[i] ** 2 / float(chi_elems[i])\n",
    "        "
   ]
  },
  {
   "cell_type": "code",
   "execution_count": null,
   "metadata": {
    "collapsed": false
   },
   "outputs": [],
   "source": [
    "plt.plot(norm_pr_gfrag_sqr.ravel())"
   ]
  },
  {
   "cell_type": "code",
   "execution_count": null,
   "metadata": {
    "collapsed": false
   },
   "outputs": [],
   "source": [
    "# chi_X -- const field of vision\n",
    "# 1 1 1 0 0 ... 0\n",
    "# 1 1 1 0 0 ... 0\n",
    "# 1 1 1 0 0 ... 0\n",
    "# 0 0 0 0 0 ... 0\n",
    "# . . .\n",
    "# 0 0 0 0 0 ... 0\n",
    "chi_X = np.zeros((g.size[1], g.size[0]), dtype=bool)\n",
    "chi_X[:hf, :wf] = np.ones((hf, wf))\n",
    "\n",
    "print g_mat.min()\n",
    "print (g_mat**2).min()\n",
    "\n",
    "# || g ||^2\n",
    "fft_gsqr = np.fft.fft2(g_mat ** 2)\n",
    "fft_chi_X = np.fft.fft2(chi_X)\n",
    "norm_gfrag_sqr = np.fft.ifft2(fft_gsqr * fft_chi_X)[hf:, wf:].astype('float')\n",
    "\n",
    "# norm_gfrag_sqr = abs(norm_gfrag_sqr)"
   ]
  },
  {
   "cell_type": "code",
   "execution_count": null,
   "metadata": {
    "collapsed": false
   },
   "outputs": [],
   "source": [
    "plt.plot(norm_gfrag_sqr.ravel())"
   ]
  },
  {
   "cell_type": "code",
   "execution_count": null,
   "metadata": {
    "collapsed": false
   },
   "outputs": [],
   "source": [
    "# E_gfrag = np.fft.ifft2(fft_g * fft_chi_X)[hf:, wf:].astype('float')\n",
    "norm_E_gfrag_sqr = np.fft.ifft2(fft_g * fft_chi_X)[hf:, wf:].astype('float') \\\n",
    "                        ** 2 / (hf * wf)"
   ]
  },
  {
   "cell_type": "code",
   "execution_count": null,
   "metadata": {
    "collapsed": false
   },
   "outputs": [],
   "source": [
    "plt.plot(norm_E_gfrag_sqr.ravel())"
   ]
  },
  {
   "cell_type": "code",
   "execution_count": null,
   "metadata": {
    "collapsed": false
   },
   "outputs": [],
   "source": [
    "numerator = norm_gfrag_sqr - norm_pr_gfrag_sqr\n",
    "plt.plot(numerator.ravel())\n",
    "print numerator.min()"
   ]
  },
  {
   "cell_type": "code",
   "execution_count": null,
   "metadata": {
    "collapsed": false
   },
   "outputs": [],
   "source": [
    "denominator = norm_pr_gfrag_sqr - norm_E_gfrag_sqr\n",
    "plt.plot(denominator.ravel())"
   ]
  },
  {
   "cell_type": "code",
   "execution_count": null,
   "metadata": {
    "collapsed": false
   },
   "outputs": [],
   "source": [
    "tau = abs(numerator) / abs(denominator)\n",
    "plt.plot(tau.ravel(), label='tau')\n",
    "plt.legend()"
   ]
  },
  {
   "cell_type": "code",
   "execution_count": null,
   "metadata": {
    "collapsed": false
   },
   "outputs": [],
   "source": [
    "index = tau.argmin() \n",
    "x_min = index % tau.shape[1] + 1\n",
    "y_min = index // tau.shape[1] + 1\n",
    "print index\n",
    "print 'Should be:', true_idx\n",
    "print \"y_min, x_min: %d %d\" % (y_min, x_min)\n",
    "print 'Should be:', (yf, xf)"
   ]
  },
  {
   "cell_type": "code",
   "execution_count": null,
   "metadata": {
    "collapsed": false
   },
   "outputs": [],
   "source": [
    "Image.fromarray(g_mat[y_min : y_min + hf , x_min : x_min + wf].astype('uint8'), 'L')"
   ]
  },
  {
   "cell_type": "code",
   "execution_count": null,
   "metadata": {
    "collapsed": false
   },
   "outputs": [],
   "source": [
    "f"
   ]
  },
  {
   "cell_type": "code",
   "execution_count": null,
   "metadata": {
    "collapsed": true
   },
   "outputs": [],
   "source": []
  }
 ],
 "metadata": {
  "kernelspec": {
   "display_name": "Python 2",
   "language": "python",
   "name": "python2"
  },
  "language_info": {
   "codemirror_mode": {
    "name": "ipython",
    "version": 2
   },
   "file_extension": ".py",
   "mimetype": "text/x-python",
   "name": "python",
   "nbconvert_exporter": "python",
   "pygments_lexer": "ipython2",
   "version": "2.7.11"
  }
 },
 "nbformat": 4,
 "nbformat_minor": 0
}
