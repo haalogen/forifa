{
 "cells": [
  {
   "cell_type": "code",
   "execution_count": 1,
   "metadata": {
    "collapsed": false
   },
   "outputs": [
    {
     "name": "stdout",
     "output_type": "stream",
     "text": [
      "Populating the interactive namespace from numpy and matplotlib\n"
     ]
    }
   ],
   "source": [
    "import os\n",
    "import numpy as np\n",
    "from pylab import plot\n",
    "%pylab inline"
   ]
  },
  {
   "cell_type": "code",
   "execution_count": 2,
   "metadata": {
    "collapsed": true
   },
   "outputs": [],
   "source": [
    "\"\"\"\n",
    "Plot graph sigma^2(radius), M(radius)\n",
    "\"\"\";"
   ]
  },
  {
   "cell_type": "code",
   "execution_count": 3,
   "metadata": {
    "collapsed": true
   },
   "outputs": [],
   "source": [
    "# Min radius value without runout\n",
    "MIN_RAD = 450"
   ]
  },
  {
   "cell_type": "code",
   "execution_count": 4,
   "metadata": {
    "collapsed": true
   },
   "outputs": [],
   "source": [
    "np.set_printoptions(suppress=True)"
   ]
  },
  {
   "cell_type": "code",
   "execution_count": 5,
   "metadata": {
    "collapsed": true
   },
   "outputs": [],
   "source": [
    "results_folder = 'results/2016nov-11/exp-Feb-2017'"
   ]
  },
  {
   "cell_type": "code",
   "execution_count": 6,
   "metadata": {
    "collapsed": false
   },
   "outputs": [],
   "source": [
    "# Load data from files \"results_a.txt, results_d3.txt, results_d35.txt\"\n",
    "# (without header -- 1st string)\n",
    "res_fname = results_folder + os.sep + \"results_a.txt\"\n",
    "res_fname3 = results_folder + os.sep + \"results_d3.txt\"\n",
    "res_fname35 = results_folder + os.sep + \"results_d35.txt\""
   ]
  },
  {
   "cell_type": "code",
   "execution_count": 7,
   "metadata": {
    "collapsed": true
   },
   "outputs": [],
   "source": [
    "# load to arrays resA, resD3, resD35\n",
    "resA = np.loadtxt(res_fname)\n",
    "resD3 = np.loadtxt(res_fname3)\n",
    "resD35 = np.loadtxt(res_fname35)"
   ]
  },
  {
   "cell_type": "code",
   "execution_count": 8,
   "metadata": {
    "collapsed": false
   },
   "outputs": [
    {
     "name": "stdout",
     "output_type": "stream",
     "text": [
      "[[ 1050.            27.            24.32820661     9.14386168]\n",
      " [ 1100.            29.            39.27889361    14.91094874]\n",
      " [ 1150.            30.            47.7813909     13.40432586]\n",
      " [ 1200.            31.            57.69385657    15.03980382]\n",
      " [  777.            19.             6.42813291     4.82796336]]\n"
     ]
    }
   ],
   "source": [
    "print(resA[-5:])"
   ]
  },
  {
   "cell_type": "code",
   "execution_count": 9,
   "metadata": {
    "collapsed": false
   },
   "outputs": [],
   "source": [
    "# Make data unique in resA, resD3, resD35 \n",
    "# (remove duplicating rows)\n",
    "uniqueResA = np.vstack({tuple(row) for row in resA})\n",
    "uniqueResD3 = np.vstack({tuple(row) for row in resD3})\n",
    "uniqueResD35 = np.vstack({tuple(row) for row in resD35})"
   ]
  },
  {
   "cell_type": "code",
   "execution_count": 10,
   "metadata": {
    "collapsed": true
   },
   "outputs": [],
   "source": [
    "uniqueResA = uniqueResA[uniqueResA[:, 0] >= MIN_RAD]\n",
    "uniqueResD3 = uniqueResD3[uniqueResD3[:, 0] >= MIN_RAD]\n",
    "uniqueResD35 = uniqueResD35[uniqueResD35[:, 0] >= MIN_RAD]"
   ]
  },
  {
   "cell_type": "code",
   "execution_count": 11,
   "metadata": {
    "collapsed": true
   },
   "outputs": [],
   "source": [
    "uniqueResA = uniqueResA[uniqueResA[:,0].argsort()]\n",
    "uniqueResD3 = uniqueResD3[uniqueResD3[:,0].argsort()]\n",
    "uniqueResD35 = uniqueResD35[uniqueResD35[:,0].argsort()]"
   ]
  },
  {
   "cell_type": "code",
   "execution_count": 13,
   "metadata": {
    "collapsed": true
   },
   "outputs": [],
   "source": [
    "# Make arrays of radius, Num stars, sigma Squared, M\n",
    "radius = uniqueResA[:, 0]\n",
    "numStars = uniqueResA[:, 1]\n",
    "\n",
    "sigSqrA = uniqueResA[:, 2]\n",
    "sigSqrD3 = uniqueResD3[:, 2]\n",
    "sigSqrD35 = uniqueResD35[:, 2]\n",
    "\n",
    "mA = uniqueResA[:, 3]\n",
    "mD3 = uniqueResD3[:, 3]\n",
    "mD35 = uniqueResD35[:, 3]"
   ]
  },
  {
   "cell_type": "code",
   "execution_count": 14,
   "metadata": {
    "collapsed": true
   },
   "outputs": [],
   "source": [
    "# Plot sigma^2(radius), M(radius) with 3 curves on each (A, D3, D35)"
   ]
  },
  {
   "cell_type": "code",
   "execution_count": 15,
   "metadata": {
    "collapsed": false
   },
   "outputs": [
    {
     "data": {
      "text/plain": [
       "<matplotlib.legend.Legend at 0x7f461e6d6780>"
      ]
     },
     "execution_count": 15,
     "metadata": {},
     "output_type": "execute_result"
    },
    {
     "data": {
      "image/png": "[encoded data removed]",
      "text/plain": [
       "<matplotlib.figure.Figure at 0x7f4620b00470>"
      ]
     },
     "metadata": {},
     "output_type": "display_data"
    }
   ],
   "source": [
    "figSiqSqr = figure(figsize=(10, 6))\n",
    "\n",
    "text(500, 80, r'$\\sigma^2 = \\frac{1}{N} \\sum_{i=1}^{N} \\\n",
    "    \\left( \\Delta x_i^2 + \\Delta y_i^2 \\right)$', fontsize=20)\n",
    "plot(radius, sigSqrA, 'r+', label='affine')\n",
    "plot(radius, sigSqrD3, 'gv', label='distort3')\n",
    "plot(radius, sigSqrD35, 'bo', label='distort3+5')\n",
    "xlabel('Radius, px')\n",
    "ylabel(r'$\\sigma^2 $')\n",
    "legend(loc='best')"
   ]
  },
  {
   "cell_type": "code",
   "execution_count": 16,
   "metadata": {
    "collapsed": false
   },
   "outputs": [
    {
     "data": {
      "text/plain": [
       "<matplotlib.legend.Legend at 0x7f461e023d68>"
      ]
     },
     "execution_count": 16,
     "metadata": {},
     "output_type": "execute_result"
    },
    {
     "data": {
      "image/png": "[encoded data removed]",
      "text/plain": [
       "<matplotlib.figure.Figure at 0x7f461e05e240>"
      ]
     },
     "metadata": {},
     "output_type": "display_data"
    }
   ],
   "source": [
    "figM = figure(figsize=(10, 6))\n",
    "plot(radius, mA, 'r+', label='affine')\n",
    "plot(radius, mD3, 'gv', label='distort3')\n",
    "plot(radius, mD35, 'bo', label='distort3+5')\n",
    "xlabel('Radius, px')\n",
    "ylabel(r'$M $')\n",
    "text(500, 15, \n",
    "    r' $ M_x = \\max_{i=1,N} \\{\\Delta x_i\\}, $' + '\\n' +\n",
    "    r' $ M_y = \\max_{i=1,N} \\{\\Delta y_i\\}, $' + '\\n' +\n",
    "    r'$ M = \\max\\{M_x, M_y\\} $',\n",
    "    fontsize=15)\n",
    "legend(loc='best')"
   ]
  },
  {
   "cell_type": "code",
   "execution_count": null,
   "metadata": {
    "collapsed": true
   },
   "outputs": [],
   "source": []
  }
 ],
 "metadata": {
  "kernelspec": {
   "display_name": "Python 3",
   "language": "python",
   "name": "python3"
  },
  "language_info": {
   "codemirror_mode": {
    "name": "ipython",
    "version": 3
   },
   "file_extension": ".py",
   "mimetype": "text/x-python",
   "name": "python",
   "nbconvert_exporter": "python",
   "pygments_lexer": "ipython3",
   "version": "3.6.0"
  }
 },
 "nbformat": 4,
 "nbformat_minor": 2
}
