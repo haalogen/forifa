{
 "cells": [
  {
   "cell_type": "code",
   "execution_count": 1,
   "metadata": {
    "collapsed": false
   },
   "outputs": [],
   "source": [
    "# Here i'll try 2 stage calculating of transform\n",
    "# 1) Calculate rx, ry as Affine transform\n",
    "# 2) Use rx, ry(from stage 1) to calc distortion transform\n",
    "\n",
    "from PIL import Image\n",
    "import numpy as np\n",
    "import matplotlib.pyplot as plt\n",
    "\n",
    "np.set_printoptions(precision=2, suppress=True)\n",
    "\n",
    "%matplotlib inline"
   ]
  },
  {
   "cell_type": "code",
   "execution_count": 2,
   "metadata": {
    "collapsed": true
   },
   "outputs": [],
   "source": [
    "lImg_fname = 'data/stars/test1.png'\n",
    "rImg_fname = 'data/stars/test2.png'\n",
    "# lImg_fname = 'data/stars/Stars-3072x2304-1.png'\n",
    "# rImg_fname = 'data/stars/Stars-3072x2304-2.png'"
   ]
  },
  {
   "cell_type": "code",
   "execution_count": 3,
   "metadata": {
    "collapsed": false
   },
   "outputs": [],
   "source": [
    "lImg = Image.open(lImg_fname)\n",
    "rImg = Image.open(rImg_fname)\n",
    "l_data = lImg.load() # pixmap of lImg\n",
    "r_data = rImg.load() # pixmap of rImg"
   ]
  },
  {
   "cell_type": "code",
   "execution_count": 4,
   "metadata": {
    "collapsed": true
   },
   "outputs": [],
   "source": [
    "w, h = width, height = lImg.size"
   ]
  },
  {
   "cell_type": "code",
   "execution_count": 5,
   "metadata": {
    "collapsed": true
   },
   "outputs": [],
   "source": [
    "x_c, y_c = (width) / 2., (height) / 2. # center coordinates"
   ]
  },
  {
   "cell_type": "code",
   "execution_count": 6,
   "metadata": {
    "collapsed": true
   },
   "outputs": [],
   "source": [
    "fname_640x480 = 'data/coords_640x480.txt'\n",
    "# fname_3072x2304 = 'data/coords_3072x2304.txt'\n",
    "fname = fname_640x480\n",
    "# fname = fname_3072x2304\n",
    "coords = np.loadtxt(fname)"
   ]
  },
  {
   "cell_type": "code",
   "execution_count": 7,
   "metadata": {
    "collapsed": false
   },
   "outputs": [],
   "source": [
    "lX = coords[:, 0] # leftX coordinates\n",
    "lY = coords[:, 1] # leftY coordinates\n",
    "rX = coords[:, 2] # rightX coordinates\n",
    "rY = coords[:, 3] # rightY coordinates\n",
    "\n",
    "N = coords.shape[0] # number of pairs of points\n",
    "M = coords.shape[1] # lX, lY, rX, rY == 4"
   ]
  },
  {
   "cell_type": "code",
   "execution_count": 8,
   "metadata": {
    "collapsed": false
   },
   "outputs": [
    {
     "name": "stdout",
     "output_type": "stream",
     "text": [
      "Input coordinates from 'data/coords_640x480.txt': \n",
      "[[ 128.  205.  185.  218.]\n",
      " [ 148.  159.  200.  170.]\n",
      " [ 222.  167.  272.  180.]\n",
      " [ 226.  211.  279.  222.]\n",
      " [ 272.  236.  322.  248.]\n",
      " [ 305.  259.  357.  268.]\n",
      " [ 366.  256.  418.  266.]] \n",
      "\n"
     ]
    }
   ],
   "source": [
    "print 'Input coordinates from %r: \\n' % fname, coords, '\\n'"
   ]
  },
  {
   "cell_type": "code",
   "execution_count": 9,
   "metadata": {
    "collapsed": true
   },
   "outputs": [],
   "source": [
    "# Solve the system of linear equations via pseudo inversion\n",
    "\n",
    "# Below lX, lY, rX, rY mean lX[i], lY[i], rX[i], rY[i]:\n",
    "# rX = a*lX + b*lY + e + e_2*rX*(rX**2 + rY**2)**0.5\n",
    "# rY = c*lX + d*lY + f + e_2*rY*(rX**2 + rY**2)**0.5\n",
    "\n",
    "# xi = A*z + nu,      where:\n",
    "\n",
    "# xi.T = rX[0], rY[0] ... rX[N-1], rY[N-1]\n",
    "# z.T = a, b, c, d, e, f, e_2  -- 6 affine coeff-s + distortion coeff\n",
    "# nu -- vector of inaccuracy (?) I don't use it right now\n",
    "\n",
    "# A = [ # L = N-1   -- Last \n",
    "# lX[0] lY[0]  0     0      1  0  rX[0]*(rX[0]**2 + rY[0]**2)**0.5 ;\n",
    "# 0     0      lX[0] lY[0]  0  1  rY[0]*(rX[0]**2 + rY[0]**2)**0.5 ;\n",
    "# ...                                                          ... ;\n",
    "# ...                                                          ... ;\n",
    "# ...                                                          ... ;\n",
    "# lX[L] lY[L]  0     0      1  0  rX[L]*(rX[L]**2 + rY[L]**2)**0.5 ;\n",
    "# 0     0      lX[L] lY[L]  0  1  rY[L]*(rX[L]**2 + rY[L]**2)**0.5 . ]\n"
   ]
  },
  {
   "cell_type": "code",
   "execution_count": 10,
   "metadata": {
    "collapsed": false
   },
   "outputs": [],
   "source": [
    "xi = np.zeros(2*N)\n",
    "z = np.zeros(7)\n",
    "arr = np.zeros((2*N, 7)) # matrix A"
   ]
  },
  {
   "cell_type": "code",
   "execution_count": 11,
   "metadata": {
    "collapsed": false
   },
   "outputs": [],
   "source": [
    "for i in xrange(N): # fill the xi vector\n",
    "    xi[2*i] = rX[i]\n",
    "    xi[2*i + 1] = rY[i]"
   ]
  },
  {
   "cell_type": "code",
   "execution_count": 53,
   "metadata": {
    "collapsed": false
   },
   "outputs": [],
   "source": [
    "for i in xrange(N): # fill the A matrix\n",
    "    r = np.sqrt((rX[i]-x_c)**2 + (rY[i]-y_c)**2)\n",
    "\n",
    "    tmp = (rX[i] - x_c) * r\n",
    "#     tmp = 0 # for simple affine6 algorithm!; comment out other tmps\n",
    "    arr[2*i] = [lX[i], lY[i], 0, 0, 1, 0, tmp]\n",
    "    \n",
    "    tmp = (rY[i] - y_c) * r\n",
    "    arr[2*i + 1] = [0, 0, lX[i], lY[i], 0, 1, tmp]\n"
   ]
  },
  {
   "cell_type": "code",
   "execution_count": 54,
   "metadata": {
    "collapsed": true
   },
   "outputs": [
    {
     "name": "stdout",
     "output_type": "stream",
     "text": [
      "xi = A*z + nu\n",
      "xi:\n",
      "[ 185.  218.  200.  170.  272.  180.  279.  222.  322.  248.  357.  268.\n",
      "  418.  266.]\n",
      "A:\n",
      "[[   128.      205.        0.        0.        1.        0.   -18465.41]\n",
      " [     0.        0.      128.      205.        0.        1.    -3009.18]\n",
      " [   148.      159.        0.        0.        1.        0.   -16670.93]\n",
      " [     0.        0.      148.      159.        0.        1.    -9724.71]\n",
      " [   222.      167.        0.        0.        1.        0.    -3688.2 ]\n",
      " [     0.        0.      222.      167.        0.        1.    -4610.25]\n",
      " [   226.      211.        0.        0.        1.        0.    -1835.87]\n",
      " [     0.        0.      226.      211.        0.        1.     -805.99]\n",
      " [   272.      236.        0.        0.        1.        0.       16.49]\n",
      " [     0.        0.      272.      236.        0.        1.       65.97]\n",
      " [   305.      259.        0.        0.        1.        0.     1716.82]\n",
      " [     0.        0.      305.      259.        0.        1.     1299.21]\n",
      " [   366.      256.        0.        0.        1.        0.     9936.25]\n",
      " [     0.        0.      366.      256.        0.        1.     2636.15]] \n",
      "\n"
     ]
    }
   ],
   "source": [
    "print 'xi = A*z + nu'\n",
    "print 'xi:\\n', xi\n",
    "print 'A:\\n', arr, '\\n'\n"
   ]
  },
  {
   "cell_type": "code",
   "execution_count": 55,
   "metadata": {
    "collapsed": true
   },
   "outputs": [],
   "source": [
    "pinv_arr = np.linalg.pinv(arr) # Calculate pseudo inverted A\n",
    "z = np.dot(pinv_arr, xi)"
   ]
  },
  {
   "cell_type": "code",
   "execution_count": 56,
   "metadata": {
    "collapsed": false
   },
   "outputs": [
    {
     "name": "stdout",
     "output_type": "stream",
     "text": [
      "Result Affine:\n",
      "z: [  0.94261793   0.0667408   -0.00859657   0.97575576  52.36882831\n",
      "  18.82249077   0.00015763]\n"
     ]
    }
   ],
   "source": [
    "np.set_printoptions(precision=8, suppress=True)\n",
    "print 'Result Affine:'\n",
    "print 'z:', z\n",
    "np.set_printoptions(precision=2, suppress=True)"
   ]
  },
  {
   "cell_type": "code",
   "execution_count": 57,
   "metadata": {
    "collapsed": true
   },
   "outputs": [],
   "source": [
    "for i in xrange(width):\n",
    "    for j in xrange(height):\n",
    "        r, g, b = l_data[i, j]\n",
    "        l_data[i, j] = r, 0, 0  # color lImg in red\n",
    "        \n",
    "        r, g, b = r_data[i, j]\n",
    "        r_data[i, j] = 0, g, 0  # color rImg in green"
   ]
  },
  {
   "cell_type": "code",
   "execution_count": 58,
   "metadata": {
    "collapsed": true
   },
   "outputs": [],
   "source": [
    "l_data[x_c, y_c] = 255, 255, 255    # Mark the center\n",
    "l_data[x_c-1, y_c] = 255, 255, 255\n",
    "l_data[x_c+1, y_c] = 255, 255, 255\n",
    "l_data[x_c, y_c-1] = 255, 255, 255\n",
    "l_data[x_c, y_c+1] = 255, 255, 255"
   ]
  },
  {
   "cell_type": "code",
   "execution_count": 59,
   "metadata": {
    "collapsed": true
   },
   "outputs": [],
   "source": [
    "# Image.blend(lImg, rImg, alpha=0.5) # Initial blend"
   ]
  },
  {
   "cell_type": "code",
   "execution_count": 60,
   "metadata": {
    "collapsed": false
   },
   "outputs": [],
   "source": [
    "a = float(z[0])\n",
    "b = float(z[1])\n",
    "c = float(z[2])\n",
    "d = float(z[3])\n",
    "e = float(z[4])\n",
    "f = float(z[5])\n",
    "e_2 = float(z[6])\n",
    "data = (a, b, e, c, d, f) # affine coefficients"
   ]
  },
  {
   "cell_type": "code",
   "execution_count": 61,
   "metadata": {
    "collapsed": false
   },
   "outputs": [],
   "source": [
    "# aff_rImg = rImg.transform(rImg.size, Image.AFFINE, data, \n",
    "#                resample=Image.BICUBIC)\n",
    "\n",
    "# Image.blend(lImg, aff_rImg, alpha=0.5) # only affine transform"
   ]
  },
  {
   "cell_type": "code",
   "execution_count": 62,
   "metadata": {
    "collapsed": true
   },
   "outputs": [],
   "source": [
    "data = z\n",
    "a = float(data[0])\n",
    "b = float(data[1])\n",
    "c = float(data[2])\n",
    "d = float(data[3])\n",
    "e = float(data[4])\n",
    "f = float(data[5])\n",
    "e_2 = float(data[6])\n",
    "\n",
    "znam = a*d - b*c\n",
    "inv_a = d / znam\n",
    "inv_b = -b / znam\n",
    "inv_c = -c / znam\n",
    "inv_d = a / znam"
   ]
  },
  {
   "cell_type": "code",
   "execution_count": 66,
   "metadata": {
    "collapsed": true
   },
   "outputs": [],
   "source": [
    "def spec_transform(lx, ly, data=None):\n",
    "    \"\"\"Special transform: affine + distortion\n",
    "    data = [a, b, c, d, e, f, e_2]\n",
    "    lImg -> rImg\"\"\"\n",
    "    \n",
    "    rx = a*lx + b*ly + e\n",
    "    ry = c*lx + d*ly + f\n",
    "    \n",
    "    r = np.sqrt((rx-x_c)**2 + (ry-y_c)**2)\n",
    "    \n",
    "    nx = a*lx + b*ly + e + e_2*(rx-x_c)*r\n",
    "    ny = c*lx + d*ly + f + e_2*(ry-y_c)*r\n",
    "    \n",
    "    return (round(nx), round(ny))\n",
    "\n"
   ]
  },
  {
   "cell_type": "code",
   "execution_count": 67,
   "metadata": {
    "collapsed": true
   },
   "outputs": [],
   "source": [
    "def inv_transform(rx, ry, data=None):\n",
    "    \"\"\"Inverted Special transform: affine + distortion\n",
    "    data = [a, b, c, d, e, f, e_2]\n",
    "    right Img -> left Img\"\"\"\n",
    "    \n",
    "    r = np.sqrt((rx-x_c)**2 + (ry-y_c)**2)\n",
    "    fac = 1 - e_2*r  # factor\n",
    "    \n",
    "    orig_x = (rx*fac - e)*inv_a + (ry*fac - f)*inv_b + e_2*r*x_c\n",
    "    orig_y = (rx*fac - e)*inv_c + (ry*fac - f)*inv_d + e_2*r*y_c\n",
    "    \n",
    "    return (round(orig_x), round(orig_y))\n"
   ]
  },
  {
   "cell_type": "code",
   "execution_count": 68,
   "metadata": {
    "collapsed": true
   },
   "outputs": [],
   "source": [
    "coords_right = np.zeros((width, height, 2))"
   ]
  },
  {
   "cell_type": "code",
   "execution_count": 69,
   "metadata": {
    "collapsed": false
   },
   "outputs": [],
   "source": [
    "for i in xrange(width): #Calculating new (right) coordinates (Affine only)\n",
    "    for j in xrange(height):\n",
    "        rx, ry = spec_transform(i, j, z)\n",
    "        coords_right[i, j, 0], coords_right[i, j, 1] = rx, ry\n",
    "        "
   ]
  },
  {
   "cell_type": "code",
   "execution_count": 70,
   "metadata": {
    "collapsed": true
   },
   "outputs": [
    {
     "name": "stdout",
     "output_type": "stream",
     "text": [
      "Coords_right:\n",
      "[[[  38.    7.]\n",
      "  [  38.    8.]\n",
      "  [  38.    9.]\n",
      "  ..., \n",
      "  [  72.  497.]\n",
      "  [  72.  498.]\n",
      "  [  72.  499.]]\n",
      "\n",
      " [[  39.    7.]\n",
      "  [  39.    8.]\n",
      "  [  39.    9.]\n",
      "  ..., \n",
      "  [  73.  497.]\n",
      "  [  73.  498.]\n",
      "  [  73.  499.]]\n",
      "\n",
      " [[  40.    7.]\n",
      "  [  40.    8.]\n",
      "  [  40.    9.]\n",
      "  ..., \n",
      "  [  74.  497.]\n",
      "  [  74.  498.]\n",
      "  [  74.  499.]]\n",
      "\n",
      " ..., \n",
      " [[ 674.   -1.]\n",
      "  [ 674.    0.]\n",
      "  [ 674.    1.]\n",
      "  ..., \n",
      "  [ 710.  495.]\n",
      "  [ 710.  496.]\n",
      "  [ 710.  497.]]\n",
      "\n",
      " [[ 675.   -1.]\n",
      "  [ 675.   -0.]\n",
      "  [ 675.    1.]\n",
      "  ..., \n",
      "  [ 711.  495.]\n",
      "  [ 711.  496.]\n",
      "  [ 711.  497.]]\n",
      "\n",
      " [[ 676.   -1.]\n",
      "  [ 676.   -0.]\n",
      "  [ 676.    1.]\n",
      "  ..., \n",
      "  [ 712.  495.]\n",
      "  [ 712.  496.]\n",
      "  [ 712.  497.]]] \n",
      "\n"
     ]
    }
   ],
   "source": [
    "print 'Coords_right:\\n', coords_right, '\\n'\n"
   ]
  },
  {
   "cell_type": "code",
   "execution_count": 71,
   "metadata": {
    "collapsed": false
   },
   "outputs": [
    {
     "name": "stdout",
     "output_type": "stream",
     "text": [
      "l_edge: 72.0\n",
      "r_edge: 676.0\n",
      "t_edge: 9.0\n",
      "b_edge: 493.0\n"
     ]
    }
   ],
   "source": [
    "# Crop rect out of calculated right img\n",
    "l_edge = max(coords_right[0, :, 0])\n",
    "print 'l_edge:', l_edge\n",
    "\n",
    "r_edge = min(coords_right[width-1, :, 0])\n",
    "print 'r_edge:', r_edge\n",
    "\n",
    "t_edge = max(coords_right[:, 0, 1])\n",
    "print 't_edge:', t_edge\n",
    "\n",
    "b_edge = min(coords_right[:, height-1, 1])\n",
    "print 'b_edge:', b_edge"
   ]
  },
  {
   "cell_type": "code",
   "execution_count": 72,
   "metadata": {
    "collapsed": false
   },
   "outputs": [
    {
     "data": {
      "image/png": "[encoded data removed]",
      "text/plain": [
       "<matplotlib.figure.Figure at 0x7fb833b724d0>"
      ]
     },
     "metadata": {},
     "output_type": "display_data"
    }
   ],
   "source": [
    "plt.plot(coords_right[:,:,0], coords_right[:,:,1], 'y,')\n",
    "\n",
    "xmin, xmax = plt.xlim()\n",
    "plt.xlim(xmin-100, xmax+100)\n",
    "xmin, xmax = plt.xlim()\n",
    "\n",
    "ymin, ymax = plt.ylim()\n",
    "\n",
    "# Left image rect\n",
    "left_x = [0, width-1]\n",
    "left_y = [0, height-1]\n",
    "plt.vlines(left_x, ymin, ymax, colors='r')\n",
    "plt.hlines(left_y, xmin, xmax, colors='r')\n",
    "\n",
    "# Right cropped img rect\n",
    "right_x = [l_edge, r_edge]\n",
    "right_y = [t_edge, b_edge]\n",
    "plt.vlines(right_x, ymin, ymax, colors='b')\n",
    "plt.hlines(right_y, xmin, xmax, colors='b')\n",
    "\n",
    "\n",
    "plt.show()"
   ]
  },
  {
   "cell_type": "code",
   "execution_count": 73,
   "metadata": {
    "collapsed": false
   },
   "outputs": [],
   "source": [
    "# Edges (right spec_transformed img)\n",
    "left = max(list(coords_right[0, :, 0]) + [0])\n",
    "top = max(list(coords_right[:, 0, 1]) + [0])\n",
    "right = min(list(coords_right[-1, :, 0]) + [width-1])\n",
    "bottom = min(list(coords_right[:, -1, 1]) + [height-1])"
   ]
  },
  {
   "cell_type": "code",
   "execution_count": 74,
   "metadata": {
    "collapsed": false
   },
   "outputs": [
    {
     "name": "stdout",
     "output_type": "stream",
     "text": [
      "Edges (right spec_transformed img)\n",
      "left 72.0\n",
      "top 9.0\n",
      "right 639\n",
      "bottom 479\n"
     ]
    }
   ],
   "source": [
    "print 'Edges (right spec_transformed img)'\n",
    "print 'left', left\n",
    "print 'top', top\n",
    "print 'right', right\n",
    "print 'bottom', bottom\n",
    "\n",
    "# Corners of box:\n",
    "# (left, top); (right, bottom)"
   ]
  },
  {
   "cell_type": "code",
   "execution_count": 75,
   "metadata": {
    "collapsed": false
   },
   "outputs": [
    {
     "name": "stdout",
     "output_type": "stream",
     "text": [
      "New size: 568 471\n"
     ]
    }
   ],
   "source": [
    "nw = int(right+1 - left)\n",
    "nh = int(bottom+1 - top)\n",
    "\n",
    "print 'New size:', nw, nh"
   ]
  },
  {
   "cell_type": "code",
   "execution_count": 76,
   "metadata": {
    "collapsed": false
   },
   "outputs": [],
   "source": [
    "new_lImg = Image.new('RGB', size=(nw, nh))\n",
    "new_rImg = Image.new('RGB', size=(nw, nh))\n",
    "new_lImg_pix = new_lImg.load()\n",
    "new_rImg_pix = new_rImg.load()\n",
    "\n",
    "n_left_coords = np.zeros((nw, nh, 2))"
   ]
  },
  {
   "cell_type": "code",
   "execution_count": 77,
   "metadata": {
    "collapsed": false
   },
   "outputs": [],
   "source": [
    "left = int(left)\n",
    "right = int(right)\n",
    "top = int(top)\n",
    "bottom = int (bottom)\n",
    "\n",
    "# Let's calculate backwards our original coordinates \n",
    "# of the left image\n",
    "for x in xrange(left, right+1):\n",
    "    for y in xrange(top, bottom+1):\n",
    "        orig_x, orig_y = inv_transform(x, y)\n",
    "        \n",
    "# Throw away points out of original left img area(box)\n",
    "        if orig_x < 0:\n",
    "            orig_x = 0\n",
    "        if orig_y < 0:\n",
    "            orig_y = 0\n",
    "            \n",
    "        if orig_x >= width:\n",
    "            orig_x = width-1\n",
    "        if orig_y >= height:\n",
    "            orig_y = height-1\n",
    "        \n",
    "        n_left_coords[x-left, y-top, 0] = orig_x\n",
    "        n_left_coords[x-left, y-top, 1] = orig_y\n",
    "        \n",
    "        new_lImg_pix[x-left, y-top] = l_data[orig_x, orig_y]\n",
    "        new_rImg_pix[x-left, y-top] = r_data[x, y]\n"
   ]
  },
  {
   "cell_type": "code",
   "execution_count": 78,
   "metadata": {
    "collapsed": false,
    "scrolled": true
   },
   "outputs": [
    {
     "name": "stdout",
     "output_type": "stream",
     "text": [
      "[[[  35.    2.]\n",
      "  [  34.    3.]\n",
      "  [  34.    4.]\n",
      "  ..., \n",
      "  [   3.  456.]\n",
      "  [   3.  457.]\n",
      "  [   3.  458.]]\n",
      "\n",
      " [[  36.    2.]\n",
      "  [  35.    3.]\n",
      "  [  35.    4.]\n",
      "  ..., \n",
      "  [   4.  456.]\n",
      "  [   4.  457.]\n",
      "  [   4.  458.]]\n",
      "\n",
      " [[  37.    2.]\n",
      "  [  36.    3.]\n",
      "  [  36.    4.]\n",
      "  ..., \n",
      "  [   5.  456.]\n",
      "  [   5.  457.]\n",
      "  [   4.  458.]]\n",
      "\n",
      " ..., \n",
      " [[ 599.    9.]\n",
      "  [ 599.   10.]\n",
      "  [ 599.   11.]\n",
      "  ..., \n",
      "  [ 567.  459.]\n",
      "  [ 566.  460.]\n",
      "  [ 566.  461.]]\n",
      "\n",
      " [[ 600.    9.]\n",
      "  [ 600.   10.]\n",
      "  [ 599.   11.]\n",
      "  ..., \n",
      "  [ 568.  459.]\n",
      "  [ 567.  460.]\n",
      "  [ 567.  461.]]\n",
      "\n",
      " [[ 601.    9.]\n",
      "  [ 600.   10.]\n",
      "  [ 600.   11.]\n",
      "  ..., \n",
      "  [ 569.  459.]\n",
      "  [ 568.  460.]\n",
      "  [ 568.  461.]]]\n"
     ]
    }
   ],
   "source": [
    "print n_left_coords"
   ]
  },
  {
   "cell_type": "code",
   "execution_count": 79,
   "metadata": {
    "collapsed": false
   },
   "outputs": [
    {
     "data": {
      "image/png": "[encoded data removed]",
      "text/plain": [
       "<matplotlib.figure.Figure at 0x7fb8345937d0>"
      ]
     },
     "metadata": {},
     "output_type": "display_data"
    }
   ],
   "source": [
    "plt.plot(n_left_coords[:,:,0], n_left_coords[:,:,1], ',y')\n",
    "plt.show()"
   ]
  },
  {
   "cell_type": "code",
   "execution_count": 80,
   "metadata": {
    "collapsed": false
   },
   "outputs": [],
   "source": [
    "t = n_left_coords\n",
    "x_mask = (t[:,:,0] > 0) * (t[:,:,0] < width)\n",
    "y_mask = (t[:,:,1] > 0) * (t[:,:,1] < height)\n",
    "mask = x_mask * y_mask"
   ]
  },
  {
   "cell_type": "code",
   "execution_count": 81,
   "metadata": {
    "collapsed": true
   },
   "outputs": [
    {
     "name": "stdout",
     "output_type": "stream",
     "text": [
      "x_mask:\n",
      "[[ True  True  True ...,  True  True  True]\n",
      " [ True  True  True ...,  True  True  True]\n",
      " [ True  True  True ...,  True  True  True]\n",
      " ..., \n",
      " [ True  True  True ...,  True  True  True]\n",
      " [ True  True  True ...,  True  True  True]\n",
      " [ True  True  True ...,  True  True  True]]\n",
      "y_mask:\n",
      "[[ True  True  True ...,  True  True  True]\n",
      " [ True  True  True ...,  True  True  True]\n",
      " [ True  True  True ...,  True  True  True]\n",
      " ..., \n",
      " [ True  True  True ...,  True  True  True]\n",
      " [ True  True  True ...,  True  True  True]\n",
      " [ True  True  True ...,  True  True  True]]\n",
      "mask:\n",
      "[[ True  True  True ...,  True  True  True]\n",
      " [ True  True  True ...,  True  True  True]\n",
      " [ True  True  True ...,  True  True  True]\n",
      " ..., \n",
      " [ True  True  True ...,  True  True  True]\n",
      " [ True  True  True ...,  True  True  True]\n",
      " [ True  True  True ...,  True  True  True]]\n"
     ]
    }
   ],
   "source": [
    "print 'x_mask:\\n', x_mask\n",
    "print 'y_mask:\\n', y_mask\n",
    "print 'mask:\\n', mask"
   ]
  },
  {
   "cell_type": "code",
   "execution_count": 82,
   "metadata": {
    "collapsed": false
   },
   "outputs": [],
   "source": [
    "x_ok, y_ok = np.where(mask)"
   ]
  },
  {
   "cell_type": "code",
   "execution_count": 83,
   "metadata": {
    "collapsed": false
   },
   "outputs": [
    {
     "data": {
      "text/plain": [
       "[<matplotlib.lines.Line2D at 0x7fb834b54d10>]"
      ]
     },
     "execution_count": 83,
     "metadata": {},
     "output_type": "execute_result"
    },
    {
     "data": {
      "image/png": "[encoded data removed]",
      "text/plain": [
       "<matplotlib.figure.Figure at 0x7fb8344b7e90>"
      ]
     },
     "metadata": {},
     "output_type": "display_data"
    }
   ],
   "source": [
    "\n",
    "plt.plot(x_ok, y_ok, ',y')\n"
   ]
  },
  {
   "cell_type": "code",
   "execution_count": 84,
   "metadata": {
    "collapsed": true
   },
   "outputs": [
    {
     "data": {
      "image/png": "[encoded data removed]",
      "text/plain": [
       "<PIL.Image.Image image mode=RGB size=568x471 at 0x7FB834B1E0D0>"
      ]
     },
     "execution_count": 84,
     "metadata": {},
     "output_type": "execute_result"
    }
   ],
   "source": [
    "# Blend of affine transformed with distortion\n",
    "Image.blend(new_lImg, new_rImg, alpha=0.5)"
   ]
  },
  {
   "cell_type": "code",
   "execution_count": null,
   "metadata": {
    "collapsed": true
   },
   "outputs": [],
   "source": []
  },
  {
   "cell_type": "code",
   "execution_count": null,
   "metadata": {
    "collapsed": true
   },
   "outputs": [],
   "source": []
  }
 ],
 "metadata": {
  "celltoolbar": "Raw Cell Format",
  "kernelspec": {
   "display_name": "Python 2",
   "language": "python",
   "name": "python2"
  },
  "language_info": {
   "codemirror_mode": {
    "name": "ipython",
    "version": 2
   },
   "file_extension": ".py",
   "mimetype": "text/x-python",
   "name": "python",
   "nbconvert_exporter": "python",
   "pygments_lexer": "ipython2",
   "version": "2.7.11"
  }
 },
 "nbformat": 4,
 "nbformat_minor": 0
}
