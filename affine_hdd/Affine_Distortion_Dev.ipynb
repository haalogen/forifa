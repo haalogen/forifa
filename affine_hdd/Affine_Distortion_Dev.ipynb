{
 "cells": [
  {
   "cell_type": "code",
   "execution_count": 1,
   "metadata": {
    "collapsed": false
   },
   "outputs": [],
   "source": [
    "from PIL import Image\n",
    "import numpy as np\n",
    "import matplotlib.pyplot as plt\n",
    "\n",
    "np.set_printoptions(precision=2, suppress=True)\n",
    "\n",
    "%matplotlib inline"
   ]
  },
  {
   "cell_type": "code",
   "execution_count": 2,
   "metadata": {
    "collapsed": false
   },
   "outputs": [],
   "source": [
    "# lImg_fname = 'data/stars/20151016-221239-859-1.png'\n",
    "# rImg_fname = 'data/stars/20151016-221239-859-2.png'\n",
    "# lImg_fname = 'data/stars/20160218-201934-437-1.png'\n",
    "# rImg_fname = 'data/stars/20160218-201934-437-2.png'\n",
    "# lImg_fname = 'data/stars/20160219-021934-593-1.png'\n",
    "# rImg_fname = 'data/stars/20160219-021934-593-2.png'\n",
    "# lImg_fname = 'data/stars/20160323-031848-875-1.png'\n",
    "# rImg_fname = 'data/stars/20160323-031848-875-2.png'\n",
    "# lImg_fname = 'data/stars/20160329-043931-296-1.png'\n",
    "# rImg_fname = 'data/stars/20160329-043931-296-2.png'\n",
    "lImg_fname = 'data/stars/20160507-000119-796-1.png'\n",
    "rImg_fname = 'data/stars/20160507-000119-796-2.png'"
   ]
  },
  {
   "cell_type": "code",
   "execution_count": 3,
   "metadata": {
    "collapsed": false
   },
   "outputs": [
    {
     "name": "stdout",
     "output_type": "stream",
     "text": [
      "(26, 28, 15)\n"
     ]
    }
   ],
   "source": [
    "lImg = Image.open(lImg_fname).convert('RGB')\n",
    "rImg = Image.open(rImg_fname).convert('RGB')\n",
    "l_data = lImg.load() # pixmap of lImg\n",
    "r_data = rImg.load() # pixmap of rImg\n",
    "\n",
    "print l_data[0, 1]"
   ]
  },
  {
   "cell_type": "code",
   "execution_count": 4,
   "metadata": {
    "collapsed": true
   },
   "outputs": [],
   "source": [
    "# lImg"
   ]
  },
  {
   "cell_type": "code",
   "execution_count": 5,
   "metadata": {
    "collapsed": true
   },
   "outputs": [],
   "source": [
    "# rImg"
   ]
  },
  {
   "cell_type": "code",
   "execution_count": 6,
   "metadata": {
    "collapsed": false
   },
   "outputs": [
    {
     "name": "stdout",
     "output_type": "stream",
     "text": [
      "3112 2328\n"
     ]
    }
   ],
   "source": [
    "assert (lImg.size == rImg.size)\n",
    "\n",
    "w, h = width, height = lImg.size\n",
    "\n",
    "\n",
    "print w, h"
   ]
  },
  {
   "cell_type": "code",
   "execution_count": 7,
   "metadata": {
    "collapsed": false
   },
   "outputs": [
    {
     "name": "stdout",
     "output_type": "stream",
     "text": [
      "1556.0 1164.0\n"
     ]
    }
   ],
   "source": [
    "x_c, y_c = (width) / 2., (height) / 2. # center coordinates\n",
    "\n",
    "print x_c, y_c"
   ]
  },
  {
   "cell_type": "code",
   "execution_count": 8,
   "metadata": {
    "collapsed": false
   },
   "outputs": [],
   "source": [
    "# fname_640x480 = 'data/coords_640x480.txt'\n",
    "# fname_3072x2304 = 'data/coords_3072x2304.txt'\n",
    "# fname_real_3072 = 'data/real_stars_3072/real_stars_3072_data_41_pairs.txt'\n",
    "fname_real_3072 = 'data/real_stars_3072/20160507_000119_stars_coords.txt'\n",
    "\n",
    "fname = fname_real_3072\n",
    "coords = np.loadtxt(fname)"
   ]
  },
  {
   "cell_type": "code",
   "execution_count": 9,
   "metadata": {
    "collapsed": false
   },
   "outputs": [
    {
     "name": "stdout",
     "output_type": "stream",
     "text": [
      "16 4\n"
     ]
    }
   ],
   "source": [
    "lX = coords[:, 0] # leftX coordinates\n",
    "lY = coords[:, 1] # leftY coordinates\n",
    "rX = coords[:, 2] # rightX coordinates\n",
    "rY = coords[:, 3] # rightY coordinates\n",
    "\n",
    "N = coords.shape[0] # number of pairs of points\n",
    "M = coords.shape[1] # lX, lY, rX, rY == 4\n",
    "print N, M"
   ]
  },
  {
   "cell_type": "code",
   "execution_count": 10,
   "metadata": {
    "collapsed": false
   },
   "outputs": [
    {
     "name": "stdout",
     "output_type": "stream",
     "text": [
      "Input coordinates from 'data/real_stars_3072/20160507_000119_stars_coords.txt': \n",
      "[[  358.   928.   632.   980.]\n",
      " [  394.   671.   665.   734.]\n",
      " [  779.   664.  1033.   716.]\n",
      " [  844.   864.  1098.   911.]\n",
      " [ 1078.   950.  1327.   990.]\n",
      " [ 1257.  1031.  1504.  1070.]\n",
      " [ 1545.   964.  1791.   998.]\n",
      " [ 2154.   929.  2409.   955.]\n",
      " [ 2216.  1199.  2475.  1229.]\n",
      " [ 2572.  1151.  2848.  1177.]\n",
      " [ 2674.   731.  2951.   740.]\n",
      " [ 2823.   217.  3107.   198.]\n",
      " [  851.  1905.  1112.  1935.]\n",
      " [  994.  1947.  1252.  1979.]\n",
      " [ 1533.  2084.  1788.  2123.]\n",
      " [ 1545.  1725.  1797.  1761.]] \n",
      "\n"
     ]
    }
   ],
   "source": [
    "print 'Input coordinates from %r: \\n' % fname, coords, '\\n'"
   ]
  },
  {
   "cell_type": "code",
   "execution_count": 11,
   "metadata": {
    "collapsed": true
   },
   "outputs": [],
   "source": [
    "# Solve the system of linear equations via pseudo inversion\n",
    "\n",
    "# Below lX, lY, rX, rY mean lX[i], lY[i], rX[i], rY[i]:\n",
    "# rX = a*lX + b*lY + e - eps1*z_x(lX, lY) + eps2*z_x(rX, rY)\n",
    "# rY = c*lX + d*lY + f - eps1*z_y(lX, lY) + eps2*z_y(rX, rY),\n",
    "\n",
    "# where approximately(!):\n",
    "# z_x = (x-x0)*[ (x-x0)^2 +(y-y0)^2 ] = z_x(rX, rY) = z_x(Lx, Ly)\n",
    "# z_y = (y-y0)*[ (x-x0)^2 +(y-y0)^2 ] = z_y(rX, rY) = z_y(Lx, Ly)\n",
    "\n",
    "# xi = A*z + nu,      where:\n",
    "\n",
    "# xi.T = rX[0], rY[0] ... rX[N-1], rY[N-1]\n",
    "# z.T = a, b, c, d, e, f, eps1, eps2  -- 6 affine coeff-s + 2 distortion coeffs\n",
    "# nu -- vector of inaccuracy (?) I don't use it right now\n",
    "\n",
    "# A = [ # L = N-1   -- Last \n",
    "# lX[0] lY[0]  0     0      1  0  -z_x(lX[0], lY[0])    z_x(rX[0], rY[0]) ;\n",
    "# 0     0      lX[0] lY[0]  0  1  -z_y(lX[0], lY[0])    z_y(rX[0], rY[0])\n",
    "# ...                                                          ... ;\n",
    "# ...                                                          ... ;\n",
    "# ...                                                          ... ;\n",
    "# lX[L] lY[L]  0     0      1  0  -z_x(lX[L], lY[L])    z_x(rX[L], rY[L]) ;\n",
    "# 0     0      lX[L] lY[L]  0  1  -z_y(lX[L], lY[L])    z_y(rX[L], rY[L]) . ]\n"
   ]
  },
  {
   "cell_type": "code",
   "execution_count": 12,
   "metadata": {
    "collapsed": false
   },
   "outputs": [],
   "source": [
    "xi = np.zeros(2*N)\n",
    "z = np.zeros(8)\n",
    "arr = np.zeros((2*N, 8)) # matrix A"
   ]
  },
  {
   "cell_type": "code",
   "execution_count": 13,
   "metadata": {
    "collapsed": false
   },
   "outputs": [],
   "source": [
    "for i in xrange(N): # fill the xi vector\n",
    "    xi[2*i] = rX[i]\n",
    "    xi[2*i + 1] = rY[i]"
   ]
  },
  {
   "cell_type": "code",
   "execution_count": 14,
   "metadata": {
    "collapsed": false
   },
   "outputs": [],
   "source": [
    "for i in xrange(N): # fill the A matrix\n",
    "    dist_l = (lX[i]-x_c)**2 + (lY[i]-y_c)**2\n",
    "    dist_r = (rX[i]-x_c)**2 + (rY[i]-y_c)**2\n",
    "\n",
    "    zx1 = (lX[i] - x_c) * dist_l\n",
    "    zx2 = (rX[i] - x_c) * dist_r\n",
    "#     zx1, zx2 = 0, 0 # for simple affine6 algorithm!; comment out other tmps\n",
    "    arr[2*i] = [lX[i], lY[i], 0, 0, 1, 0, -zx1, zx2]\n",
    "    \n",
    "    zy1 = (lY[i] - y_c) * dist_l\n",
    "    zy2 = (rY[i] - y_c) * dist_r\n",
    "#     zy1, zy2 = 0, 0 # for simple affine6 algorithm!; comment out other tmps    \n",
    "    arr[2*i + 1] = [0, 0, lX[i], lY[i], 0, 1, -zy1, zy2]\n"
   ]
  },
  {
   "cell_type": "code",
   "execution_count": 15,
   "metadata": {
    "collapsed": false
   },
   "outputs": [
    {
     "name": "stdout",
     "output_type": "stream",
     "text": [
      "xi = A*z + nu\n"
     ]
    }
   ],
   "source": [
    "print 'xi = A*z + nu'\n",
    "# print 'xi:\\n', xi\n",
    "# print 'A:\\n', arr, '\\n'\n"
   ]
  },
  {
   "cell_type": "code",
   "execution_count": 16,
   "metadata": {
    "collapsed": true
   },
   "outputs": [],
   "source": [
    "pinv_arr = np.linalg.pinv(arr) # Calculate pseudo inverted A\n",
    "z = np.dot(pinv_arr, xi)"
   ]
  },
  {
   "cell_type": "code",
   "execution_count": 17,
   "metadata": {
    "collapsed": false
   },
   "outputs": [
    {
     "name": "stdout",
     "output_type": "stream",
     "text": [
      "Result:\n",
      "z: [   0.9965012001    0.007705931    -0.0133277499    0.9992171143\n",
      "  240.3708607634   54.535133319     0.0000000291    0.0000000293]\n"
     ]
    }
   ],
   "source": [
    "np.set_printoptions(precision=10, suppress=True)\n",
    "print 'Result:'\n",
    "print 'z:', z\n",
    "np.set_printoptions(precision=2, suppress=True)"
   ]
  },
  {
   "cell_type": "code",
   "execution_count": 18,
   "metadata": {
    "collapsed": false
   },
   "outputs": [],
   "source": [
    "for i in xrange(width):\n",
    "    for j in xrange(height):\n",
    "        r, g, b = l_data[i, j]\n",
    "        l_data[i, j] = r, 0, 0  # color lImg in red\n",
    "        \n",
    "        r, g, b = r_data[i, j]\n",
    "        r_data[i, j] = 0, g, 0  # color rImg in green"
   ]
  },
  {
   "cell_type": "code",
   "execution_count": 19,
   "metadata": {
    "collapsed": true
   },
   "outputs": [],
   "source": [
    "l_data[x_c, y_c] = 255, 255, 255    # Mark the center\n",
    "l_data[x_c-1, y_c] = 255, 255, 255\n",
    "l_data[x_c+1, y_c] = 255, 255, 255\n",
    "l_data[x_c, y_c-1] = 255, 255, 255\n",
    "l_data[x_c, y_c+1] = 255, 255, 255"
   ]
  },
  {
   "cell_type": "code",
   "execution_count": 20,
   "metadata": {
    "collapsed": false
   },
   "source": [
    "Image.blend(lImg, rImg, alpha=0.5) # Initial blend"
   ]
  },
  {
   "cell_type": "code",
   "execution_count": 81,
   "metadata": {
    "collapsed": false
   },
   "outputs": [],
   "source": [
    "a = float(z[0])\n",
    "b = float(z[1])\n",
    "c = float(z[2])\n",
    "d = float(z[3])\n",
    "e = float(z[4])\n",
    "f = float(z[5])\n",
    "eps1 = float(z[6])\n",
    "eps2 = float(z[7])\n",
    "data = (a, b, e, c, d, f) # affine coefficients"
   ]
  },
  {
   "cell_type": "code",
   "execution_count": 82,
   "metadata": {
    "collapsed": true
   },
   "outputs": [],
   "source": [
    "# aff_blend.show()"
   ]
  },
  {
   "cell_type": "code",
   "execution_count": 83,
   "metadata": {
    "collapsed": false
   },
   "outputs": [],
   "source": [
    "# nlImg = lImg.copy()\n",
    "# nrImg = rImg.copy()\n",
    "nlImg = Image.new('RGB', lImg.size, 'black')\n",
    "nrImg = Image.new('RGB', rImg.size, 'black')\n",
    "nl_data = nlImg.load()\n",
    "nr_data = nrImg.load()"
   ]
  },
  {
   "cell_type": "code",
   "execution_count": 84,
   "metadata": {
    "collapsed": false
   },
   "outputs": [],
   "source": [
    "# Get rid of distortions on nlImg\n",
    "\n",
    "for i in xrange(width): # xi\n",
    "    for j in xrange(height): # eta\n",
    "        dist_l = (i-x_c)**2 + (j-y_c)**2\n",
    "                \n",
    "        zx1 = (i - x_c) * dist_l\n",
    "        zy1 = (j - y_c) * dist_l\n",
    "        \n",
    "        nl_data[round(i - eps1*zx1), round(j - eps2*zy1)] = l_data[i, j]\n"
   ]
  },
  {
   "cell_type": "code",
   "execution_count": 85,
   "metadata": {
    "collapsed": true
   },
   "outputs": [],
   "source": [
    "# Get rid of distortions on nrImg\n",
    "\n",
    "for i in xrange(width): # xi\n",
    "    for j in xrange(height): # eta\n",
    "        dist_r = (i-x_c)**2 + (j-y_c)**2\n",
    "                \n",
    "        zx2 = (i - x_c) * dist_r\n",
    "        zy2 = (j - y_c) * dist_r\n",
    "        \n",
    "        nr_data[round(i - eps1*zx2), round(j - eps2*zy2)] = r_data[i, j]\n"
   ]
  },
  {
   "cell_type": "code",
   "execution_count": 86,
   "metadata": {
    "collapsed": true
   },
   "outputs": [],
   "source": [
    "# nlImg.show()\n",
    "# nrImg.show()"
   ]
  },
  {
   "cell_type": "code",
   "execution_count": 87,
   "metadata": {
    "collapsed": false
   },
   "outputs": [],
   "source": [
    "aff_nrImg = nrImg.transform(nrImg.size, Image.AFFINE, data, \n",
    "               resample=Image.BICUBIC)\n",
    "\n",
    "aff_blend = Image.blend(nlImg, aff_nrImg, alpha=0.5) # only affine transform\n",
    "\n",
    "aff_blend.save('aff_blend_temp.png')"
   ]
  },
  {
   "cell_type": "code",
   "execution_count": 88,
   "metadata": {
    "collapsed": true
   },
   "outputs": [],
   "source": [
    "# aff_blend"
   ]
  },
  {
   "cell_type": "code",
   "execution_count": null,
   "metadata": {
    "collapsed": true
   },
   "outputs": [],
   "source": []
  }
 ],
 "metadata": {
  "celltoolbar": "Raw Cell Format",
  "kernelspec": {
   "display_name": "Python 2",
   "language": "python",
   "name": "python2"
  },
  "language_info": {
   "codemirror_mode": {
    "name": "ipython",
    "version": 2
   },
   "file_extension": ".py",
   "mimetype": "text/x-python",
   "name": "python",
   "nbconvert_exporter": "python",
   "pygments_lexer": "ipython2",
   "version": "2.7.11"
  }
 },
 "nbformat": 4,
 "nbformat_minor": 0
}
