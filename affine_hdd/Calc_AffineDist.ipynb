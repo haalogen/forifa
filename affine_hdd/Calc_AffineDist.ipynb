{
 "cells": [
  {
   "cell_type": "code",
   "execution_count": 1,
   "metadata": {
    "collapsed": true
   },
   "outputs": [],
   "source": [
    "import numpy as np"
   ]
  },
  {
   "cell_type": "code",
   "execution_count": 2,
   "metadata": {
    "collapsed": false
   },
   "outputs": [],
   "source": [
    "np.set_printoptions(precision=12, suppress=True)"
   ]
  },
  {
   "cell_type": "code",
   "execution_count": 3,
   "metadata": {
    "collapsed": true
   },
   "outputs": [],
   "source": [
    "consider_distort = True # flag whether to consider distortion\n",
    "zoomed_coords = True # whether to divide coordinates by 5 or not (zoomed coords or not)\n",
    "\n",
    "folder_name = 'data/real_stars_3072/'\n",
    "\n",
    "fnames = [ 'coords_mesh_center' ]\n",
    "\n",
    "# stars from center of pictures only\n",
    "# fnames = [\n",
    "#     '20160218_201934_unmod_stars_coords',\n",
    "#     '20160219_021934_unmod_stars_coords',\n",
    "#     '20160323_031848_unmod_stars_coords',\n",
    "#     '20160329_043931_unmod_stars_coords',\n",
    "#     '20160507_000119_unmod_stars_coords'\n",
    "# ]\n",
    "\n",
    "# stars from whole pictures\n",
    "# fnames = [\n",
    "#     '20151016_221239_stars_coords',\n",
    "#     '20160218_201934_stars_coords',\n",
    "#     '20160219_021934_stars_coords',\n",
    "#     '20160323_031848_stars_coords',\n",
    "#     '20160329_043931_stars_coords',\n",
    "#     '20160507_000119_stars_coords'\n",
    "# ]"
   ]
  },
  {
   "cell_type": "code",
   "execution_count": 4,
   "metadata": {
    "collapsed": false
   },
   "outputs": [
    {
     "name": "stdout",
     "output_type": "stream",
     "text": [
      "Check this!\n",
      "Image 2048 x 1536\n",
      "X_center: 1024, Y_center: 768\n"
     ]
    }
   ],
   "source": [
    "if consider_distort:\n",
    "    width = 2048\n",
    "    height = 1536\n",
    "    x_c = width /2\n",
    "    y_c = height /2\n",
    "    \n",
    "    print 'Check this!'\n",
    "    print 'Image %r x %r' % (width, height)\n",
    "    print 'X_center: %r, Y_center: %r' % (x_c, y_c)"
   ]
  },
  {
   "cell_type": "code",
   "execution_count": 5,
   "metadata": {
    "collapsed": true
   },
   "outputs": [],
   "source": [
    "import os"
   ]
  },
  {
   "cell_type": "code",
   "execution_count": 6,
   "metadata": {
    "collapsed": false,
    "scrolled": true
   },
   "outputs": [
    {
     "name": "stdout",
     "output_type": "stream",
     "text": [
      "[array([[  108.,   153.,   107.,   152.],\n",
      "       [ 4978.,   132.,  4977.,   132.],\n",
      "       [   77.,  3557.,    78.,  3558.],\n",
      "       [ 5012.,  3572.,  5012.,  3572.],\n",
      "       [   82.,  1613.,    82.,  1613.],\n",
      "       [ 5032.,  1578.,  5032.,  1577.],\n",
      "       [ 2542.,  3608.,  2542.,  3609.],\n",
      "       [ 2542.,   123.,  2542.,   123.],\n",
      "       [ 2492.,  1817.,  2492.,  1817.]])]\n"
     ]
    }
   ],
   "source": [
    "coords_list = []\n",
    "for fname in fnames:\n",
    "    piece = np.loadtxt(folder_name + os.sep + fname)\n",
    "    \n",
    "    coords_list.append(piece)\n",
    "\n",
    "print coords_list"
   ]
  },
  {
   "cell_type": "code",
   "execution_count": 7,
   "metadata": {
    "collapsed": false
   },
   "outputs": [
    {
     "name": "stdout",
     "output_type": "stream",
     "text": [
      "[[  108.   153.   107.   152.]\n",
      " [ 4978.   132.  4977.   132.]\n",
      " [   77.  3557.    78.  3558.]\n",
      " [ 5012.  3572.  5012.  3572.]\n",
      " [   82.  1613.    82.  1613.]\n",
      " [ 5032.  1578.  5032.  1577.]\n",
      " [ 2542.  3608.  2542.  3609.]\n",
      " [ 2542.   123.  2542.   123.]\n",
      " [ 2492.  1817.  2492.  1817.]]\n"
     ]
    }
   ],
   "source": [
    "coords = np.vstack(coords_list)\n",
    "print coords"
   ]
  },
  {
   "cell_type": "code",
   "execution_count": 8,
   "metadata": {
    "collapsed": false
   },
   "outputs": [
    {
     "name": "stdout",
     "output_type": "stream",
     "text": [
      "[[   22.    31.    21.    30.]\n",
      " [  996.    26.   995.    26.]\n",
      " [   15.   711.    16.   712.]\n",
      " [ 1002.   714.  1002.   714.]\n",
      " [   16.   323.    16.   323.]\n",
      " [ 1006.   316.  1006.   315.]\n",
      " [  508.   722.   508.   722.]\n",
      " [  508.    25.   508.    25.]\n",
      " [  498.   363.   498.   363.]]\n"
     ]
    }
   ],
   "source": [
    "if zoomed_coords:\n",
    "    coords /= 5\n",
    "    coords = coords.round()\n",
    "    print coords"
   ]
  },
  {
   "cell_type": "code",
   "execution_count": 9,
   "metadata": {
    "collapsed": false
   },
   "outputs": [
    {
     "name": "stdout",
     "output_type": "stream",
     "text": [
      "9 4\n"
     ]
    }
   ],
   "source": [
    "lX = coords[:, 0] # leftX coordinates\n",
    "lY = coords[:, 1] # leftY coordinates\n",
    "rX = coords[:, 2] # rightX coordinates\n",
    "rY = coords[:, 3] # rightY coordinates\n",
    "\n",
    "N = coords.shape[0] # number of pairs of points\n",
    "M = coords.shape[1] # lX, lY, rX, rY == 4\n",
    "print N, M"
   ]
  },
  {
   "cell_type": "code",
   "execution_count": 10,
   "metadata": {
    "collapsed": false
   },
   "outputs": [
    {
     "name": "stdout",
     "output_type": "stream",
     "text": [
      "Number of coefficients: 8\n"
     ]
    }
   ],
   "source": [
    "xi = np.zeros(2*N)\n",
    "\n",
    "num_coeffs = 6\n",
    "if consider_distort:\n",
    "    num_coeffs = 8\n",
    "\n",
    "print 'Number of coefficients:', num_coeffs\n",
    "z = np.zeros(num_coeffs)\n",
    "arr = np.zeros((2*N, num_coeffs)) # matrix A"
   ]
  },
  {
   "cell_type": "code",
   "execution_count": 11,
   "metadata": {
    "collapsed": true
   },
   "outputs": [],
   "source": [
    "for i in xrange(N): # fill the xi vector\n",
    "    xi[2*i] = rX[i]\n",
    "    xi[2*i + 1] = rY[i]"
   ]
  },
  {
   "cell_type": "code",
   "execution_count": 12,
   "metadata": {
    "collapsed": false
   },
   "outputs": [],
   "source": [
    "if consider_distort:\n",
    "    for i in xrange(N): # fill the A matrix\n",
    "        dist_l = (lX[i]-x_c)**2 + (lY[i]-y_c)**2\n",
    "        dist_r = (rX[i]-x_c)**2 + (rY[i]-y_c)**2\n",
    "\n",
    "        zx1 = (lX[i] - x_c) * dist_l\n",
    "        zx2 = (rX[i] - x_c) * dist_r\n",
    "        arr[2*i] = [lX[i], lY[i], 0, 0, 1, 0, -zx1, zx2]\n",
    "\n",
    "        zy1 = (lY[i] - y_c) * dist_l\n",
    "        zy2 = (rY[i] - y_c) * dist_r\n",
    "        arr[2*i + 1] = [0, 0, lX[i], lY[i], 0, 1, -zy1, zy2]\n",
    "\n",
    "else:\n",
    "    for i in xrange(N): # fill the A matrix\n",
    "        arr[2*i] = [lX[i], lY[i], 0, 0, 1, 0]\n",
    "\n",
    "        arr[2*i + 1] = [0, 0, lX[i], lY[i], 0, 1]"
   ]
  },
  {
   "cell_type": "code",
   "execution_count": 13,
   "metadata": {
    "collapsed": false
   },
   "outputs": [
    {
     "name": "stdout",
     "output_type": "stream",
     "text": [
      "A:\n",
      "[[  2.200000000000e+01   3.100000000000e+01   0.000000000000e+00\n",
      "    0.000000000000e+00   1.000000000000e+00   0.000000000000e+00\n",
      "    1.550267346000e+09  -1.555304959000e+09]\n",
      " [  0.000000000000e+00   0.000000000000e+00   2.200000000000e+01\n",
      "    3.100000000000e+01   0.000000000000e+00   1.000000000000e+00\n",
      "    1.140266501000e+09  -1.144381914000e+09]\n",
      " [  9.960000000000e+02   2.600000000000e+01   0.000000000000e+00\n",
      "    0.000000000000e+00   1.000000000000e+00   0.000000000000e+00\n",
      "    1.543774400000e+07  -1.599074500000e+07]\n",
      " [  0.000000000000e+00   0.000000000000e+00   9.960000000000e+02\n",
      "    2.600000000000e+01   0.000000000000e+00   1.000000000000e+00\n",
      "    4.091002160000e+08  -4.091425100000e+08]\n",
      " [  1.500000000000e+01   7.110000000000e+02   0.000000000000e+00\n",
      "    0.000000000000e+00   1.000000000000e+00   0.000000000000e+00\n",
      "    1.030521970000e+09  -1.027353600000e+09]\n",
      " [  0.000000000000e+00   0.000000000000e+00   1.500000000000e+01\n",
      "    7.110000000000e+02   0.000000000000e+00   1.000000000000e+00\n",
      "    5.821581000000e+07  -5.707520000000e+07]\n",
      " [  1.002000000000e+03   7.140000000000e+02   0.000000000000e+00\n",
      "    0.000000000000e+00   1.000000000000e+00   0.000000000000e+00\n",
      "    7.480000000000e+04  -7.480000000000e+04]\n",
      " [  0.000000000000e+00   0.000000000000e+00   1.002000000000e+03\n",
      "    7.140000000000e+02   0.000000000000e+00   1.000000000000e+00\n",
      "    1.836000000000e+05  -1.836000000000e+05]\n",
      " [  1.600000000000e+01   3.230000000000e+02   0.000000000000e+00\n",
      "    0.000000000000e+00   1.000000000000e+00   0.000000000000e+00\n",
      "    1.223801712000e+09  -1.223801712000e+09]\n",
      " [  0.000000000000e+00   0.000000000000e+00   1.600000000000e+01\n",
      "    3.230000000000e+02   0.000000000000e+00   1.000000000000e+00\n",
      "    5.402696050000e+08  -5.402696050000e+08]\n",
      " [  1.006000000000e+03   3.160000000000e+02   0.000000000000e+00\n",
      "    0.000000000000e+00   1.000000000000e+00   0.000000000000e+00\n",
      "    3.683304000000e+06  -3.699594000000e+06]\n",
      " [  0.000000000000e+00   0.000000000000e+00   1.006000000000e+03\n",
      "    3.160000000000e+02   0.000000000000e+00   1.000000000000e+00\n",
      "    9.249185600000e+07  -9.310644900000e+07]\n",
      " [  5.080000000000e+02   7.220000000000e+02   0.000000000000e+00\n",
      "    0.000000000000e+00   1.000000000000e+00   0.000000000000e+00\n",
      "    1.384799520000e+08  -1.384799520000e+08]\n",
      " [  0.000000000000e+00   0.000000000000e+00   5.080000000000e+02\n",
      "    7.220000000000e+02   0.000000000000e+00   1.000000000000e+00\n",
      "    1.234511200000e+07  -1.234511200000e+07]\n",
      " [  5.080000000000e+02   2.500000000000e+01   0.000000000000e+00\n",
      "    0.000000000000e+00   1.000000000000e+00   0.000000000000e+00\n",
      "    4.222453800000e+08  -4.222453800000e+08]\n",
      " [  0.000000000000e+00   0.000000000000e+00   5.080000000000e+02\n",
      "    2.500000000000e+01   0.000000000000e+00   1.000000000000e+00\n",
      "    6.080006150000e+08  -6.080006150000e+08]\n",
      " [  4.980000000000e+02   3.630000000000e+02   0.000000000000e+00\n",
      "    0.000000000000e+00   1.000000000000e+00   0.000000000000e+00\n",
      "    2.318087260000e+08  -2.318087260000e+08]\n",
      " [  0.000000000000e+00   0.000000000000e+00   4.980000000000e+02\n",
      "    3.630000000000e+02   0.000000000000e+00   1.000000000000e+00\n",
      "    1.784839050000e+08  -1.784839050000e+08]] \n",
      "\n",
      "xi:\n",
      "[   21.    30.   995.    26.    16.   712.  1002.   714.    16.   323.\n",
      "  1006.   315.   508.   722.   508.    25.   498.   363.]\n"
     ]
    }
   ],
   "source": [
    "print 'A:\\n', arr, '\\n'\n",
    "print 'xi:\\n', xi"
   ]
  },
  {
   "cell_type": "code",
   "execution_count": 14,
   "metadata": {
    "collapsed": true
   },
   "outputs": [],
   "source": [
    "from numpy.linalg import norm, pinv"
   ]
  },
  {
   "cell_type": "code",
   "execution_count": 15,
   "metadata": {
    "collapsed": false
   },
   "outputs": [
    {
     "name": "stdout",
     "output_type": "stream",
     "text": [
      "Affine coefficients: \n",
      "[ 0.999775014845  0.000404016568 -0.000473431409  1.000526283842\n",
      " -0.160954697816 -0.01320517361   0.000000262007  0.000000261832]\n"
     ]
    }
   ],
   "source": [
    "p_arr = pinv(arr)\n",
    "z = np.dot(p_arr, xi)\n",
    "print 'Affine coefficients: \\n', z"
   ]
  },
  {
   "cell_type": "code",
   "execution_count": 16,
   "metadata": {
    "collapsed": false
   },
   "outputs": [
    {
     "name": "stdout",
     "output_type": "stream",
     "text": [
      "cond(A):  9633046386.47\n",
      "Probability: 8.81566323639\n",
      "Sigma theory: 0.336800326812\n",
      "Sigma practice 2\n"
     ]
    }
   ],
   "source": [
    "sigma = 2 # 2 pix error\n",
    "I = np.eye(2*N)\n",
    "\n",
    "print 'cond(A): ', np.linalg.cond(arr)\n",
    "# print norm( np.dot(I - np.dot(arr, p_arr), xi) )\n",
    "proba = (2*N - num_coeffs) / norm( np.dot(I - np.dot(arr, p_arr), xi) )**2\n",
    "sig_theory = (1 / proba)**0.5\n",
    "\n",
    "print 'Probability:', proba\n",
    "print 'Sigma theory:', sig_theory\n",
    "print 'Sigma practice', sigma"
   ]
  },
  {
   "cell_type": "code",
   "execution_count": null,
   "metadata": {
    "collapsed": true
   },
   "outputs": [],
   "source": []
  }
 ],
 "metadata": {
  "kernelspec": {
   "display_name": "Python 2",
   "language": "python",
   "name": "python2"
  },
  "language_info": {
   "codemirror_mode": {
    "name": "ipython",
    "version": 2
   },
   "file_extension": ".py",
   "mimetype": "text/x-python",
   "name": "python",
   "nbconvert_exporter": "python",
   "pygments_lexer": "ipython2",
   "version": "2.7.11"
  }
 },
 "nbformat": 4,
 "nbformat_minor": 0
}
