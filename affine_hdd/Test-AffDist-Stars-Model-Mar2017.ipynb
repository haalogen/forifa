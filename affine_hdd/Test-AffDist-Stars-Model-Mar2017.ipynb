{
 "cells": [
  {
   "cell_type": "code",
   "execution_count": 1,
   "metadata": {},
   "outputs": [],
   "source": [
    "\"\"\"\n",
    "This program tests Affine+Ditrortion35 model\n",
    "on artificially generated data (pairs of star coordinates)\n",
    "\"\"\";"
   ]
  },
  {
   "cell_type": "code",
   "execution_count": 2,
   "metadata": {
    "collapsed": true
   },
   "outputs": [],
   "source": [
    "from pylab import *\n",
    "from PIL import Image, ImageDraw\n",
    "from functools import partial"
   ]
  },
  {
   "cell_type": "code",
   "execution_count": 3,
   "metadata": {
    "collapsed": true
   },
   "outputs": [],
   "source": [
    "# for random consistency\n",
    "np.random.seed(707666)"
   ]
  },
  {
   "cell_type": "markdown",
   "metadata": {},
   "source": [
    "Create NUM_STAR_PAIRS (at least 5 because it's minimum needed for affine+distortion35 model)   \n",
    "pairs of stars with coordinates in range from (MIN_X, MIN_Y) to (MAX_X, MAX_Y)\n",
    "with OFFSET from edges"
   ]
  },
  {
   "cell_type": "code",
   "execution_count": 4,
   "metadata": {},
   "outputs": [
    {
     "name": "stdout",
     "output_type": "stream",
     "text": [
      "Left X: [1217 1731  516 1681  820 1276  513 1533  620  848 1725 1179 1335 1247 1043\n",
      " 1114 1000  722 1027 1042]\n",
      "Left Y: [ 570  718  598 1637  973 1092  740 1494 1085  812 1483 1274  420 1737  469\n",
      " 1379  693 1170 1616 1655]\n",
      "\n"
     ]
    }
   ],
   "source": [
    "NUM_STAR_PAIRS = 20\n",
    "N = NUM_STAR_PAIRS\n",
    "\n",
    "MIN_X = 0\n",
    "MAX_X = 2000\n",
    "MIN_Y = 0\n",
    "MAX_Y = 2000\n",
    "\n",
    "OFFSET = 250\n",
    "\n",
    "width = abs(MAX_X - MIN_X)\n",
    "height = abs(MAX_Y - MIN_Y)\n",
    "\n",
    "xCenter = (MAX_X - MIN_X) // 2\n",
    "yCenter = (MAX_Y - MIN_Y) // 2\n",
    "\n",
    "\n",
    "leftX = randint(low = MIN_X + OFFSET,\n",
    "                high = MAX_X - OFFSET,\n",
    "                size=NUM_STAR_PAIRS)\n",
    "leftY = randint(low = MIN_Y + OFFSET,\n",
    "                high = MAX_Y - OFFSET,\n",
    "                size=NUM_STAR_PAIRS)\n",
    "\n",
    "\n",
    "\n",
    "print('''\\\n",
    "Left X: {}\n",
    "Left Y: {}\n",
    "'''.format(leftX, leftY)\n",
    ")"
   ]
  },
  {
   "cell_type": "code",
   "execution_count": 5,
   "metadata": {},
   "outputs": [],
   "source": [
    "ELL_RAD = 3\n",
    "\n",
    "# Draw star pairs\n",
    "scatterOriginal = Image.new('RGB', (width, height), 'lightgray')\n",
    "\n",
    "draw = ImageDraw.Draw(scatterOriginal)\n",
    "\n",
    "# Central point\n",
    "draw.ellipse((xCenter - ELL_RAD, yCenter - ELL_RAD, \n",
    "              xCenter + ELL_RAD, yCenter + ELL_RAD), fill='darkgreen')\n",
    "\n",
    "for i in range(NUM_STAR_PAIRS): # draw star points\n",
    "    draw.ellipse((leftX[i] - ELL_RAD, leftY[i] - ELL_RAD, \n",
    "                  leftX[i] + ELL_RAD, leftY[i] + ELL_RAD), fill='blue')\n"
   ]
  },
  {
   "cell_type": "code",
   "execution_count": 6,
   "metadata": {
    "collapsed": true
   },
   "outputs": [],
   "source": [
    "scatterOriginal.save('orig.png')"
   ]
  },
  {
   "cell_type": "markdown",
   "metadata": {},
   "source": [
    "Create affine transformed pairs of stars coordinates  \n",
    "with affine coeffincients  \n",
    "(a,b,  \n",
    " c,d) -- for rotation matrix  \n",
    "(e,f) -- for transition (shift)   "
   ]
  },
  {
   "cell_type": "code",
   "execution_count": 7,
   "metadata": {},
   "outputs": [],
   "source": [
    "def affine_transform(xy, coeffs=(1,0,0,1,0,0)):\n",
    "    assert coeffs != (1,0,0,1,0,0)\n",
    "        \n",
    "    _a, _b, _c, _d, _e, _f = coeffs\n",
    "    x, y = xy\n",
    "    return [\n",
    "        _a * x + _b * y + _e,\n",
    "        _c * x + _d * y + _f\n",
    "    ]"
   ]
  },
  {
   "cell_type": "code",
   "execution_count": 8,
   "metadata": {},
   "outputs": [
    {
     "name": "stdout",
     "output_type": "stream",
     "text": [
      "Right X: [ 1456.9867  1969.5041   759.6176  1926.1821  1064.753   1519.3516\n",
      "   757.6263  1777.9063   866.517   1091.4888  1968.8885  1424.1009\n",
      "  1573.3585  1495.0087  1283.1323  1360.1544  1241.911    968.6122\n",
      "  1275.2397  1290.4392]\n",
      "Right Y: [  607.8704   750.1456   644.2066  1671.8493  1016.4819  1130.3748\n",
      "   786.5686  1530.2668  1131.0995   854.7812  1516.9759  1313.938    456.133\n",
      "  1777.2005   508.6913  1419.9465   733.7139  1215.0914  1658.5182\n",
      "  1697.4309]\n",
      "\n"
     ]
    }
   ],
   "source": [
    "A_COEFF = 0.9951\n",
    "B_COEFF = 0.0070\n",
    "C_COEFF = -0.0118\n",
    "D_COEFF = 1.0023\n",
    "E_COEFF = 241.96\n",
    "F_COEFF = 50.92\n",
    "AFFINE_COEFFS = (A_COEFF, B_COEFF, C_COEFF, D_COEFF, E_COEFF, F_COEFF)\n",
    "\n",
    "affinePerfect = partial(affine_transform, coeffs=AFFINE_COEFFS)\n",
    "\n",
    "rightCoords = array(list(map(affinePerfect, zip(leftX, leftY))))\n",
    "rightX = rightCoords[:, 0]\n",
    "rightY = rightCoords[:, 1]\n",
    "\n",
    "print('''\\\n",
    "Right X: {}\n",
    "Right Y: {}\n",
    "'''.format(rightX, rightY)\n",
    ")"
   ]
  },
  {
   "cell_type": "markdown",
   "metadata": {},
   "source": [
    "Create distorted pairs of stars coordinates  \n",
    "with distortion coefficients  \n",
    "eps1, eps2 -- for 3rd order distortion  \n",
    "eps3, eps4 -- for 5th order distortion  "
   ]
  },
  {
   "cell_type": "code",
   "execution_count": 9,
   "metadata": {
    "collapsed": true
   },
   "outputs": [],
   "source": [
    "def distort_transform(xy, coeffs=(0,0)):\n",
    "    assert coeffs != (0,0)\n",
    "    \n",
    "    # eps1, eps3 -- for left img\n",
    "    # eps2, eps4 -- for right img\n",
    "    _eps1_or_eps2, _eps3_or_eps4  = coeffs\n",
    "    \n",
    "    x, y = xy\n",
    "    \n",
    "    # squared distance from center to (x, y) point\n",
    "    _r = (x - xCenter) ** 2 + (y - yCenter) ** 2\n",
    "    \n",
    "    return [\n",
    "        x + (x - xCenter) * ( _r * _eps1_or_eps2 + (_r ** 2) * _eps3_or_eps4 ),\n",
    "        y + (y - yCenter) * ( _r * _eps1_or_eps2 + (_r ** 2) * _eps3_or_eps4 )\n",
    "    ]"
   ]
  },
  {
   "cell_type": "code",
   "execution_count": 10,
   "metadata": {},
   "outputs": [
    {
     "name": "stdout",
     "output_type": "stream",
     "text": [
      "Left X: [ 1218.7438224   1749.97211513   508.73520705  1709.06234047   819.81715229\n",
      "  1276.74036409   507.64263335  1544.41796348   618.09674993   847.72309197\n",
      "  1749.85766116  1179.6162954   1340.85715267  1253.2802124   1043.43538628\n",
      "  1114.59163868  1000.           721.05173621  1027.38600179  1042.69868064]\n",
      "Left Y: [  566.54449939   710.68107187   591.96601908  1663.24920834   972.97257284\n",
      "  1092.24678803   737.13980425  1504.58250273  1085.42572699   811.65750849\n",
      "  1499.5603453   1274.94337954   409.85925807  1755.73893334   463.62348571\n",
      "  1380.96693913   692.07742586  1170.57987354  1624.80655941  1665.89609088]\n",
      "\n",
      "Right X: [ 1462.41318295  1988.89407351   758.00823016  1942.93485585  1064.76453805\n",
      "  1524.4540932    756.66786772  1793.26336998   866.33336945  1091.59501774\n",
      "  1987.44388305  1428.16650377  1583.20906556  1504.68336202  1286.18844744\n",
      "  1363.88888388  1243.08236458   968.55427916  1279.41957097  1295.17775699]\n",
      "Right Y: [  603.21406189   745.14853996   641.82454887  1684.0016913   1016.48483684\n",
      "  1131.6556982    785.72461593  1540.73508436  1131.2798516    854.61260218\n",
      "  1526.87661185  1316.94753739   446.78911212  1792.3904394    503.38808372\n",
      "  1424.30097529   732.42450801  1215.48831458  1668.51865091  1708.80958464]\n",
      "\n"
     ]
    }
   ],
   "source": [
    "EPS1 = 3e-8\n",
    "EPS2 = 4e-8\n",
    "EPS3 = 2e-14\n",
    "EPS4 = -2e-14\n",
    "\n",
    "DISTORT_COEFFS_LEFT = (EPS1, EPS3)\n",
    "DISTORT_COEFFS_RIGHT = (EPS2, EPS4)\n",
    "\n",
    "distortLeft = partial(distort_transform, coeffs=DISTORT_COEFFS_LEFT)\n",
    "distortRight = partial(distort_transform, coeffs=DISTORT_COEFFS_RIGHT)\n",
    "\n",
    "leftCoords = array(list(map(distortLeft, zip(leftX, leftY))))\n",
    "leftX = leftCoords[:, 0]\n",
    "leftY = leftCoords[:, 1]\n",
    "\n",
    "rightCoords = array(list(map(distortRight, zip(rightX, rightY))))\n",
    "rightX = rightCoords[:, 0]\n",
    "rightY = rightCoords[:, 1]\n",
    "\n",
    "\n",
    "print('''\\\n",
    "Left X: {}\n",
    "Left Y: {}\n",
    "'''.format(leftX, leftY)\n",
    ")\n",
    "print('''\\\n",
    "Right X: {}\n",
    "Right Y: {}\n",
    "'''.format(rightX, rightY)\n",
    ")"
   ]
  },
  {
   "cell_type": "markdown",
   "metadata": {},
   "source": [
    "Add random noise (gaussian with std == NOISE_STD)"
   ]
  },
  {
   "cell_type": "code",
   "execution_count": 11,
   "metadata": {},
   "outputs": [],
   "source": [
    "NOISE_STD = 1\n",
    "NOISE_MEAN = 0\n",
    "\n",
    "leftX += normal(loc=NOISE_MEAN,\n",
    "                scale=NOISE_STD,\n",
    "                size=leftX.shape)\n",
    "\n",
    "leftY += normal(loc=NOISE_MEAN,\n",
    "                scale=NOISE_STD,\n",
    "                size=leftY.shape)\n",
    "\n",
    "\n",
    "rightX += normal(loc=NOISE_MEAN,\n",
    "                scale=NOISE_STD,\n",
    "                size=rightX.shape)\n",
    "\n",
    "rightY += normal(loc=NOISE_MEAN,\n",
    "                scale=NOISE_STD,\n",
    "                size=rightY.shape)"
   ]
  },
  {
   "cell_type": "code",
   "execution_count": 12,
   "metadata": {
    "collapsed": true
   },
   "outputs": [],
   "source": [
    "# inputLeftX, inputLeftY, inputRightX, inputRightY are coordinates we get from measuring system\n",
    "inputLeftX = leftX\n",
    "inputLeftY = leftY\n",
    "\n",
    "inputRightX = rightX\n",
    "inputRightY = rightY"
   ]
  },
  {
   "cell_type": "code",
   "execution_count": 13,
   "metadata": {},
   "outputs": [],
   "source": [
    "def correct_distort(xy, coeffs=(0,0)):\n",
    "    assert coeffs != (0,0)\n",
    "    \n",
    "    # eps1, eps3 -- for left img\n",
    "    # eps2, eps4 -- for right img\n",
    "    _eps1_or_eps2, _eps3_or_eps4  = coeffs\n",
    "    \n",
    "    x, y = xy\n",
    "    \n",
    "    # squared distance from center to (x, y) point\n",
    "    _r = (x - xCenter) ** 2 + (y - yCenter) ** 2\n",
    "    \n",
    "    return [\n",
    "        x - (x - xCenter) * ( _r * _eps1_or_eps2 + (_r ** 2) * _eps3_or_eps4 ),\n",
    "        y - (y - yCenter) * ( _r * _eps1_or_eps2 + (_r ** 2) * _eps3_or_eps4 )\n",
    "    ]"
   ]
  },
  {
   "cell_type": "markdown",
   "metadata": {},
   "source": [
    "Check out that if we do backward distort+affine transform then coordinates fit well."
   ]
  },
  {
   "cell_type": "code",
   "execution_count": 14,
   "metadata": {},
   "outputs": [
    {
     "name": "stdout",
     "output_type": "stream",
     "text": [
      "IF PERFECTLY FOUND COEFFICIENTS\n",
      "Backward distort+affine Left:\n",
      "Left X: [ 1457.22110812  1967.38648298   759.30304877  1922.24097919  1064.64927423\n",
      "  1519.08772796   758.49308095  1775.6066839    865.85373783  1091.36045862\n",
      "  1965.5407043   1424.61615835  1573.91478886  1492.28279469  1282.53652607\n",
      "  1359.70225418  1241.87623741   969.27759202  1273.58586483  1289.41014898]\n",
      "Left Y: [  608.12397792   752.06872422   643.92633483  1668.49804119  1016.54874411\n",
      "  1131.57137137   788.91328701  1527.63412972  1131.40409206   856.54202577\n",
      "  1514.48281178  1313.43299765   456.15068091  1776.6014066    509.94535375\n",
      "  1418.56600445   734.68911552  1214.56933111  1658.94312653  1697.6208738 ]\n",
      "\n",
      "Backward distort Right:\n",
      "Right X: [ 1457.04009619  1969.0075761    759.65929639  1925.57689135  1064.37700427\n",
      "  1519.61122512   755.9952595   1776.59429569   866.11515907  1091.66808014\n",
      "  1968.12261864  1423.87139981  1573.455849    1493.45405089  1283.0650448\n",
      "  1359.95778767  1241.68525074   968.57978727  1275.74090473  1290.18886118]\n",
      "Right Y: [  608.15092378   750.31482316   643.80594721  1671.38892039  1015.63361848\n",
      "  1132.81598294   785.480873    1531.00963067  1130.15608629   854.18468309\n",
      "  1517.32296078  1315.36906612   457.5831299   1775.39982664   508.50222494\n",
      "  1421.247169     734.84502757  1216.39527547  1657.48246008  1696.49720469]\n",
      "\n"
     ]
    }
   ],
   "source": [
    "# Backward distort\n",
    "\n",
    "correctDistortLeftPerfect = partial(correct_distort, coeffs=DISTORT_COEFFS_LEFT)\n",
    "leftCoords = array(list(map(correctDistortLeftPerfect, zip(leftX, leftY))))\n",
    "leftX = leftCoords[:, 0]\n",
    "leftY = leftCoords[:, 1]\n",
    "\n",
    "\n",
    "correctDistortRightPerfect = partial(correct_distort, coeffs=DISTORT_COEFFS_RIGHT)\n",
    "rightCoords = array(list(map(correctDistortRightPerfect, zip(rightX, rightY))))\n",
    "rightX = rightCoords[:, 0]\n",
    "rightY = rightCoords[:, 1]\n",
    "\n",
    "\n",
    "# Backward affine\n",
    "leftCoords = array(list(map(affinePerfect, zip(leftX, leftY))))\n",
    "leftX = leftCoords[:, 0]\n",
    "leftY = leftCoords[:, 1]\n",
    "\n",
    "print('IF PERFECTLY FOUND COEFFICIENTS')\n",
    "print('''Backward distort+affine Left:\n",
    "Left X: {}\n",
    "Left Y: {}\n",
    "'''.format(leftX, leftY)\n",
    ")\n",
    "\n",
    "print('''Backward distort Right:\n",
    "Right X: {}\n",
    "Right Y: {}\n",
    "'''.format(rightX, rightY)\n",
    ")"
   ]
  },
  {
   "cell_type": "code",
   "execution_count": 15,
   "metadata": {},
   "outputs": [
    {
     "name": "stdout",
     "output_type": "stream",
     "text": [
      "delX: [ 0.18101194  1.62109312  0.35624762  3.33591216  0.27226996  0.52349717\n",
      "  2.49782145  0.98761179  0.26142124  0.30762152  2.58191434  0.74475854\n",
      "  0.45893986  1.1712562   0.52851874  0.2555335   0.19098667  0.69780475\n",
      "  2.15503989  0.7787122 ]\n",
      "delY: [ 0.02694586  1.75390105  0.12038763  2.8908792   0.91512563  1.24461156\n",
      "  3.432414    3.37550095  1.24800576  2.35734269  2.84014901  1.93606847\n",
      "  1.43244899  1.20157996  1.44312881  2.68116455  0.15591205  1.82594436\n",
      "  1.46066645  1.12366911]\n",
      "IF PERFECTLY FOUND COEFFICIENTS\n",
      "mX: 3.3359 mY: 3.4324 m: 3.4324\n",
      "sigSqr: 5.6013\n"
     ]
    }
   ],
   "source": [
    "delX = abs(leftX - rightX)\n",
    "delY = abs(leftY - rightY)\n",
    "print(\"delX:\", delX)\n",
    "print(\"delY:\", delY)\n",
    "\n",
    "sigSqr = 1.0 / N * sum(delX**2 + delY**2)\n",
    "mX = max(delX)\n",
    "mY = max(delY)\n",
    "m = max(mX, mY)\n",
    "\n",
    "print(\"IF PERFECTLY FOUND COEFFICIENTS\")\n",
    "print(\"mX: %.4f mY: %.4f m: %.4f\" % (mX, mY, m))\n",
    "print(\"sigSqr: %.4f\" % sigSqr)"
   ]
  },
  {
   "cell_type": "code",
   "execution_count": null,
   "metadata": {
    "collapsed": true
   },
   "outputs": [],
   "source": []
  },
  {
   "cell_type": "markdown",
   "metadata": {},
   "source": [
    "### Test affine model"
   ]
  },
  {
   "cell_type": "markdown",
   "metadata": {},
   "source": [
    "Calculate model coefficients"
   ]
  },
  {
   "cell_type": "code",
   "execution_count": 16,
   "metadata": {
    "collapsed": true
   },
   "outputs": [],
   "source": [
    "leftX = inputLeftX\n",
    "leftY = inputLeftY\n",
    "rightX = inputRightX\n",
    "rightY = inputRightY"
   ]
  },
  {
   "cell_type": "code",
   "execution_count": 17,
   "metadata": {},
   "outputs": [
    {
     "name": "stdout",
     "output_type": "stream",
     "text": [
      "xi:\n",
      " [ 1462.63626688   603.35297643  1988.74674445   745.22861139   758.01716864\n",
      "   641.37225151  1942.05132419  1683.33903689  1064.38828693  1015.63635841\n",
      "  1524.868709    1134.15982975   755.00793265   784.61285505  1792.34308442\n",
      "  1541.77813429   865.93094494  1130.33516997  1091.77561438   854.01362966\n",
      "  1986.60830063  1527.20091173  1428.05162095  1318.47923688  1583.66162718\n",
      "   447.92975158  1503.37425461  1790.98815596  1286.21111534   503.03956998\n",
      "  1363.80598361  1425.75059051  1242.86589217   733.54973569   968.52080518\n",
      "  1216.80149316  1280.0755024   1667.81796668  1295.09240885  1708.26646155]\n"
     ]
    }
   ],
   "source": [
    "xi = np.zeros(2 * NUM_STAR_PAIRS)\n",
    "\n",
    "for i in range(NUM_STAR_PAIRS): # fill the xi vector\n",
    "    xi[2 * i] = rightX[i]\n",
    "    xi[2 * i + 1] = rightY[i]\n",
    "\n",
    "print('xi:\\n', xi)"
   ]
  },
  {
   "cell_type": "code",
   "execution_count": 18,
   "metadata": {},
   "outputs": [
    {
     "name": "stdout",
     "output_type": "stream",
     "text": [
      "\n",
      "Affine coefficients:\n",
      "0.9903 0.0059 -0.0145 0.9993 \n",
      "250.26 56.53\n",
      "\n",
      "Perfect Affine coefficients:\n",
      "0.9951 0.0070 -0.0118 1.0023 \n",
      "241.96 50.92\n",
      "cond(A):  5755.55856641\n"
     ]
    }
   ],
   "source": [
    "k = 6 # num of coeff-s\n",
    "\n",
    "z = np.zeros(k)\n",
    "arr = np.zeros((2 * NUM_STAR_PAIRS, k)) # matrix A\n",
    "\n",
    "for i in range(NUM_STAR_PAIRS): # fill the A matrix\n",
    "    \n",
    "    arr[2 * i] = [leftX[i], leftY[i], 0, 0, 1, 0]\n",
    "\n",
    "    arr[2 * i + 1] = [0, 0, leftX[i], leftY[i], 0, 1]\n",
    "\n",
    "    \n",
    "p_arr = pinv(arr, rcond=1e-20)\n",
    "z = np.dot(p_arr, xi)\n",
    "\n",
    "print(\"\"\"\n",
    "Affine coefficients:\n",
    "%.4f %.4f %.4f %.4f \n",
    "%.2f %.2f\"\"\" % tuple(z))\n",
    "print(\"\"\"\n",
    "Perfect Affine coefficients:\n",
    "%.4f %.4f %.4f %.4f \n",
    "%.2f %.2f\"\"\" % AFFINE_COEFFS)\n",
    "print('cond(A): ', np.linalg.cond(arr))"
   ]
  },
  {
   "cell_type": "code",
   "execution_count": null,
   "metadata": {
    "collapsed": true
   },
   "outputs": [],
   "source": []
  },
  {
   "cell_type": "markdown",
   "metadata": {},
   "source": [
    "Calculate error metrics"
   ]
  },
  {
   "cell_type": "code",
   "execution_count": 19,
   "metadata": {
    "collapsed": true
   },
   "outputs": [],
   "source": [
    "\"\"\"\n",
    "Align images and blend\n",
    "\n",
    "a) Affine\n",
    "\"\"\";"
   ]
  },
  {
   "cell_type": "code",
   "execution_count": 20,
   "metadata": {},
   "outputs": [
    {
     "name": "stdout",
     "output_type": "stream",
     "text": [
      "Backward affine Left:\n",
      "Left X: [ 1460.76052512  1987.02167788   756.80199694  1953.30720271  1067.72852806\n",
      "  1520.75384618   758.01542565  1786.97441489   868.03649443  1094.38757508\n",
      "  1991.84139688  1426.43129662  1581.43082949  1499.52682622  1285.68257859\n",
      "  1361.69771907  1244.56985572   971.8537436   1275.57644609  1291.63520819]\n",
      "Left Y: [  605.14028546   742.54862214   640.07033615  1694.85303548  1016.98092456\n",
      "  1130.66936839   788.05714782  1535.68197119  1132.53359674   857.06784659\n",
      "  1529.26623901  1312.95160741   445.9598136   1794.06557228   505.78310348\n",
      "  1418.97680247   734.57254923  1215.29574358  1666.18373895  1706.99442255]\n",
      "\n",
      "Right:\n",
      "Right X: [ 1462.63626688  1988.74674445   758.01716864  1942.05132419  1064.38828693\n",
      "  1524.868709     755.00793265  1792.34308442   865.93094494  1091.77561438\n",
      "  1986.60830063  1428.05162095  1583.66162718  1503.37425461  1286.21111534\n",
      "  1363.80598361  1242.86589217   968.52080518  1280.0755024   1295.09240885]\n",
      "Right Y: [  603.35297643   745.22861139   641.37225151  1683.33903689  1015.63635841\n",
      "  1134.15982975   784.61285505  1541.77813429  1130.33516997   854.01362966\n",
      "  1527.20091173  1318.47923688   447.92975158  1790.98815596   503.03956998\n",
      "  1425.75059051   733.54973569  1216.80149316  1667.81796668  1708.26646155]\n",
      "\n"
     ]
    }
   ],
   "source": [
    "affine = partial(affine_transform, coeffs=tuple(z))\n",
    "\n",
    "# Calc estimated (affine transformed) points\n",
    "leftCoords = array(list(map(affine, zip(leftX, leftY))))\n",
    "\n",
    "# Estimated coordinates\n",
    "estLeftX = leftCoords[:, 0]\n",
    "estLeftY = leftCoords[:, 1]\n",
    "\n",
    "\n",
    "print('''Backward affine Left:\n",
    "Left X: {}\n",
    "Left Y: {}\n",
    "'''.format(estLeftX, estLeftY)\n",
    ")\n",
    "\n",
    "print('''Right:\n",
    "Right X: {}\n",
    "Right Y: {}\n",
    "'''.format(rightX, rightY)\n",
    ")"
   ]
  },
  {
   "cell_type": "markdown",
   "metadata": {},
   "source": [
    "1) $\\Delta x_i, \\Delta y_i, \\; i = 1,N$\n",
    "\n",
    "2) $\\sigma^2 = \\frac{1}{N} \\sum\\limits_{i=1}^{N} \n",
    "                \\left( \\Delta x_i^2 + \\Delta y_i^2 \\right)$"
   ]
  },
  {
   "cell_type": "code",
   "execution_count": 21,
   "metadata": {},
   "outputs": [
    {
     "name": "stdout",
     "output_type": "stream",
     "text": [
      "delX: [  1.87574176   1.72506657   1.2151717   11.25587851   3.34024113\n",
      "   4.11486282   3.00749301   5.36866953   2.10554948   2.6119607\n",
      "   5.23309625   1.62032433   2.23079769   3.8474284    0.52853675\n",
      "   2.10826454   1.70396356   3.33293842   4.49905631   3.45720066]\n",
      "delY: [  1.78730903   2.67998925   1.30191536  11.51399859   1.34456615\n",
      "   3.49046136   3.44429276   6.0961631    2.19842677   3.05421693\n",
      "   2.06532728   5.52762947   1.96993798   3.07741632   2.7435335\n",
      "   6.77378804   1.02281355   1.50574958   1.63422773   1.272039  ]\n",
      "mX: 11.2559 mY: 11.5140 m: 11.5140\n",
      "sigSqr: 32.1803\n"
     ]
    }
   ],
   "source": [
    "delX = abs(estLeftX - rightX)\n",
    "delY = abs(estLeftY - rightY)\n",
    "print(\"delX:\", delX)\n",
    "print(\"delY:\", delY)\n",
    "\n",
    "sigSqr = 1.0 / N * sum(delX**2 + delY**2)\n",
    "mX = max(delX)\n",
    "mY = max(delY)\n",
    "m = max(mX, mY)\n",
    "\n",
    "print(\"mX: %.4f mY: %.4f m: %.4f\" % (mX, mY, m))\n",
    "print(\"sigSqr: %.4f\" % sigSqr)"
   ]
  },
  {
   "cell_type": "markdown",
   "metadata": {},
   "source": [
    "Plot aligned star pairs"
   ]
  },
  {
   "cell_type": "code",
   "execution_count": 22,
   "metadata": {
    "collapsed": true
   },
   "outputs": [],
   "source": [
    "scatter = Image.new('RGB', (width, height), 'lightgray')\n",
    "\n",
    "\n",
    "draw = ImageDraw.Draw(scatter)\n",
    "draw.ellipse((xCenter - ELL_RAD, yCenter - ELL_RAD, \n",
    "              xCenter + ELL_RAD, yCenter + ELL_RAD), fill='darkgreen')\n",
    "\n",
    "\n",
    "for i in range(NUM_STAR_PAIRS): # draw star points\n",
    "    draw.ellipse((estLeftX[i] - ELL_RAD, estLeftY[i] - ELL_RAD, \n",
    "                  estLeftX[i] + ELL_RAD, estLeftY[i] + ELL_RAD), fill='red')\n",
    "    \n",
    "    draw.ellipse((rightX[i] - ELL_RAD, rightY[i] - ELL_RAD, \n",
    "                  rightX[i] + ELL_RAD, rightY[i] + ELL_RAD), fill='blue')"
   ]
  },
  {
   "cell_type": "code",
   "execution_count": 23,
   "metadata": {
    "collapsed": true
   },
   "outputs": [],
   "source": [
    "scatter.save('000.png')"
   ]
  },
  {
   "cell_type": "markdown",
   "metadata": {},
   "source": [
    "### Test affine+distortion3 model"
   ]
  },
  {
   "cell_type": "markdown",
   "metadata": {},
   "source": [
    "Calculate model coefficients"
   ]
  },
  {
   "cell_type": "code",
   "execution_count": 24,
   "metadata": {
    "collapsed": true
   },
   "outputs": [],
   "source": [
    "leftX = inputLeftX\n",
    "leftY = inputLeftY\n",
    "rightX = inputRightX\n",
    "rightY = inputRightY"
   ]
  },
  {
   "cell_type": "code",
   "execution_count": null,
   "metadata": {
    "collapsed": true
   },
   "outputs": [],
   "source": []
  },
  {
   "cell_type": "code",
   "execution_count": null,
   "metadata": {
    "collapsed": true
   },
   "outputs": [],
   "source": []
  },
  {
   "cell_type": "markdown",
   "metadata": {},
   "source": [
    "Calculate error metrics"
   ]
  },
  {
   "cell_type": "code",
   "execution_count": null,
   "metadata": {
    "collapsed": true
   },
   "outputs": [],
   "source": []
  },
  {
   "cell_type": "markdown",
   "metadata": {},
   "source": [
    "Plot aligned star pairs"
   ]
  },
  {
   "cell_type": "code",
   "execution_count": null,
   "metadata": {
    "collapsed": true
   },
   "outputs": [],
   "source": []
  },
  {
   "cell_type": "markdown",
   "metadata": {},
   "source": [
    "### Test affine+distortion35 model"
   ]
  },
  {
   "cell_type": "markdown",
   "metadata": {},
   "source": [
    "Calculate model coefficients"
   ]
  },
  {
   "cell_type": "code",
   "execution_count": 25,
   "metadata": {
    "collapsed": true
   },
   "outputs": [],
   "source": [
    "leftX = inputLeftX\n",
    "leftY = inputLeftY\n",
    "rightX = inputRightX\n",
    "rightY = inputRightY"
   ]
  },
  {
   "cell_type": "code",
   "execution_count": 26,
   "metadata": {
    "collapsed": true
   },
   "outputs": [],
   "source": [
    "\"\"\"\n",
    "c) Affine + Ditortion 3rd, 5th orders \n",
    "  (at least 5 stars)\n",
    "\"\"\";"
   ]
  },
  {
   "cell_type": "code",
   "execution_count": 27,
   "metadata": {
    "collapsed": true
   },
   "outputs": [],
   "source": [
    "k35 = 10\n",
    "\n",
    "z35 = np.zeros(k35)\n",
    "arr35 = np.zeros((2 * N, k35)) # matrix A\n",
    "\n",
    "for i in range(N): # fill the A matrix\n",
    "    dist_l = (leftX[i] - xCenter) ** 2 + (leftY[i] - yCenter) ** 2\n",
    "    dist_r = (rightX[i] - xCenter) ** 2 + (rightY[i] - yCenter) ** 2\n",
    "\n",
    "    zx1 = (leftX[i] - xCenter) * dist_l\n",
    "    zx2 = (rightX[i] - xCenter) * dist_r\n",
    "    wx1 = (leftX[i] - xCenter) * dist_l ** 2\n",
    "    wx2 = (rightX[i] - xCenter) * dist_r ** 2\n",
    "\n",
    "    arr35[2 * i] = [leftX[i], leftY[i], 0, 0, 1, 0, -zx1, zx2, -wx1, wx2]\n",
    "\n",
    "    zy1 = (leftY[i] - yCenter) * dist_l\n",
    "    zy2 = (rightY[i] - yCenter) * dist_r\n",
    "    wy1 = (leftY[i] - yCenter) * dist_l ** 2\n",
    "    wy2 = (rightY[i] - yCenter) * dist_r ** 2\n",
    "\n",
    "    arr35[2 * i + 1] = [0, 0, leftX[i], leftY[i], 0, 1, -zy1, zy2, -wy1, wy2]\n"
   ]
  },
  {
   "cell_type": "code",
   "execution_count": 28,
   "metadata": {},
   "outputs": [
    {
     "name": "stdout",
     "output_type": "stream",
     "text": [
      "\n",
      "Affine coefficients + Ditortion 3rd, 5th orders:\n",
      "\n",
      "1.0005 0.0077 -0.0096 1.0096 \n",
      "236.76 41.54 \n",
      "3.11e-08 2.30e-08 \n",
      "4.02e-14 -4.97e-16\n",
      "\n",
      "Perfect Affine coefficients:\n",
      "0.9951 0.0070 -0.0118 1.0023 \n",
      "241.96 50.92\n",
      "3.00e-08 4.00e-08\n",
      "2.00e-14 -2.00e-14\n",
      "cond(A):  7.83251351581e+15\n"
     ]
    }
   ],
   "source": [
    "p_arr35 = pinv(arr35, rcond=1e-20)\n",
    "z35 = np.dot(p_arr35, xi)\n",
    "\n",
    "\n",
    "print(\"\"\"\n",
    "Affine coefficients + Ditortion 3rd, 5th orders:\n",
    "\n",
    "%.4f %.4f %.4f %.4f \n",
    "%.2f %.2f \n",
    "%.2e %.2e \n",
    "%.2e %.2e\"\"\" % tuple(z35))\n",
    "\n",
    "print(\"\"\"\n",
    "Perfect Affine coefficients:\n",
    "%.4f %.4f %.4f %.4f \n",
    "%.2f %.2f\n",
    "%.2e %.2e\n",
    "%.2e %.2e\"\"\" % tuple( list(AFFINE_COEFFS) + [EPS1, EPS2, EPS3, EPS4] ) )\n",
    "\n",
    "\n",
    "print('cond(A): ', np.linalg.cond(arr35))"
   ]
  },
  {
   "cell_type": "markdown",
   "metadata": {},
   "source": [
    "Calculate error metrics"
   ]
  },
  {
   "cell_type": "code",
   "execution_count": 29,
   "metadata": {
    "collapsed": true
   },
   "outputs": [],
   "source": [
    "\"\"\"\n",
    "c) Affine + Ditortion3,5\n",
    "\"\"\";"
   ]
  },
  {
   "cell_type": "code",
   "execution_count": 30,
   "metadata": {
    "collapsed": true
   },
   "outputs": [],
   "source": [
    "a = float(z35[0])\n",
    "b = float(z35[1])\n",
    "c = float(z35[2])\n",
    "d = float(z35[3])\n",
    "e = float(z35[4])\n",
    "f = float(z35[5])\n",
    "\n",
    "eps1 = float(z35[6])\n",
    "eps2 = float(z35[7])\n",
    "eps3 = float(z35[8])\n",
    "eps4 = float(z35[9])"
   ]
  },
  {
   "cell_type": "code",
   "execution_count": 31,
   "metadata": {},
   "outputs": [
    {
     "name": "stdout",
     "output_type": "stream",
     "text": [
      "Backward distort+affine Left:\n",
      "Left X: [ 1458.67737653  1965.19769802   759.17794296  1913.53051684  1064.5296576\n",
      "  1521.43330091   757.68061009  1776.02176432   864.95934898  1091.29740886\n",
      "  1959.92535163  1426.56189365  1574.5594026   1492.66782988  1283.20272305\n",
      "  1361.34532009  1242.53733946   968.84581066  1274.87891746  1290.70977485]\n",
      "Left Y: [  606.13156331   754.37564761   641.57678758  1661.97636499  1016.03140009\n",
      "  1132.88788736   786.64108026  1529.08579062  1131.21291504   854.94701057\n",
      "  1512.56067243  1315.78131241   455.64554536  1775.80865495   507.31941641\n",
      "  1421.37198852   732.61163771  1215.21243366  1661.32450311  1699.51586812]\n",
      "\n",
      "Backward distort Right:\n",
      "Right X: [ 1458.71525095  1965.56557745   759.05498915  1913.55548731  1064.38178371\n",
      "  1521.34713291   755.60635643  1775.88216872   866.03870482  1091.71286978\n",
      "  1958.97258873  1425.26549505  1575.11531253  1493.38729156  1284.06082642\n",
      "  1361.1987497   1242.1416513    968.55552853  1276.73456692  1291.14631397]\n",
      "Right Y: [  606.71470877   751.20172649   642.91034093  1662.66891284  1015.63477914\n",
      "  1133.25969217   785.1389651   1530.52270168  1130.23041125   854.11343674\n",
      "  1512.43357955  1316.40630174   456.01348681  1775.29492291   506.77320731\n",
      "  1422.69942745   734.34430658  1216.5623487   1659.85176928  1698.79523635]\n",
      "\n"
     ]
    }
   ],
   "source": [
    "# Backward distort\n",
    "\n",
    "correctDistortLeft = partial(correct_distort, coeffs=(eps1, eps3))\n",
    "leftCoords = array(list(map(correctDistortLeft, zip(leftX, leftY))))\n",
    "leftX = leftCoords[:, 0]\n",
    "leftY = leftCoords[:, 1]\n",
    "\n",
    "\n",
    "correctDistortRight = partial(correct_distort, coeffs=(eps2, eps4))\n",
    "rightCoords = array(list(map(correctDistortRight, zip(rightX, rightY))))\n",
    "estRightX35 = rightCoords[:, 0]\n",
    "estRightY35 = rightCoords[:, 1]\n",
    "\n",
    "\n",
    "# Backward affine\n",
    "affine = partial(affine_transform, coeffs=(a,b,c,d,e,f))\n",
    "\n",
    "\n",
    "leftCoords = array(list(map(affine, zip(leftX, leftY))))\n",
    "estLeftX35 = leftCoords[:, 0]\n",
    "estLeftY35 = leftCoords[:, 1]\n",
    "\n",
    "\n",
    "print('''Backward distort+affine Left:\n",
    "Left X: {}\n",
    "Left Y: {}\n",
    "'''.format(estLeftX35, estLeftY35)\n",
    ")\n",
    "\n",
    "print('''Backward distort Right:\n",
    "Right X: {}\n",
    "Right Y: {}\n",
    "'''.format(estRightX35, estRightY35)\n",
    ")"
   ]
  },
  {
   "cell_type": "code",
   "execution_count": 32,
   "metadata": {},
   "outputs": [
    {
     "name": "stdout",
     "output_type": "stream",
     "text": [
      "delX35: [ 0.03787442  0.36787943  0.1229538   0.02497047  0.14787388  0.08616799\n",
      "  2.07425366  0.1395956   1.07935584  0.41546092  0.9527629   1.29639859\n",
      "  0.55590993  0.71946168  0.85810337  0.14657039  0.39568815  0.29028212\n",
      "  1.85564946  0.43653912]\n",
      "delY35: [ 0.58314546  3.17392112  1.33355335  0.69254785  0.39662095  0.37180481\n",
      "  1.50211516  1.43691106  0.98250378  0.83357383  0.12709288  0.62498933\n",
      "  0.36794144  0.51373204  0.54620909  1.32743892  1.73266888  1.34991504\n",
      "  1.47273383  0.72063177]\n",
      "mX35: 2.0743 mY35: 3.1739 m35: 3.1739\n",
      "sigSqr35: 2.1608\n"
     ]
    }
   ],
   "source": [
    "delX35 = abs(estLeftX35 - estRightX35)\n",
    "delY35 = abs(estLeftY35 - estRightY35)\n",
    "print(\"delX35:\", delX35)\n",
    "print(\"delY35:\", delY35)\n",
    "\n",
    "sigSqr35 = 1.0 / N * sum(delX35**2 + delY35**2)\n",
    "mX35 = max(delX35)\n",
    "mY35 = max(delY35)\n",
    "m35 = max(mX35, mY35)\n",
    "\n",
    "print(\"mX35: %.4f mY35: %.4f m35: %.4f\" % (mX35, mY35, m35))\n",
    "print(\"sigSqr35: %.4f\" % sigSqr35)"
   ]
  },
  {
   "cell_type": "markdown",
   "metadata": {
    "collapsed": true
   },
   "source": [
    "Plot aligned star pairs"
   ]
  },
  {
   "cell_type": "code",
   "execution_count": 33,
   "metadata": {
    "collapsed": true
   },
   "outputs": [],
   "source": [
    "scatter35 = Image.new('RGB', (width, height), 'lightgray')\n",
    "\n",
    "\n",
    "draw = ImageDraw.Draw(scatter35)\n",
    "draw.ellipse((xCenter - ELL_RAD, yCenter - ELL_RAD, \n",
    "              xCenter + ELL_RAD, yCenter + ELL_RAD), fill='darkgreen')\n",
    "\n",
    "\n",
    "for i in range(NUM_STAR_PAIRS): # draw star points\n",
    "    draw.ellipse((estLeftX35[i] - ELL_RAD, estLeftY35[i] - ELL_RAD, \n",
    "                  estLeftX35[i] + ELL_RAD, estLeftY35[i] + ELL_RAD), fill='red')\n",
    "    \n",
    "    draw.ellipse((estRightX35[i] - ELL_RAD, estRightY35[i] - ELL_RAD, \n",
    "                  estRightX35[i] + ELL_RAD, estRightY35[i] + ELL_RAD), fill='blue')\n"
   ]
  },
  {
   "cell_type": "code",
   "execution_count": 34,
   "metadata": {
    "collapsed": true
   },
   "outputs": [],
   "source": [
    "scatter35.save('035.png')"
   ]
  }
 ],
 "metadata": {
  "kernelspec": {
   "display_name": "Python 3",
   "language": "python",
   "name": "python3"
  },
  "language_info": {
   "codemirror_mode": {
    "name": "ipython",
    "version": 3
   },
   "file_extension": ".py",
   "mimetype": "text/x-python",
   "name": "python",
   "nbconvert_exporter": "python",
   "pygments_lexer": "ipython3",
   "version": "3.6.4"
  }
 },
 "nbformat": 4,
 "nbformat_minor": 2
}
