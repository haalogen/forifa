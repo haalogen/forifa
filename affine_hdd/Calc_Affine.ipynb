{
 "cells": [
  {
   "cell_type": "code",
   "execution_count": 240,
   "metadata": {
    "collapsed": true
   },
   "outputs": [],
   "source": [
    "import numpy as np"
   ]
  },
  {
   "cell_type": "code",
   "execution_count": 241,
   "metadata": {
    "collapsed": false
   },
   "outputs": [],
   "source": [
    "np.set_printoptions(precision=4, suppress=True)"
   ]
  },
  {
   "cell_type": "code",
   "execution_count": 242,
   "metadata": {
    "collapsed": true
   },
   "outputs": [],
   "source": [
    "folder_name = 'data/real_stars_3072/'\n",
    "# stars from center of pictures only\n",
    "fnames = [\n",
    "    '20160218_201934_unmod_stars_coords',\n",
    "    '20160219_021934_unmod_stars_coords',\n",
    "    '20160323_031848_unmod_stars_coords',\n",
    "    '20160329_043931_unmod_stars_coords',\n",
    "    '20160507_000119_unmod_stars_coords'\n",
    "]\n",
    "\n",
    "# stars from whole pictures\n",
    "# fnames = [\n",
    "#     '20151016_221239_stars_coords',\n",
    "#     '20160218_201934_stars_coords',\n",
    "#     '20160219_021934_stars_coords',\n",
    "#     '20160323_031848_stars_coords',\n",
    "#     '20160329_043931_stars_coords',\n",
    "#     '20160507_000119_stars_coords'\n",
    "# ]"
   ]
  },
  {
   "cell_type": "code",
   "execution_count": 243,
   "metadata": {
    "collapsed": true
   },
   "outputs": [],
   "source": [
    "import os"
   ]
  },
  {
   "cell_type": "code",
   "execution_count": 244,
   "metadata": {
    "collapsed": false,
    "scrolled": true
   },
   "outputs": [
    {
     "name": "stdout",
     "output_type": "stream",
     "text": [
      "[array([[ 4847.,  1953.,  6067.,  2152.],\n",
      "       [ 6022.,  3168.,  7278.,  3363.],\n",
      "       [ 4827.,  1191.,  6037.,  1393.],\n",
      "       [ 5387.,   942.,  6593.,  1127.]]), array([[ 1933.,  3897.,  3177.,  4122.],\n",
      "       [ 2777.,  3043.,  4012.,  3268.],\n",
      "       [ 4252.,  3977.,  5498.,  4192.],\n",
      "       [ 3963.,  4948.,  5207.,  5162.],\n",
      "       [  762.,  2157.,  2017.,  2413.]]), array([[  963.,  1487.,  2197.,  1711.],\n",
      "       [ 1887.,  1832.,  3107.,  2042.],\n",
      "       [ 3313.,  1397.,  4518.,  1587.],\n",
      "       [ 6332.,  1017.,  7552.,  1147.]]), array([[ 2408.,  4422.,  3653.,  4607.],\n",
      "       [ 5197.,  5122.,  6451.,  5307.],\n",
      "       [ 1692.,  2848.,  2933.,  3047.]]), array([[    6.,   412.,  1273.,   677.],\n",
      "       [ 1502.,  1838.,  2747.,  2048.],\n",
      "       [ 2392.,  2247.,  3632.,  2443.],\n",
      "       [ 3831.,  1908.,  5062.,  2088.],\n",
      "       [  332.,  1418.,  1602.,  1648.]])]\n"
     ]
    }
   ],
   "source": [
    "coords_list = []\n",
    "for fname in fnames:\n",
    "    piece = np.loadtxt(folder_name + os.sep + fname)\n",
    "    \n",
    "    coords_list.append(piece)\n",
    "\n",
    "print coords_list"
   ]
  },
  {
   "cell_type": "code",
   "execution_count": 245,
   "metadata": {
    "collapsed": false
   },
   "outputs": [
    {
     "name": "stdout",
     "output_type": "stream",
     "text": [
      "[[ 4847.  1953.  6067.  2152.]\n",
      " [ 6022.  3168.  7278.  3363.]\n",
      " [ 4827.  1191.  6037.  1393.]\n",
      " [ 5387.   942.  6593.  1127.]\n",
      " [ 1933.  3897.  3177.  4122.]\n",
      " [ 2777.  3043.  4012.  3268.]\n",
      " [ 4252.  3977.  5498.  4192.]\n",
      " [ 3963.  4948.  5207.  5162.]\n",
      " [  762.  2157.  2017.  2413.]\n",
      " [  963.  1487.  2197.  1711.]\n",
      " [ 1887.  1832.  3107.  2042.]\n",
      " [ 3313.  1397.  4518.  1587.]\n",
      " [ 6332.  1017.  7552.  1147.]\n",
      " [ 2408.  4422.  3653.  4607.]\n",
      " [ 5197.  5122.  6451.  5307.]\n",
      " [ 1692.  2848.  2933.  3047.]\n",
      " [    6.   412.  1273.   677.]\n",
      " [ 1502.  1838.  2747.  2048.]\n",
      " [ 2392.  2247.  3632.  2443.]\n",
      " [ 3831.  1908.  5062.  2088.]\n",
      " [  332.  1418.  1602.  1648.]]\n"
     ]
    }
   ],
   "source": [
    "coords = np.vstack(coords_list)\n",
    "print coords"
   ]
  },
  {
   "cell_type": "code",
   "execution_count": 246,
   "metadata": {
    "collapsed": false
   },
   "outputs": [
    {
     "name": "stdout",
     "output_type": "stream",
     "text": [
      "[[  969.   391.  1213.   430.]\n",
      " [ 1204.   634.  1456.   673.]\n",
      " [  965.   238.  1207.   279.]\n",
      " [ 1077.   188.  1319.   225.]\n",
      " [  387.   779.   635.   824.]\n",
      " [  555.   609.   802.   654.]\n",
      " [  850.   795.  1100.   838.]\n",
      " [  793.   990.  1041.  1032.]\n",
      " [  152.   431.   403.   483.]\n",
      " [  193.   297.   439.   342.]\n",
      " [  377.   366.   621.   408.]\n",
      " [  663.   279.   904.   317.]\n",
      " [ 1266.   203.  1510.   229.]\n",
      " [  482.   884.   731.   921.]\n",
      " [ 1039.  1024.  1290.  1061.]\n",
      " [  338.   570.   587.   609.]\n",
      " [    1.    82.   255.   135.]\n",
      " [  300.   368.   549.   410.]\n",
      " [  478.   449.   726.   489.]\n",
      " [  766.   382.  1012.   418.]\n",
      " [   66.   284.   320.   330.]]\n"
     ]
    }
   ],
   "source": [
    "coords /= 5\n",
    "coords = coords.round()\n",
    "print coords"
   ]
  },
  {
   "cell_type": "code",
   "execution_count": 247,
   "metadata": {
    "collapsed": false
   },
   "outputs": [
    {
     "name": "stdout",
     "output_type": "stream",
     "text": [
      "21 4\n"
     ]
    }
   ],
   "source": [
    "lX = coords[:, 0] # leftX coordinates\n",
    "lY = coords[:, 1] # leftY coordinates\n",
    "rX = coords[:, 2] # rightX coordinates\n",
    "rY = coords[:, 3] # rightY coordinates\n",
    "\n",
    "N = coords.shape[0] # number of pairs of points\n",
    "M = coords.shape[1] # lX, lY, rX, rY == 4\n",
    "print N, M"
   ]
  },
  {
   "cell_type": "code",
   "execution_count": 248,
   "metadata": {
    "collapsed": true
   },
   "outputs": [],
   "source": [
    "xi = np.zeros(2*N)\n",
    "z = np.zeros(6)\n",
    "arr = np.zeros((2*N, 6)) # matrix A"
   ]
  },
  {
   "cell_type": "code",
   "execution_count": 249,
   "metadata": {
    "collapsed": true
   },
   "outputs": [],
   "source": [
    "for i in xrange(N): # fill the xi vector\n",
    "    xi[2*i] = rX[i]\n",
    "    xi[2*i + 1] = rY[i]"
   ]
  },
  {
   "cell_type": "code",
   "execution_count": 250,
   "metadata": {
    "collapsed": true
   },
   "outputs": [],
   "source": [
    "for i in xrange(N): # fill the A matrix\n",
    "    arr[2*i] = [lX[i], lY[i], 0, 0, 1, 0]\n",
    "    \n",
    "    arr[2*i + 1] = [0, 0, lX[i], lY[i], 0, 1]"
   ]
  },
  {
   "cell_type": "code",
   "execution_count": 251,
   "metadata": {
    "collapsed": false
   },
   "outputs": [
    {
     "name": "stdout",
     "output_type": "stream",
     "text": [
      "A:\n",
      "[[  969.   391.     0.     0.     1.     0.]\n",
      " [    0.     0.   969.   391.     0.     1.]\n",
      " [ 1204.   634.     0.     0.     1.     0.]\n",
      " [    0.     0.  1204.   634.     0.     1.]\n",
      " [  965.   238.     0.     0.     1.     0.]\n",
      " [    0.     0.   965.   238.     0.     1.]\n",
      " [ 1077.   188.     0.     0.     1.     0.]\n",
      " [    0.     0.  1077.   188.     0.     1.]\n",
      " [  387.   779.     0.     0.     1.     0.]\n",
      " [    0.     0.   387.   779.     0.     1.]\n",
      " [  555.   609.     0.     0.     1.     0.]\n",
      " [    0.     0.   555.   609.     0.     1.]\n",
      " [  850.   795.     0.     0.     1.     0.]\n",
      " [    0.     0.   850.   795.     0.     1.]\n",
      " [  793.   990.     0.     0.     1.     0.]\n",
      " [    0.     0.   793.   990.     0.     1.]\n",
      " [  152.   431.     0.     0.     1.     0.]\n",
      " [    0.     0.   152.   431.     0.     1.]\n",
      " [  193.   297.     0.     0.     1.     0.]\n",
      " [    0.     0.   193.   297.     0.     1.]\n",
      " [  377.   366.     0.     0.     1.     0.]\n",
      " [    0.     0.   377.   366.     0.     1.]\n",
      " [  663.   279.     0.     0.     1.     0.]\n",
      " [    0.     0.   663.   279.     0.     1.]\n",
      " [ 1266.   203.     0.     0.     1.     0.]\n",
      " [    0.     0.  1266.   203.     0.     1.]\n",
      " [  482.   884.     0.     0.     1.     0.]\n",
      " [    0.     0.   482.   884.     0.     1.]\n",
      " [ 1039.  1024.     0.     0.     1.     0.]\n",
      " [    0.     0.  1039.  1024.     0.     1.]\n",
      " [  338.   570.     0.     0.     1.     0.]\n",
      " [    0.     0.   338.   570.     0.     1.]\n",
      " [    1.    82.     0.     0.     1.     0.]\n",
      " [    0.     0.     1.    82.     0.     1.]\n",
      " [  300.   368.     0.     0.     1.     0.]\n",
      " [    0.     0.   300.   368.     0.     1.]\n",
      " [  478.   449.     0.     0.     1.     0.]\n",
      " [    0.     0.   478.   449.     0.     1.]\n",
      " [  766.   382.     0.     0.     1.     0.]\n",
      " [    0.     0.   766.   382.     0.     1.]\n",
      " [   66.   284.     0.     0.     1.     0.]\n",
      " [    0.     0.    66.   284.     0.     1.]] \n",
      "\n",
      "xi:\n",
      "[ 1213.   430.  1456.   673.  1207.   279.  1319.   225.   635.   824.\n",
      "   802.   654.  1100.   838.  1041.  1032.   403.   483.   439.   342.\n",
      "   621.   408.   904.   317.  1510.   229.   731.   921.  1290.  1061.\n",
      "   587.   609.   255.   135.   549.   410.   726.   489.  1012.   418.\n",
      "   320.   330.]\n"
     ]
    }
   ],
   "source": [
    "print 'A:\\n', arr, '\\n'\n",
    "print 'xi:\\n', xi"
   ]
  },
  {
   "cell_type": "code",
   "execution_count": 252,
   "metadata": {
    "collapsed": true
   },
   "outputs": [],
   "source": [
    "from numpy.linalg import norm, pinv"
   ]
  },
  {
   "cell_type": "code",
   "execution_count": 253,
   "metadata": {
    "collapsed": false
   },
   "outputs": [
    {
     "name": "stdout",
     "output_type": "stream",
     "text": [
      "Affine coefficients: \n",
      "[   0.9949    0.0058   -0.0115    1.0016  247.9095   47.3994]\n"
     ]
    }
   ],
   "source": [
    "p_arr = pinv(arr)\n",
    "z = np.dot(p_arr, xi)\n",
    "print 'Affine coefficients: \\n', z"
   ]
  },
  {
   "cell_type": "code",
   "execution_count": 254,
   "metadata": {
    "collapsed": false
   },
   "outputs": [
    {
     "name": "stdout",
     "output_type": "stream",
     "text": [
      "cond(A):  2139.3693465\n",
      "Probability: 0.0756151024365\n",
      "Sigma theory: 3.63660161767\n",
      "Sigma practice 2\n"
     ]
    }
   ],
   "source": [
    "sigma = 2 # 2 pix error\n",
    "I = np.eye(2*N)\n",
    "\n",
    "print 'cond(A): ', np.linalg.cond(arr)\n",
    "# print norm( np.dot(I - np.dot(arr, p_arr), xi) )\n",
    "proba = (2*N - 6) / norm( np.dot(I - np.dot(arr, p_arr), xi) )**2\n",
    "sig_theory = (1 / proba)**0.5\n",
    "\n",
    "print 'Probability:', proba\n",
    "print 'Sigma theory:', sig_theory\n",
    "print 'Sigma practice', sigma"
   ]
  },
  {
   "cell_type": "code",
   "execution_count": null,
   "metadata": {
    "collapsed": true
   },
   "outputs": [],
   "source": []
  }
 ],
 "metadata": {
  "kernelspec": {
   "display_name": "Python 2",
   "language": "python",
   "name": "python2"
  },
  "language_info": {
   "codemirror_mode": {
    "name": "ipython",
    "version": 2
   },
   "file_extension": ".py",
   "mimetype": "text/x-python",
   "name": "python",
   "nbconvert_exporter": "python",
   "pygments_lexer": "ipython2",
   "version": "2.7.11"
  }
 },
 "nbformat": 4,
 "nbformat_minor": 0
}
