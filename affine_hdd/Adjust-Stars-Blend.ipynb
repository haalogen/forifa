{
 "cells": [
  {
   "cell_type": "code",
   "execution_count": 1,
   "metadata": {
    "collapsed": true
   },
   "outputs": [],
   "source": [
    "import os\n",
    "from time import time\n",
    "import numpy as np\n",
    "from PIL import Image\n",
    "np.set_printoptions(suppress=True)"
   ]
  },
  {
   "cell_type": "code",
   "execution_count": 2,
   "metadata": {
    "collapsed": true
   },
   "outputs": [],
   "source": [
    "start_time = time()"
   ]
  },
  {
   "cell_type": "code",
   "execution_count": 3,
   "metadata": {
    "collapsed": true
   },
   "outputs": [],
   "source": [
    "consider_distort = False\n",
    "num_shots = 1"
   ]
  },
  {
   "cell_type": "code",
   "execution_count": 4,
   "metadata": {
    "collapsed": true
   },
   "outputs": [],
   "source": [
    "folder = \"data/stars/2016nov/\" # data folder\n",
    "res_folder = 'results/2016nov/' # results folder\n",
    "date = \"20161121-220921-250\""
   ]
  },
  {
   "cell_type": "code",
   "execution_count": 5,
   "metadata": {
    "collapsed": true
   },
   "outputs": [],
   "source": [
    "# for ipynb\n",
    "fname_left = folder + os.sep + \"mod_\" + date + '-1.png'\n",
    "fname_right = folder + os.sep + \"mod_\" + date + '-2.png'\n",
    "\n",
    "# for cmd line run\n",
    "# fname_left = os.path.abspath(sys.argv[0])\n",
    "# fname_right = os.path.abspath(sys.argv[1])"
   ]
  },
  {
   "cell_type": "code",
   "execution_count": 6,
   "metadata": {
    "scrolled": true
   },
   "outputs": [
    {
     "name": "stdout",
     "output_type": "stream",
     "text": [
      "Images loaded as RGB:\n",
      "data/stars/2016nov//mod_20161121-220921-250-1.png\n",
      "data/stars/2016nov//mod_20161121-220921-250-2.png\n"
     ]
    }
   ],
   "source": [
    "img_left = Image.open(fname_left).convert(mode='RGB')\n",
    "img_right = Image.open(fname_right).convert(mode='RGB')\n",
    "print \"\"\"Images loaded as RGB:\n",
    "%s\n",
    "%s\"\"\" % (fname_left, fname_right)"
   ]
  },
  {
   "cell_type": "code",
   "execution_count": 7,
   "metadata": {},
   "outputs": [
    {
     "name": "stdout",
     "output_type": "stream",
     "text": [
      "Original width, height: 3112 2328\n"
     ]
    }
   ],
   "source": [
    "assert (img_left.size == img_right.size)\n",
    "w, h = width, height = img_left.size\n",
    "print 'Original width, height:', w, h"
   ]
  },
  {
   "cell_type": "code",
   "execution_count": 8,
   "metadata": {},
   "outputs": [
    {
     "name": "stdout",
     "output_type": "stream",
     "text": [
      "x_c, y_c: 1556.0 1164.0\n"
     ]
    }
   ],
   "source": [
    "x_c = img_left.width / 2.0\n",
    "y_c = img_left.height / 2.0\n",
    "print 'x_c, y_c:', x_c, y_c"
   ]
  },
  {
   "cell_type": "code",
   "execution_count": 9,
   "metadata": {
    "collapsed": true
   },
   "outputs": [],
   "source": [
    "# Load pixmaps\n",
    "l_pix = img_left.load()\n",
    "r_pix = img_right.load()"
   ]
  },
  {
   "cell_type": "code",
   "execution_count": 10,
   "metadata": {},
   "outputs": [],
   "source": [
    "for i in xrange(width):\n",
    "    for j in xrange(height):\n",
    "        r, g, b = l_pix[i, j] # color img_left in red\n",
    "        l_pix[i, j] = r, 0, 0\n",
    "        r, g, b = r_pix[i, j]\n",
    "        r_pix[i, j] = 0, g, 0 # color img_right in green"
   ]
  },
  {
   "cell_type": "code",
   "execution_count": 11,
   "metadata": {},
   "outputs": [],
   "source": [
    "l_pix[x_c, y_c] = 255, 255, 255    # Mark the center\n",
    "l_pix[x_c-1, y_c] = 255, 255, 255\n",
    "l_pix[x_c+1, y_c] = 255, 255, 255\n",
    "l_pix[x_c, y_c-1] = 255, 255, 255\n",
    "l_pix[x_c, y_c+1] = 255, 255, 255"
   ]
  },
  {
   "cell_type": "code",
   "execution_count": 12,
   "metadata": {},
   "outputs": [
    {
     "name": "stdout",
     "output_type": "stream",
     "text": [
      "Align coeeficients:\n",
      "[   0.9929384443    0.0081163571   -0.0096512692    1.0092245819\n",
      "  244.1666666667   37.6666666667]\n"
     ]
    }
   ],
   "source": [
    "align_coeffs = np.loadtxt(res_folder + 'affine_coeffs_shots'+ \\\n",
    "                          str(num_shots) + '_' + date + '.txt')\n",
    "\n",
    "# HACK! TMP!\n",
    "# align_coeffs = np.array([1,0,0,1, 240, 39], dtype='float')\n",
    "# align_coeffs[-2] += 8\n",
    "# align_coeffs[-1] += 18\n",
    "np.set_printoptions(precision=12)\n",
    "print 'Align coeeficients:\\n', align_coeffs"
   ]
  },
  {
   "cell_type": "code",
   "execution_count": 13,
   "metadata": {
    "collapsed": true
   },
   "outputs": [],
   "source": [
    "a = align_coeffs[0];\n",
    "b = align_coeffs[1];\n",
    "c = align_coeffs[2];\n",
    "d = align_coeffs[3];\n",
    "e = align_coeffs[4];\n",
    "f = align_coeffs[5];\n",
    "\n",
    "det = a * d - b * c;\n",
    "inv_a = d / det;\n",
    "inv_b = -b / det;\n",
    "inv_c = -c / det;\n",
    "inv_d = a / det;"
   ]
  },
  {
   "cell_type": "code",
   "execution_count": 14,
   "metadata": {
    "collapsed": true
   },
   "outputs": [],
   "source": [
    "def affine_transform_point(x, y):\n",
    "    return [b * y + x * a + e , d * y + x * c + f]"
   ]
  },
  {
   "cell_type": "code",
   "execution_count": 15,
   "metadata": {
    "collapsed": true
   },
   "outputs": [],
   "source": [
    "def apply_affine(img_left, img_right):\n",
    "    width = img_left.width\n",
    "    height = img_left.height\n",
    "    \n",
    "    aff_coord = np.zeros((4, 2))\n",
    "#     affine transformation of the corner points\n",
    "    aff_coord[0] = affine_transform_point(0, 0)\n",
    "    aff_coord[1] = affine_transform_point(width, 0)\n",
    "    aff_coord[2] = affine_transform_point(0, height)\n",
    "    aff_coord[3] = affine_transform_point(width, height)\n",
    "    \n",
    "#     the rightmost (biggest by value) x-coordinate of the transformed\n",
    "#     left-top and left-bottom x-coordinates\n",
    "    x0 = int( max(aff_coord[0, 0], aff_coord[2, 0]) )\n",
    "#     the lowermost (biggest by value) y-coordinate of the transformed\n",
    "#     left-top and right-top y-coordinates\n",
    "    y0 = int( max(aff_coord[0, 1], aff_coord[1, 1]) )\n",
    "#     the leftmost (smallest by value) x-coordinate of the transformed\n",
    "#     right-top and right-bottom x-coordinates\n",
    "    x1 = int( min(aff_coord[1, 0], aff_coord[3, 0]) )\n",
    "#     the uppermost (smallest by value) y-coordinate of the transformed\n",
    "#     left-bottom and right-bottom y-coordinates\n",
    "    y1 = int( min(aff_coord[2, 1], aff_coord[3, 1]) )\n",
    "    \n",
    "#     n_x0 -- x-coordinate of the new left-bot point\n",
    "    n_x0 = int( max(0, x0) )\n",
    "#     n_y0 -- y-coordinate of the new left-bot point\n",
    "    n_y0 = int( max(0, y0) )\n",
    "#     n_x1 -- x-coordinate of the new right-top point\n",
    "    n_x1 = int( min(width, x1) )\n",
    "#     n_y1 -- y-coordinate of the new right-top point\n",
    "    n_y1 = int( min(height, y1) )\n",
    "    \n",
    "    nw = n_x1 - n_x0 # new width\n",
    "    nh = n_y1 - n_y0 # new height\n",
    "    \n",
    "    new_left_img = Image.new(mode='RGB', size=(nw, nh))\n",
    "    new_right_img = Image.new(mode='RGB', size=(nw, nh))\n",
    "    \n",
    "    # Load pixmaps\n",
    "    l_pix = img_left.load()\n",
    "    r_pix = img_right.load()\n",
    "    nl_pix = new_left_img.load()\n",
    "    nr_pix = new_right_img.load()\n",
    "    \n",
    "    \n",
    "    \n",
    "    for  y in xrange(n_y0, n_y1):\n",
    "        for x in xrange(n_x0, n_x1):\n",
    "# Let's calculate backwards our original coordinates of the left image\n",
    "            orig_x = int( (x - e) * inv_a + (y - f) * inv_b )\n",
    "            orig_y = int( (x - e) * inv_c + (y - f) * inv_d )\n",
    "            \n",
    "#             assert(0 <= orig_x <= width)\n",
    "#             assert(0 <= orig_y <= height)\n",
    "            \n",
    "# paint new images with coordinates from (0,0) to (nw - 1, nh - 1)\n",
    "            nl_pix[x - n_x0, y - n_y0] = l_pix[orig_x, orig_y]\n",
    "            nr_pix[x - n_x0, y - n_y0] = r_pix[x, y]\n",
    "    \n",
    "    return (new_left_img, new_right_img)"
   ]
  },
  {
   "cell_type": "code",
   "execution_count": 16,
   "metadata": {
    "collapsed": true
   },
   "outputs": [],
   "source": [
    "width = img_left.width\n",
    "height = img_left.height\n",
    "\n",
    "aff_coord = np.zeros((4, 2))\n",
    "#     affine transformation of the corner points\n",
    "aff_coord[0] = affine_transform_point(0, 0)\n",
    "aff_coord[1] = affine_transform_point(width, 0)\n",
    "aff_coord[2] = affine_transform_point(0, height)\n",
    "aff_coord[3] = affine_transform_point(width, height)\n",
    "\n",
    "#     the rightmost (biggest by value) x-coordinate of the transformed\n",
    "#     left-top and left-bottom x-coordinates\n",
    "x0 = int( max(aff_coord[0, 0], aff_coord[2, 0]) )\n",
    "#     the lowermost (biggest by value) y-coordinate of the transformed\n",
    "#     left-top and right-top y-coordinates\n",
    "y0 = int( max(aff_coord[0, 1], aff_coord[1, 1]) )\n",
    "#     the leftmost (smallest by value) x-coordinate of the transformed\n",
    "#     right-top and right-bottom x-coordinates\n",
    "x1 = int( min(aff_coord[1, 0], aff_coord[3, 0]) )\n",
    "#     the uppermost (smallest by value) y-coordinate of the transformed\n",
    "#     left-bottom and right-bottom y-coordinates\n",
    "y1 = int( min(aff_coord[2, 1], aff_coord[3, 1]) )\n",
    "\n",
    "#     n_x0 -- x-coordinate of the new left-bot point\n",
    "n_x0 = int( max(0, x0) )\n",
    "#     n_y0 -- y-coordinate of the new left-bot point\n",
    "n_y0 = int( max(0, y0) )\n",
    "#     n_x1 -- x-coordinate of the new right-top point\n",
    "n_x1 = int( min(width, x1) )\n",
    "#     n_y1 -- y-coordinate of the new right-top point\n",
    "n_y1 = int( min(height, y1) )\n",
    "\n",
    "nw = n_x1 - n_x0 # new width\n",
    "nh = n_y1 - n_y0 # new height"
   ]
  },
  {
   "cell_type": "code",
   "execution_count": 17,
   "metadata": {},
   "outputs": [],
   "source": [
    "z = align_coeffs\n",
    "\n",
    "a = float(z[0])\n",
    "b = float(z[1])\n",
    "c = float(z[2])\n",
    "d = float(z[3])\n",
    "e = float(z[4])\n",
    "f = float(z[5])\n",
    "if consider_distort:\n",
    "    eps1 = float(z[6])\n",
    "    eps2 = float(z[7])\n",
    "data = (a, b, e, c, d, f) # affine coefficients"
   ]
  },
  {
   "cell_type": "code",
   "execution_count": 18,
   "metadata": {},
   "outputs": [],
   "source": [
    "img_left_n = Image.new('RGB', img_left.size, 'black')\n",
    "img_right_n = Image.new('RGB', img_right.size, 'black')\n",
    "nl_pix = img_left_n.load()\n",
    "nr_pix = img_right_n.load()"
   ]
  },
  {
   "cell_type": "code",
   "execution_count": 19,
   "metadata": {
    "collapsed": true
   },
   "outputs": [],
   "source": [
    "if consider_distort:\n",
    "    # Get rid of distortions on nlImg\n",
    "    \n",
    "    for i in xrange(width): # xi\n",
    "        for j in xrange(height): # eta\n",
    "            dist_l = (i-x_c)**2 + (j-y_c)**2\n",
    "\n",
    "            zx1 = (i - x_c) * dist_l\n",
    "            zy1 = (j - y_c) * dist_l\n",
    "\n",
    "            nl_pix[round(i - eps1*zx1), round(j - eps2*zy1)] = l_pix[i, j]\n",
    "    \n",
    "    # Get rid of distortions on nrImg\n",
    "\n",
    "    for i in xrange(width): # xi\n",
    "        for j in xrange(height): # eta\n",
    "            dist_r = (i-x_c)**2 + (j-y_c)**2\n",
    "\n",
    "            zx2 = (i - x_c) * dist_r\n",
    "            zy2 = (j - y_c) * dist_r\n",
    "\n",
    "            nr_pix[round(i - eps1*zx2), round(j - eps2*zy2)] = r_pix[i, j]\n"
   ]
  },
  {
   "cell_type": "code",
   "execution_count": 20,
   "metadata": {},
   "outputs": [],
   "source": [
    "# img_left_n, img_right_n = apply_affine(img_left, img_right)\n",
    "img_left_n = img_left\n",
    "img_right_n = img_right.transform(img_right.size, Image.AFFINE , \n",
    "                                data=(a,b,e,c,d,f), resample=Image.BICUBIC)"
   ]
  },
  {
   "cell_type": "code",
   "execution_count": 21,
   "metadata": {},
   "outputs": [
    {
     "name": "stdout",
     "output_type": "stream",
     "text": [
      "New width, height: (3112, 2328)\n"
     ]
    }
   ],
   "source": [
    "print \"New width, height:\", img_left_n.size"
   ]
  },
  {
   "cell_type": "code",
   "execution_count": 22,
   "metadata": {},
   "outputs": [],
   "source": [
    "Image.blend(img_left, img_right, alpha=0.5).save(res_folder + date[:-4] + '_blend_init' + \".jpg\")\n",
    "if consider_distort:\n",
    "    Image.blend(img_left_n, img_right_n, alpha=0.5).save(res_folder + date[:-4] + '_blend_dist' + \".jpg\")\n",
    "else:\n",
    "    Image.blend(img_left_n, img_right_n, alpha=0.5).save(res_folder + date[:-4] + '_blend_aff' + \".jpg\")"
   ]
  },
  {
   "cell_type": "code",
   "execution_count": 23,
   "metadata": {},
   "outputs": [
    {
     "name": "stdout",
     "output_type": "stream",
     "text": [
      "Script running time: 29.7935979366\n"
     ]
    }
   ],
   "source": [
    "print \"Script running time:\", time() - start_time"
   ]
  },
  {
   "cell_type": "code",
   "execution_count": 24,
   "metadata": {},
   "outputs": [
    {
     "name": "stdout",
     "output_type": "stream",
     "text": [
      "[   0.9929384443    0.0081163571   -0.0096512692    1.0092245819\n",
      "  244.1666666667   37.6666666667]\n"
     ]
    }
   ],
   "source": [
    "print align_coeffs"
   ]
  },
  {
   "cell_type": "code",
   "execution_count": null,
   "metadata": {
    "collapsed": true
   },
   "outputs": [],
   "source": []
  }
 ],
 "metadata": {
  "kernelspec": {
   "display_name": "Python 3",
   "language": "python",
   "name": "python3"
  },
  "language_info": {
   "codemirror_mode": {
    "name": "ipython",
    "version": 3
   },
   "file_extension": ".py",
   "mimetype": "text/x-python",
   "name": "python",
   "nbconvert_exporter": "python",
   "pygments_lexer": "ipython3",
   "version": "3.6.4"
  }
 },
 "nbformat": 4,
 "nbformat_minor": 1
}
