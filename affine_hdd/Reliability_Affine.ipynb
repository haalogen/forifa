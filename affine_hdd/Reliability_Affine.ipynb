{
 "cells": [
  {
   "cell_type": "code",
   "execution_count": 50,
   "metadata": {
    "collapsed": true
   },
   "outputs": [],
   "source": [
    "import numpy as np\n",
    "\n",
    "np.set_printoptions(precision=2, suppress=True)"
   ]
  },
  {
   "cell_type": "code",
   "execution_count": 51,
   "metadata": {},
   "outputs": [
    {
     "name": "stdout",
     "output_type": "stream",
     "text": [
      "[[    1.    82.   255.   135.]\n",
      " [  300.   368.   549.   410.]\n",
      " [  478.   449.   726.   489.]\n",
      " [  766.   382.  1012.   418.]\n",
      " [   66.   284.   320.   330.]]\n"
     ]
    }
   ],
   "source": [
    "fname_coords = 'data/real_stars_3072/20160507_000119_unmod_stars_coords'\n",
    "coords = np.loadtxt(fname_coords)\n",
    "\n",
    "coords /= 5\n",
    "coords = coords.round()\n",
    "print coords"
   ]
  },
  {
   "cell_type": "code",
   "execution_count": 52,
   "metadata": {},
   "outputs": [
    {
     "name": "stdout",
     "output_type": "stream",
     "text": [
      "5 4\n"
     ]
    }
   ],
   "source": [
    "lX = coords[:, 0] # leftX coordinates\n",
    "lY = coords[:, 1] # leftY coordinates\n",
    "rX = coords[:, 2] # rightX coordinates\n",
    "rY = coords[:, 3] # rightY coordinates\n",
    "\n",
    "N = coords.shape[0] # number of pairs of points\n",
    "M = coords.shape[1] # lX, lY, rX, rY == 4\n",
    "print N, M"
   ]
  },
  {
   "cell_type": "code",
   "execution_count": 53,
   "metadata": {},
   "outputs": [
    {
     "name": "stdout",
     "output_type": "stream",
     "text": [
      "Input coordinates from 'data/real_stars_3072/20160507_000119_unmod_stars_coords': \n",
      "[[    1.    82.   255.   135.]\n",
      " [  300.   368.   549.   410.]\n",
      " [  478.   449.   726.   489.]\n",
      " [  766.   382.  1012.   418.]\n",
      " [   66.   284.   320.   330.]] \n",
      "\n"
     ]
    }
   ],
   "source": [
    "print 'Input coordinates from %r: \\n' % fname_coords, coords, '\\n'"
   ]
  },
  {
   "cell_type": "code",
   "execution_count": 54,
   "metadata": {
    "collapsed": true
   },
   "outputs": [],
   "source": [
    "xi = np.zeros(2*N)\n",
    "z = np.zeros(6)\n",
    "arr = np.zeros((2*N, 6)) # matrix A"
   ]
  },
  {
   "cell_type": "code",
   "execution_count": 55,
   "metadata": {
    "collapsed": true
   },
   "outputs": [],
   "source": [
    "for i in xrange(N): # fill the xi vector\n",
    "    xi[2*i] = rX[i]\n",
    "    xi[2*i + 1] = rY[i]"
   ]
  },
  {
   "cell_type": "code",
   "execution_count": 56,
   "metadata": {
    "collapsed": true
   },
   "outputs": [],
   "source": [
    "for i in xrange(N): # fill the A matrix\n",
    "    arr[2*i] = [lX[i], lY[i], 0, 0, 1, 0]\n",
    "    \n",
    "    arr[2*i + 1] = [0, 0, lX[i], lY[i], 0, 1]"
   ]
  },
  {
   "cell_type": "code",
   "execution_count": 57,
   "metadata": {},
   "outputs": [
    {
     "name": "stdout",
     "output_type": "stream",
     "text": [
      "A:\n",
      "[[   1.   82.    0.    0.    1.    0.]\n",
      " [   0.    0.    1.   82.    0.    1.]\n",
      " [ 300.  368.    0.    0.    1.    0.]\n",
      " [   0.    0.  300.  368.    0.    1.]\n",
      " [ 478.  449.    0.    0.    1.    0.]\n",
      " [   0.    0.  478.  449.    0.    1.]\n",
      " [ 766.  382.    0.    0.    1.    0.]\n",
      " [   0.    0.  766.  382.    0.    1.]\n",
      " [  66.  284.    0.    0.    1.    0.]\n",
      " [   0.    0.   66.  284.    0.    1.]] \n",
      "\n",
      "xi:\n",
      "[  255.   135.   549.   410.   726.   489.  1012.   418.   320.   330.]\n"
     ]
    }
   ],
   "source": [
    "print 'A:\\n', arr, '\\n'\n",
    "print 'xi:\\n', xi"
   ]
  },
  {
   "cell_type": "code",
   "execution_count": 58,
   "metadata": {
    "collapsed": true
   },
   "outputs": [],
   "source": [
    "from numpy.linalg import norm, pinv"
   ]
  },
  {
   "cell_type": "code",
   "execution_count": 59,
   "metadata": {},
   "outputs": [
    {
     "name": "stdout",
     "output_type": "stream",
     "text": [
      "Probability: 0.541174105721\n",
      "Sigma theory: 1.35935063973\n",
      "Sigma practice 2\n"
     ]
    }
   ],
   "source": [
    "sigma = 2 # 2 pix error\n",
    "I = np.eye(2*N)\n",
    "p_arr = pinv(arr)\n",
    "# print 'cond(A): ', np.linalg.cond(arr)\n",
    "# print norm( np.dot(I - np.dot(arr, p_arr), xi) )\n",
    "proba = (2*N - 6) / norm( np.dot(I - np.dot(arr, p_arr), xi) )**2\n",
    "sig_theory = (1 / proba)**0.5\n",
    "\n",
    "print 'Probability:', proba\n",
    "print 'Sigma theory:', sig_theory\n",
    "print 'Sigma practice', sigma"
   ]
  },
  {
   "cell_type": "code",
   "execution_count": null,
   "metadata": {
    "collapsed": true
   },
   "outputs": [],
   "source": []
  }
 ],
 "metadata": {
  "kernelspec": {
   "display_name": "Python 3",
   "language": "python",
   "name": "python3"
  },
  "language_info": {
   "codemirror_mode": {
    "name": "ipython",
    "version": 3
   },
   "file_extension": ".py",
   "mimetype": "text/x-python",
   "name": "python",
   "nbconvert_exporter": "python",
   "pygments_lexer": "ipython3",
   "version": "3.6.4"
  }
 },
 "nbformat": 4,
 "nbformat_minor": 1
}
