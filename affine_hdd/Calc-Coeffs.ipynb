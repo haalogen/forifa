{
 "cells": [
  {
   "cell_type": "code",
   "execution_count": 1,
   "metadata": {
    "collapsed": true
   },
   "outputs": [],
   "source": [
    "import os\n",
    "from PIL import Image\n",
    "import numpy as np\n",
    "import matplotlib.pyplot as plt\n",
    "from numpy.linalg import norm, pinv\n",
    "%matplotlib inline\n",
    "np.set_printoptions(precision=12, suppress=True)"
   ]
  },
  {
   "cell_type": "code",
   "execution_count": 2,
   "metadata": {
    "collapsed": true
   },
   "outputs": [],
   "source": [
    "consider_distort = False # flag whether to consider distortion\n",
    "zoomed_coords = True # whether to divide coordinates by SCALE_FAC or not (zoomed coords or not)\n",
    "center_only = True # use only central stars\n",
    "SCALE_FAC = 4.0 # Scale factor of coordinates"
   ]
  },
  {
   "cell_type": "code",
   "execution_count": 3,
   "metadata": {
    "collapsed": true
   },
   "outputs": [],
   "source": [
    "coords_folder = 'data/star_coords/2016nov-11_txt/' # folder with coords files\n",
    "images_folder = 'data/stars/2016nov-11/'\n",
    "results_folder = 'results/2016nov-11/'"
   ]
  },
  {
   "cell_type": "code",
   "execution_count": 4,
   "metadata": {
    "collapsed": true
   },
   "outputs": [],
   "source": [
    "# 20160218\n",
    "# fnames = [\n",
    "#     '20160218-201934-437.txt',\n",
    "#     '20160218-211934-484.txt'\n",
    "# ]\n",
    "\n",
    "# 20160219\n",
    "# fnames = [\n",
    "#     '20160219-001934-484.txt',\n",
    "#     '20160219-021934-593.txt',\n",
    "#     '20160219-041934-593.txt'\n",
    "# ]\n",
    "\n",
    "# 20160311\n",
    "# fnames = [\n",
    "#     '20160311-020811-125.txt',\n",
    "#     '20160311-030811-125.txt'\n",
    "# ]\n",
    "\n",
    "# 2016nov-11 jpg\n",
    "fnames = [\n",
    "    \"20161122-191517-359.txt\",\n",
    "    \"20161122-201517-375.txt\",\n",
    "    \"20161122-211517-375.txt\",\n",
    "    \"20161122-221517-375.txt\"\n",
    "]"
   ]
  },
  {
   "cell_type": "code",
   "execution_count": 5,
   "metadata": {
    "collapsed": false
   },
   "outputs": [],
   "source": [
    "date = fnames[0][:-4]\n",
    "print date"
   ]
  },
  {
   "cell_type": "code",
   "execution_count": 6,
   "metadata": {
    "collapsed": false
   },
   "outputs": [],
   "source": [
    "if consider_distort:\n",
    "    print \"consider_distort is True!\""
   ]
  },
  {
   "cell_type": "code",
   "execution_count": 7,
   "metadata": {
    "collapsed": false
   },
   "outputs": [
    {
     "name": "stdout",
     "output_type": "stream",
     "text": [
      "Image size: 3072 2304\n"
     ]
    }
   ],
   "source": [
    "im = Image.open(images_folder + \"mod_\" + date + \"-1.jpg\")\n",
    "w, h = im.size\n",
    "print \"Image size:\", w, h"
   ]
  },
  {
   "cell_type": "code",
   "execution_count": 8,
   "metadata": {
    "collapsed": false
   },
   "outputs": [
    {
     "name": "stdout",
     "output_type": "stream",
     "text": [
      "x_c, y_c: 1536 1152\n",
      "CENTER_RAD: 576\n"
     ]
    }
   ],
   "source": [
    "CENTER_RAD = h/4 # radius(px) of central part\n",
    "x_c, y_c = w/2, h/2 # central point of img\n",
    "print 'x_c, y_c:', x_c, y_c\n",
    "print 'CENTER_RAD:', CENTER_RAD"
   ]
  },
  {
   "cell_type": "code",
   "execution_count": 9,
   "metadata": {
    "collapsed": false
   },
   "outputs": [
    {
     "name": "stdout",
     "output_type": "stream",
     "text": [
      "Zoomed In Star coordinates pairs:\n",
      "[[  5734.   6266.   6711.   6411.]\n",
      " [  6490.   6723.   7468.   6866.]\n",
      " [  5934.   7360.   6910.   7507.]\n",
      " [  6209.   7975.   7190.   8129.]\n",
      " [  9774.   8478.  10880.   8711.]\n",
      " [ 10446.   6163.  11559.   6314.]\n",
      " [ 10446.   3421.  11514.   3477.]\n",
      " [  8961.   1184.   9917.   1233.]\n",
      " [  2774.    834.   3744.   1098.]\n",
      " [  2590.   4247.   3603.   4430.]\n",
      " [  3413.   3882.   4398.   4059.]\n",
      " [  4925.   5164.   5897.   5313.]\n",
      " [  5752.   5441.   6722.   5588.]\n",
      " [  5350.   6173.   6327.   6316.]\n",
      " [  5744.   6692.   6720.   6837.]\n",
      " [   559.    205.   1675.    599.]\n",
      " [  1301.   3859.   2372.   4068.]\n",
      " [  2059.   3306.   3090.   3523.]\n",
      " [  9154.   6391.  10192.   6543.]\n",
      " [  9394.   4114.  10417.   4210.]\n",
      " [  8940.   1459.   9900.   1517.]\n",
      " [  7235.   7108.   8228.   7262.]\n",
      " [  8046.   7445.   9058.   7613.]\n",
      " [  9455.   6441.  10512.   6595.]\n",
      " [  8230.   4581.   9217.   4702.]\n",
      " [  8051.   2332.   9002.   2428.]\n",
      " [  3890.   4262.   4866.   4428.]\n",
      " [  4766.   4356.   5731.   4514.]\n",
      " [  4529.   5156.   5502.   5309.]\n",
      " [  5024.   5572.   5997.   5718.]\n",
      " [  6547.   5651.   7519.   5793.]\n",
      " [  7381.   5800.   8364.   5941.]\n",
      " [  8521.   4567.   9515.   4687.]\n",
      " [  7012.   3011.   7956.   3135.]\n",
      " [  6410.    798.   7310.    938.]\n",
      " [  2642.   3587.   3646.   3783.]\n",
      " [  3550.   3494.   4525.   3677.]\n",
      " [  3494.   4341.   4482.   4510.]\n",
      " [  4077.   4641.   5056.   4802.]] \n",
      "\n",
      "Normal Star coordinates pairs:\n",
      "[[ 1434.  1566.  1678.  1603.]\n",
      " [ 1622.  1681.  1867.  1716.]\n",
      " [ 1484.  1840.  1728.  1877.]\n",
      " [ 1552.  1994.  1798.  2032.]\n",
      " [ 2444.  2120.  2720.  2178.]\n",
      " [ 2612.  1541.  2890.  1578.]\n",
      " [ 2612.   855.  2878.   869.]\n",
      " [ 2240.   296.  2479.   308.]\n",
      " [  694.   208.   936.   274.]\n",
      " [  648.  1062.   901.  1108.]\n",
      " [  853.   970.  1100.  1015.]\n",
      " [ 1231.  1291.  1474.  1328.]\n",
      " [ 1438.  1360.  1680.  1397.]\n",
      " [ 1338.  1543.  1582.  1579.]\n",
      " [ 1436.  1673.  1680.  1709.]\n",
      " [  140.    51.   419.   150.]\n",
      " [  325.   965.   593.  1017.]\n",
      " [  515.   826.   772.   881.]\n",
      " [ 2288.  1598.  2548.  1636.]\n",
      " [ 2348.  1028.  2604.  1052.]\n",
      " [ 2235.   365.  2475.   379.]\n",
      " [ 1809.  1777.  2057.  1816.]\n",
      " [ 2012.  1861.  2264.  1903.]\n",
      " [ 2364.  1610.  2628.  1649.]\n",
      " [ 2058.  1145.  2304.  1176.]\n",
      " [ 2013.   583.  2250.   607.]\n",
      " [  972.  1066.  1216.  1107.]\n",
      " [ 1192.  1089.  1433.  1128.]\n",
      " [ 1132.  1289.  1376.  1327.]\n",
      " [ 1256.  1393.  1499.  1430.]\n",
      " [ 1637.  1413.  1880.  1448.]\n",
      " [ 1845.  1450.  2091.  1485.]\n",
      " [ 2130.  1142.  2379.  1172.]\n",
      " [ 1753.   753.  1989.   784.]\n",
      " [ 1602.   200.  1828.   234.]\n",
      " [  660.   897.   912.   946.]\n",
      " [  888.   874.  1131.   919.]\n",
      " [  874.  1085.  1120.  1128.]\n",
      " [ 1019.  1160.  1264.  1200.]]\n",
      "[ 1434.  1566.  1678.  1603.]\n",
      "[ 1231.  1291.  1474.  1328.]\n",
      "[ 1438.  1360.  1680.  1397.]\n",
      "[ 1338.  1543.  1582.  1579.]\n",
      "[ 1436.  1673.  1680.  1709.]\n",
      "[  972.  1066.  1216.  1107.]\n",
      "[ 1192.  1089.  1433.  1128.]\n",
      "[ 1132.  1289.  1376.  1327.]\n",
      "[ 1256.  1393.  1499.  1430.]\n",
      "[ 1637.  1413.  1880.  1448.]\n",
      "[ 1019.  1160.  1264.  1200.]\n",
      "Normal Star coordinates pairs in center:\n",
      "[[ 1434.  1566.  1678.  1603.]\n",
      " [ 1231.  1291.  1474.  1328.]\n",
      " [ 1438.  1360.  1680.  1397.]\n",
      " [ 1338.  1543.  1582.  1579.]\n",
      " [ 1436.  1673.  1680.  1709.]\n",
      " [  972.  1066.  1216.  1107.]\n",
      " [ 1192.  1089.  1433.  1128.]\n",
      " [ 1132.  1289.  1376.  1327.]\n",
      " [ 1256.  1393.  1499.  1430.]\n",
      " [ 1637.  1413.  1880.  1448.]\n",
      " [ 1019.  1160.  1264.  1200.]]\n"
     ]
    }
   ],
   "source": [
    "coords_list = []\n",
    "for fname in fnames:\n",
    "    piece = np.loadtxt(coords_folder + os.sep + fname)\n",
    "    coords_list.append(piece)\n",
    "\n",
    "coords = np.vstack(coords_list)\n",
    "print 'Zoomed In Star coordinates pairs:\\n', coords, '\\n'\n",
    "\n",
    "if zoomed_coords:\n",
    "    coords /= float(SCALE_FAC)\n",
    "    coords = coords.round()\n",
    "    print 'Normal Star coordinates pairs:\\n', coords\n",
    "\n",
    "\n",
    "if center_only:\n",
    "    coords_center = []\n",
    "    \n",
    "    for i in xrange(coords.shape[0]):\n",
    "        _lx = coords[i, 0]\n",
    "        _ly = coords[i, 1]\n",
    "        _rx = coords[i, 2]\n",
    "        _ry = coords[i, 3]\n",
    "        if \\\n",
    "        (_lx - x_c)**2 + (_ly - y_c)**2 <= CENTER_RAD**2 and \\\n",
    "        (_rx - x_c)**2 + (_ry - y_c)**2 <= CENTER_RAD**2:\n",
    "            print coords[i]\n",
    "            coords_center.append(coords[i])\n",
    "    \n",
    "    coords = np.vstack(coords_center)\n",
    "    print 'Normal Star coordinates pairs in center:\\n', coords"
   ]
  },
  {
   "cell_type": "code",
   "execution_count": 10,
   "metadata": {
    "collapsed": false
   },
   "outputs": [
    {
     "name": "stdout",
     "output_type": "stream",
     "text": [
      "Number of Star coordinates pairs: 11\n"
     ]
    }
   ],
   "source": [
    "lX = coords[:, 0] # leftX coordinates\n",
    "lY = coords[:, 1] # leftY coordinates\n",
    "rX = coords[:, 2] # rightX coordinates\n",
    "rY = coords[:, 3] # rightY coordinates\n",
    "\n",
    "N = coords.shape[0] # number of pairs of points\n",
    "M = coords.shape[1] # lX, lY, rX, rY == 4\n",
    "print 'Number of Star coordinates pairs:', N"
   ]
  },
  {
   "cell_type": "code",
   "execution_count": 11,
   "metadata": {
    "collapsed": false
   },
   "outputs": [
    {
     "name": "stdout",
     "output_type": "stream",
     "text": [
      "Number of coefficients: 6\n"
     ]
    }
   ],
   "source": [
    "xi = np.zeros(2*N)\n",
    "\n",
    "num_coeffs = 6\n",
    "if consider_distort:\n",
    "    num_coeffs = 8\n",
    "\n",
    "z = np.zeros(num_coeffs)\n",
    "arr = np.zeros((2*N, num_coeffs)) # matrix A\n",
    "print 'Number of coefficients:', num_coeffs"
   ]
  },
  {
   "cell_type": "code",
   "execution_count": 12,
   "metadata": {
    "collapsed": true
   },
   "outputs": [],
   "source": [
    "for i in xrange(N): # fill the xi vector\n",
    "    xi[2*i] = rX[i]\n",
    "    xi[2*i + 1] = rY[i]"
   ]
  },
  {
   "cell_type": "code",
   "execution_count": 13,
   "metadata": {
    "collapsed": false
   },
   "outputs": [],
   "source": [
    "if consider_distort:\n",
    "    im = Image.open('data/stars/2016nov-11/mod_'+ date +'-1.jpg')\n",
    "    x_c = im.width / 2.0\n",
    "    y_c = im.height / 2.0\n",
    "    for i in xrange(N): # fill the A matrix\n",
    "        dist_l = (lX[i]-x_c)**2 + (lY[i]-y_c)**2\n",
    "        dist_r = (rX[i]-x_c)**2 + (rY[i]-y_c)**2\n",
    "\n",
    "        zx1 = (lX[i] - x_c) * dist_l\n",
    "        zx2 = (rX[i] - x_c) * dist_r\n",
    "        arr[2*i] = [lX[i], lY[i], 0, 0, 1, 0, -zx1, zx2]\n",
    "\n",
    "        zy1 = (lY[i] - y_c) * dist_l\n",
    "        zy2 = (rY[i] - y_c) * dist_r\n",
    "        arr[2*i + 1] = [0, 0, lX[i], lY[i], 0, 1, -zy1, zy2]\n",
    "\n",
    "else:\n",
    "    for i in xrange(N): # fill the A matrix\n",
    "        arr[2*i] = [lX[i], lY[i], 0, 0, 1, 0]\n",
    "\n",
    "        arr[2*i + 1] = [0, 0, lX[i], lY[i], 0, 1]"
   ]
  },
  {
   "cell_type": "code",
   "execution_count": 14,
   "metadata": {
    "collapsed": false
   },
   "outputs": [
    {
     "name": "stdout",
     "output_type": "stream",
     "text": [
      "A:\n",
      "[[ 1434.  1566.     0.     0.     1.     0.]\n",
      " [    0.     0.  1434.  1566.     0.     1.]\n",
      " [ 1231.  1291.     0.     0.     1.     0.]\n",
      " [    0.     0.  1231.  1291.     0.     1.]\n",
      " [ 1438.  1360.     0.     0.     1.     0.]\n",
      " [    0.     0.  1438.  1360.     0.     1.]\n",
      " [ 1338.  1543.     0.     0.     1.     0.]\n",
      " [    0.     0.  1338.  1543.     0.     1.]\n",
      " [ 1436.  1673.     0.     0.     1.     0.]\n",
      " [    0.     0.  1436.  1673.     0.     1.]\n",
      " [  972.  1066.     0.     0.     1.     0.]\n",
      " [    0.     0.   972.  1066.     0.     1.]\n",
      " [ 1192.  1089.     0.     0.     1.     0.]\n",
      " [    0.     0.  1192.  1089.     0.     1.]\n",
      " [ 1132.  1289.     0.     0.     1.     0.]\n",
      " [    0.     0.  1132.  1289.     0.     1.]\n",
      " [ 1256.  1393.     0.     0.     1.     0.]\n",
      " [    0.     0.  1256.  1393.     0.     1.]\n",
      " [ 1637.  1413.     0.     0.     1.     0.]\n",
      " [    0.     0.  1637.  1413.     0.     1.]\n",
      " [ 1019.  1160.     0.     0.     1.     0.]\n",
      " [    0.     0.  1019.  1160.     0.     1.]] \n",
      "\n",
      "xi:\n",
      "[ 1678.  1603.  1474.  1328.  1680.  1397.  1582.  1579.  1680.  1709.\n",
      "  1216.  1107.  1433.  1128.  1376.  1327.  1499.  1430.  1880.  1448.\n",
      "  1264.  1200.]\n"
     ]
    }
   ],
   "source": [
    "np.set_printoptions(precision=2, suppress=True)\n",
    "print 'A:\\n', arr, '\\n'\n",
    "print 'xi:\\n', xi\n",
    "np.set_printoptions(precision=12, suppress=True)"
   ]
  },
  {
   "cell_type": "code",
   "execution_count": 15,
   "metadata": {
    "collapsed": false
   },
   "outputs": [
    {
     "name": "stdout",
     "output_type": "stream",
     "text": [
      "Affine coefficients: \n",
      "[   0.994584811709    0.005414098002   -0.005898167513    0.996847255626\n",
      "  242.991951858725   49.351988560586]\n"
     ]
    }
   ],
   "source": [
    "p_arr = pinv(arr)\n",
    "z = np.dot(p_arr, xi)\n",
    "print 'Affine coefficients: \\n', z"
   ]
  },
  {
   "cell_type": "code",
   "execution_count": 16,
   "metadata": {
    "collapsed": false,
    "scrolled": true
   },
   "outputs": [
    {
     "name": "stdout",
     "output_type": "stream",
     "text": [
      "cond(A):  14193.6488464\n",
      "Probability: 1.49262968131\n",
      "Sigma theory: 0.81850995023\n",
      "Sigma practice 2\n"
     ]
    }
   ],
   "source": [
    "sigma = 2 # 2 pix error\n",
    "I = np.eye(2*N)\n",
    "\n",
    "print 'cond(A): ', np.linalg.cond(arr)\n",
    "proba = (2*N - num_coeffs) / norm( np.dot(I - np.dot(arr, p_arr), xi) )**2\n",
    "sig_theory = (1 / proba)**0.5\n",
    "\n",
    "print 'Probability:', proba\n",
    "print 'Sigma theory:', sig_theory\n",
    "print 'Sigma practice', sigma"
   ]
  },
  {
   "cell_type": "code",
   "execution_count": 17,
   "metadata": {
    "collapsed": false
   },
   "outputs": [],
   "source": [
    "a = float(z[0])\n",
    "b = float(z[1])\n",
    "c = float(z[2])\n",
    "d = float(z[3])\n",
    "e = float(z[4])\n",
    "f = float(z[5])\n",
    "if consider_distort:\n",
    "    eps1 = float(z[6])\n",
    "    eps2 = float(z[7])"
   ]
  },
  {
   "cell_type": "code",
   "execution_count": 18,
   "metadata": {
    "collapsed": true
   },
   "outputs": [],
   "source": [
    "if consider_distort:\n",
    "    # Get rid of distortions on nlImg\n",
    "    for i in xrange(N): \n",
    "        dist_l = (lX[i] - x_c)**2 + (lY[i] - y_c)**2\n",
    "\n",
    "        zx1 = (lX[i] - x_c) * dist_l\n",
    "        zy1 = (lY[i] - y_c) * dist_l\n",
    "\n",
    "#         lX[round(i - eps1*zx1), round(j - eps2*zy1)] = l_pix[i, j]\n",
    "        lX[i] = lX[i] - eps1 * zx1\n",
    "        lY[i] = lY[i] - eps1 * zy1\n",
    "    \n",
    "    \n",
    "    # Get rid of distortions on nrImg\n",
    "\n",
    "    for i in xrange(N): \n",
    "        dist_r = (rX[i] - x_c)**2 + (rY[i] - y_c)**2\n",
    "\n",
    "        zx2 = (rX[i] - x_c) * dist_r\n",
    "        zy2 = (rY[i] - y_c) * dist_r\n",
    "\n",
    "#             nr_pix[round(i - eps1*zx2), round(j - eps2*zy2)] = r_pix[i, j]\n",
    "        rX[i] = rX[i] - eps2 * zx2\n",
    "        rY[i] = rY[i] - eps2 * zy2\n"
   ]
  },
  {
   "cell_type": "code",
   "execution_count": 19,
   "metadata": {
    "collapsed": true
   },
   "outputs": [],
   "source": [
    "def affine_transform_point(x, y):\n",
    "    return [b * y + x * a + e , d * y + x * c + f]"
   ]
  },
  {
   "cell_type": "code",
   "execution_count": 20,
   "metadata": {
    "collapsed": true
   },
   "outputs": [],
   "source": [
    "# Calc new (affine transformed) points\n",
    "for i in xrange(N): \n",
    "    lX[i], lY[i] = affine_transform_point(lX[i], lY[i])"
   ]
  },
  {
   "cell_type": "code",
   "execution_count": 21,
   "metadata": {
    "collapsed": false
   },
   "outputs": [
    {
     "name": "stdout",
     "output_type": "stream",
     "text": [
      "mse_dist: 0.987160142577\n",
      "mse_x: 0.769067858258\n",
      "max_d: 1.43736763755\n"
     ]
    }
   ],
   "source": [
    "mse_dist = 0 # MSE of distance\n",
    "mse_x = 0 # MSE of x\n",
    "max_d = 0 # Max of distance error\n",
    "\n",
    "# alignment errors (px) = sqrt( (lX[i] - rX[i])**2 + (lY[i] - rY[i])**2 )\n",
    "align_errs = np.zeros(N) \n",
    "dists = np.zeros(N) # distance from (x_c, y_c) to lX[i], lY[i]\n",
    "\n",
    "for i in xrange(N):\n",
    "    mse_dist += (lX[i] - rX[i])**2 + (lY[i] - rY[i])**2\n",
    "    mse_x += (lX[i] - rX[i])**2\n",
    "    \n",
    "    align_errs[i] = np.sqrt((lX[i] - rX[i])**2 + (lY[i] - rY[i])**2)\n",
    "    dists[i] = np.sqrt((lX[i] - x_c)**2 + (lY[i] - y_c)**2)\n",
    "    \n",
    "    if (lX[i] - rX[i])**2 + (lY[i] - rY[i])**2 > max_d:\n",
    "        max_d = (lX[i] - rX[i])**2 + (lY[i] - rY[i])**2\n",
    "\n",
    "mse_dist = (1.0 * mse_dist / N)**0.5\n",
    "mse_x = (1.0 * mse_x / N)**0.5\n",
    "max_d = max_d**0.5\n",
    "\n",
    "print 'mse_dist:', mse_dist\n",
    "print 'mse_x:', mse_x\n",
    "print 'max_d:', max_d"
   ]
  },
  {
   "cell_type": "code",
   "execution_count": 22,
   "metadata": {
    "collapsed": true
   },
   "outputs": [],
   "source": [
    "res_fname = results_folder\n",
    "\n",
    "if center_only:\n",
    "    res_fname += 'center_only_CenRad' + str(CENTER_RAD) +\"_\"\n",
    "\n",
    "if consider_distort:\n",
    "    res_fname += 'affdis_coeffs_shots'\n",
    "else:\n",
    "    res_fname += 'affine_coeffs_shots'\n",
    "\n",
    "\n",
    "res_fname += str(len(fnames)) + '_' + fnames[0]"
   ]
  },
  {
   "cell_type": "code",
   "execution_count": 23,
   "metadata": {
    "collapsed": false
   },
   "outputs": [
    {
     "name": "stdout",
     "output_type": "stream",
     "text": [
      "Coeffs are saved to: results/2016nov-11/center_only_CenRad576_affine_coeffs_shots4_20161122-191517-359.txt\n"
     ]
    }
   ],
   "source": [
    "np.savetxt(res_fname, z, fmt=\"%.12f\")\n",
    "print 'Coeffs are saved to:', res_fname"
   ]
  },
  {
   "cell_type": "code",
   "execution_count": 24,
   "metadata": {
    "collapsed": false
   },
   "outputs": [
    {
     "data": {
      "image/png": "[encoded data removed]",
      "text/plain": [
       "<matplotlib.figure.Figure at 0x7fa06fc7f210>"
      ]
     },
     "metadata": {},
     "output_type": "display_data"
    }
   ],
   "source": [
    "if center_only:\n",
    "    plt.figure(figsize=(8,6))\n",
    "    plt.plot(dists, align_errs, 'o')\n",
    "    plt.xlabel('Distance from center point to (lX[i], lY[i]), px')\n",
    "    plt.ylabel('Alignment error distance, px')\n",
    "    plt.savefig(res_fname[:-4] + '_plot_AlignErr_from_Distance')"
   ]
  },
  {
   "cell_type": "code",
   "execution_count": null,
   "metadata": {
    "collapsed": true
   },
   "outputs": [],
   "source": []
  }
 ],
 "metadata": {
  "kernelspec": {
   "display_name": "Python 2",
   "language": "python",
   "name": "python2"
  },
  "language_info": {
   "codemirror_mode": {
    "name": "ipython",
    "version": 2
   },
   "file_extension": ".py",
   "mimetype": "text/x-python",
   "name": "python",
   "nbconvert_exporter": "python",
   "pygments_lexer": "ipython2",
   "version": "2.7.13"
  }
 },
 "nbformat": 4,
 "nbformat_minor": 0
}
